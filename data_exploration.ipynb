{
 "cells": [
  {
   "cell_type": "markdown",
   "metadata": {},
   "source": [
    "# Exploring spatio-temporal events using public soccer-logs"
   ]
  },
  {
   "cell_type": "markdown",
   "metadata": {},
   "source": [
    "All the material of this tutorial can be found in:\n",
    "- https://github.com/Friends-of-Tracking-Data-FoTD/mapping-match-events-in-Python\n",
    "- https://github.com/jonpappalord/soccer_logs_exploration\n",
    "\n",
    "The data used in the notebook can be found in: \n",
    "\n",
    "- Pappalardo, Luca; Massucco, Emanuele (2019): Soccer match event dataset. figshare. Collection. https://doi.org/10.6084/m9.figshare.c.4415000.v5\n",
    "\n",
    "A detailed description of the data can be found in the following paper (please cite it if you use the data or the following code):\n",
    "\n",
    "\n",
    "- Pappalardo, L., Cintia, P., Rossi, A. et al. **A public data set of spatio-temporal match events in soccer competitions**. Scientific Data 6, 236 (2019) doi:10.1038/s41597-019-0247-7, https://www.nature.com/articles/s41597-019-0247-7"
   ]
  },
  {
   "cell_type": "markdown",
   "metadata": {
    "heading_collapsed": true
   },
   "source": [
    "## Outline of the notebook\n",
    "\n",
    "1. [Import libraries](#import_libraries)\n",
    "2. [Load public datasets](#load_public_dataset)\n",
    "3. [How are the data collected?](#data_collection)\n",
    "4. [Structure of data](#structure_of_data)\n",
    "    1. [Players](#players)\n",
    "    2. [Competitions](#competitions)\n",
    "    3. [Matches](#matches)\n",
    "    4. [Events](#events) \n",
    "5. [Basic statistics on events](#basic_statistics)\n",
    "    1. [Frequency of events by type](#frequency_by_type)\n",
    "    2. [Distribution of number of events per match](#events_per_match)\n",
    "6. [Plot events on the field](#plot_events_on_field)\n",
    "    1. [Static plot](#static_plot)\n",
    "    2. [Interactive plot](#interactive_plot)\n",
    "7. [Spatial distribution of events](#spatial_distribution_events)\n",
    "8. [Intra-match evolution](#intra_match_evolution)\n",
    "9. [Advanced statistics](#advanced_statistics)\n",
    "    1. [Invasion and acceleration indeces](#invasion_acceleration_index)\n",
    "    2. [Passing networks](#passing_networks)\n",
    "    3. [Flow centrality](#flow_centrality)\n",
    "    4. [PlayeRank](#playerank)"
   ]
  },
  {
   "cell_type": "markdown",
   "metadata": {},
   "source": [
    "## 1. <a id='import_libraries'>Import libraries</a>"
   ]
  },
  {
   "cell_type": "code",
   "execution_count": 1,
   "metadata": {},
   "outputs": [
    {
     "data": {
      "text/html": [
       "        <script type=\"text/javascript\">\n",
       "        window.PlotlyConfig = {MathJaxConfig: 'local'};\n",
       "        if (window.MathJax) {MathJax.Hub.Config({SVG: {font: \"STIX-Web\"}});}\n",
       "        if (typeof require !== 'undefined') {\n",
       "        require.undef(\"plotly\");\n",
       "        requirejs.config({\n",
       "            paths: {\n",
       "                'plotly': ['https://cdn.plot.ly/plotly-latest.min']\n",
       "            }\n",
       "        });\n",
       "        require(['plotly'], function(Plotly) {\n",
       "            window._Plotly = Plotly;\n",
       "        });\n",
       "        }\n",
       "        </script>\n",
       "        "
      ]
     },
     "metadata": {},
     "output_type": "display_data"
    }
   ],
   "source": [
    "%matplotlib inline\n",
    "\n",
    "from utils import *\n",
    "from plot_utils import *\n",
    "from metrics import *\n",
    "\n",
    "import warnings\n",
    "warnings.filterwarnings('ignore')\n",
    "\n",
    "init_notebook_mode(connected=True)"
   ]
  },
  {
   "cell_type": "markdown",
   "metadata": {},
   "source": [
    "## 2. <a id='load_public_dataset'>Load public datasets</a>\n",
    "Here we import the *matches*, *events*, *players*, and *competition* data sets from the <a href=\"https://doi.org/10.6084/m9.figshare.c.4415000.v5\">figshare repository</a>. Data are stored in `.json` format. \n",
    "\n",
    "we set up a script to download the dataset and store it into *data* folder. \n",
    "\n",
    "The data set contains:\n",
    "- 1,941 matches\n",
    "- 3,251,294 events\n",
    "- 4,299 players."
   ]
  },
  {
   "cell_type": "code",
   "execution_count": 2,
   "metadata": {},
   "outputs": [
    {
     "name": "stdout",
     "output_type": "stream",
     "text": [
      "Downloading matches data\n",
      "Downloading teams data\n",
      "Downloading players data\n",
      "Downloading competitions data\n",
      "Downloading events data\n",
      "Download completed\n"
     ]
    }
   ],
   "source": [
    "data_download() # automatic download from public figshare repository"
   ]
  },
  {
   "cell_type": "code",
   "execution_count": 4,
   "metadata": {},
   "outputs": [],
   "source": [
    "match_id2match, match_id2events, player_id2player, competition_id2competition, team_id2team = load_public_dataset()"
   ]
  },
  {
   "cell_type": "code",
   "execution_count": 5,
   "metadata": {},
   "outputs": [
    {
     "data": {
      "text/plain": [
       "['Italian first division',\n",
       " 'English first division',\n",
       " 'Spanish first division',\n",
       " 'French first division',\n",
       " 'German first division',\n",
       " 'European Championship',\n",
       " 'World Cup']"
      ]
     },
     "execution_count": 5,
     "metadata": {},
     "output_type": "execute_result"
    }
   ],
   "source": [
    "[competition['name'] for competition in competition_id2competition.values()]"
   ]
  },
  {
   "cell_type": "markdown",
   "metadata": {
    "heading_collapsed": true
   },
   "source": [
    "## 3. <a id='data_collection'>How are data collected?</a>\n",
    "\n",
    "The process of tagging the soccer events from a match video. **(a)** Screenshot from the tagging software. An action is tagged by an operator via a special custom keyboard, thus creating a new event on the match timeline. **(b)** When the event position on the pitch is set, the shot specific input module appears (top). Event related input modules also appear for setting additional attributes of the occurring event (bottom).\n",
    "More details here: https://www.nature.com/articles/s41597-019-0247-7\n",
    "\n",
    "![Events tagging process](system_figure.jpg \"Events tagging process\")"
   ]
  },
  {
   "cell_type": "markdown",
   "metadata": {
    "heading_collapsed": true
   },
   "source": [
    "## 4. <a id='structure_of_data'>Structure of data<a/>"
   ]
  },
  {
   "cell_type": "markdown",
   "metadata": {
    "hidden": true
   },
   "source": [
    "### 4.A. <a id='players'>Players</a>"
   ]
  },
  {
   "cell_type": "code",
   "execution_count": 6,
   "metadata": {
    "hidden": true
   },
   "outputs": [
    {
     "data": {
      "text/plain": [
       "{'passportArea': {'name': 'Turkey',\n",
       "  'id': '792',\n",
       "  'alpha3code': 'TUR',\n",
       "  'alpha2code': 'TR'},\n",
       " 'weight': 78,\n",
       " 'firstName': 'Harun',\n",
       " 'middleName': '',\n",
       " 'lastName': 'Tekin',\n",
       " 'currentTeamId': 4502,\n",
       " 'birthDate': '1989-06-17',\n",
       " 'height': 187,\n",
       " 'role': {'code2': 'GK', 'code3': 'GKP', 'name': 'Goalkeeper'},\n",
       " 'birthArea': {'name': 'Turkey',\n",
       "  'id': '792',\n",
       "  'alpha3code': 'TUR',\n",
       "  'alpha2code': 'TR'},\n",
       " 'wyId': 32777,\n",
       " 'foot': 'right',\n",
       " 'shortName': 'H. Tekin',\n",
       " 'currentNationalTeamId': 4687}"
      ]
     },
     "execution_count": 6,
     "metadata": {},
     "output_type": "execute_result"
    }
   ],
   "source": [
    "player_id2player[list(player_id2player.keys())[0]]"
   ]
  },
  {
   "cell_type": "code",
   "execution_count": 8,
   "metadata": {
    "hidden": true
   },
   "outputs": [
    {
     "data": {
      "image/png": "[encoded data removed]",
      "text/plain": [
       "<Figure size 432x288 with 1 Axes>"
      ]
     },
     "metadata": {
      "needs_background": "light"
     },
     "output_type": "display_data"
    }
   ],
   "source": [
    "heights = [player['height'] for player in player_id2player.values() if player['height'] > 0]\n",
    "plt.hist(heights, rwidth=0.8)\n",
    "plt.xlabel('height [cm]', fontsize=20)\n",
    "plt.ylabel('frequency', fontsize=20)\n",
    "plt.show()"
   ]
  },
  {
   "cell_type": "markdown",
   "metadata": {
    "hidden": true
   },
   "source": [
    "### 4.B. <a id='competitions'>Competitions</a>"
   ]
  },
  {
   "cell_type": "code",
   "execution_count": 9,
   "metadata": {
    "hidden": true
   },
   "outputs": [
    {
     "data": {
      "text/plain": [
       "{'name': 'Italian first division',\n",
       " 'wyId': 524,\n",
       " 'format': 'Domestic league',\n",
       " 'area': {'name': 'Italy',\n",
       "  'id': '380',\n",
       "  'alpha3code': 'ITA',\n",
       "  'alpha2code': 'IT'},\n",
       " 'type': 'club'}"
      ]
     },
     "execution_count": 9,
     "metadata": {},
     "output_type": "execute_result"
    }
   ],
   "source": [
    "first_competition = list(competition_id2competition.keys())[0]\n",
    "competition_id2competition[first_competition]"
   ]
  },
  {
   "cell_type": "markdown",
   "metadata": {
    "hidden": true
   },
   "source": [
    "### 4.C. <a id='matches'>Matches</a>"
   ]
  },
  {
   "cell_type": "code",
   "execution_count": 10,
   "metadata": {
    "hidden": true,
    "scrolled": true
   },
   "outputs": [
    {
     "data": {
      "text/plain": [
       "{'status': 'Played',\n",
       " 'roundId': 4406278,\n",
       " 'gameweek': 38,\n",
       " 'teamsData': {'3162': {'scoreET': 0,\n",
       "   'coachId': 251025,\n",
       "   'side': 'home',\n",
       "   'teamId': 3162,\n",
       "   'score': 2,\n",
       "   'scoreP': 0,\n",
       "   'hasFormation': 1,\n",
       "   'formation': {'bench': [{'playerId': 4792,\n",
       "      'ownGoals': '2',\n",
       "      'redCards': '93',\n",
       "      'goals': '0',\n",
       "      'yellowCards': '0'},\n",
       "     {'playerId': 20972,\n",
       "      'ownGoals': '0',\n",
       "      'redCards': '0',\n",
       "      'goals': 'null',\n",
       "      'yellowCards': '0'},\n",
       "     {'playerId': 256479,\n",
       "      'ownGoals': '0',\n",
       "      'redCards': '0',\n",
       "      'goals': 'null',\n",
       "      'yellowCards': '0'},\n",
       "     {'playerId': 241675,\n",
       "      'ownGoals': '0',\n",
       "      'redCards': '0',\n",
       "      'goals': 'null',\n",
       "      'yellowCards': '0'},\n",
       "     {'playerId': 260250,\n",
       "      'ownGoals': '0',\n",
       "      'redCards': '0',\n",
       "      'goals': 'null',\n",
       "      'yellowCards': '0'},\n",
       "     {'playerId': 69417,\n",
       "      'ownGoals': '0',\n",
       "      'redCards': '0',\n",
       "      'goals': 'null',\n",
       "      'yellowCards': '0'},\n",
       "     {'playerId': 20460,\n",
       "      'ownGoals': '0',\n",
       "      'redCards': '0',\n",
       "      'goals': 'null',\n",
       "      'yellowCards': '0'},\n",
       "     {'playerId': 101635,\n",
       "      'ownGoals': '0',\n",
       "      'redCards': '0',\n",
       "      'goals': 'null',\n",
       "      'yellowCards': '0'},\n",
       "     {'playerId': 20575,\n",
       "      'ownGoals': '0',\n",
       "      'redCards': '0',\n",
       "      'goals': 'null',\n",
       "      'yellowCards': '0'},\n",
       "     {'playerId': 7926,\n",
       "      'ownGoals': '0',\n",
       "      'redCards': '0',\n",
       "      'goals': 'null',\n",
       "      'yellowCards': '0'},\n",
       "     {'playerId': 208865,\n",
       "      'ownGoals': '2',\n",
       "      'redCards': '0',\n",
       "      'goals': '0',\n",
       "      'yellowCards': '0'},\n",
       "     {'playerId': 37745,\n",
       "      'ownGoals': '2',\n",
       "      'redCards': '0',\n",
       "      'goals': '0',\n",
       "      'yellowCards': '0'}],\n",
       "    'lineup': [{'playerId': 21384,\n",
       "      'ownGoals': '2',\n",
       "      'redCards': '0',\n",
       "      'goals': '0',\n",
       "      'yellowCards': '0'},\n",
       "     {'playerId': 20550,\n",
       "      'ownGoals': '2',\n",
       "      'redCards': '0',\n",
       "      'goals': '0',\n",
       "      'yellowCards': '0'},\n",
       "     {'playerId': 130,\n",
       "      'ownGoals': '0',\n",
       "      'redCards': '0',\n",
       "      'goals': 'null',\n",
       "      'yellowCards': '0'},\n",
       "     {'playerId': 346908,\n",
       "      'ownGoals': '0',\n",
       "      'redCards': '0',\n",
       "      'goals': 'null',\n",
       "      'yellowCards': '0'},\n",
       "     {'playerId': 376362,\n",
       "      'ownGoals': '0',\n",
       "      'redCards': '0',\n",
       "      'goals': 'null',\n",
       "      'yellowCards': '25'},\n",
       "     {'playerId': 166534,\n",
       "      'ownGoals': '0',\n",
       "      'redCards': '0',\n",
       "      'goals': 'null',\n",
       "      'yellowCards': '63'},\n",
       "     {'playerId': 20561,\n",
       "      'ownGoals': '2',\n",
       "      'redCards': '79',\n",
       "      'goals': '0',\n",
       "      'yellowCards': '33'},\n",
       "     {'playerId': 40806,\n",
       "      'ownGoals': '0',\n",
       "      'redCards': '0',\n",
       "      'goals': '1',\n",
       "      'yellowCards': '0'},\n",
       "     {'playerId': 265865,\n",
       "      'ownGoals': '0',\n",
       "      'redCards': '0',\n",
       "      'goals': 'null',\n",
       "      'yellowCards': '0'},\n",
       "     {'playerId': 228928,\n",
       "      'ownGoals': '0',\n",
       "      'redCards': '0',\n",
       "      'goals': 'null',\n",
       "      'yellowCards': '0'},\n",
       "     {'playerId': 7965,\n",
       "      'ownGoals': '0',\n",
       "      'redCards': '0',\n",
       "      'goals': 'null',\n",
       "      'yellowCards': '36'}],\n",
       "    'substitutions': [{'playerIn': 37745, 'playerOut': 21384, 'minute': 75},\n",
       "     {'playerIn': 208865, 'playerOut': 20550, 'minute': 77},\n",
       "     {'playerIn': 7926, 'playerOut': 130, 'minute': 83}]},\n",
       "   'scoreHT': 2},\n",
       "  '3161': {'scoreET': 0,\n",
       "   'coachId': 101547,\n",
       "   'side': 'away',\n",
       "   'teamId': 3161,\n",
       "   'score': 3,\n",
       "   'scoreP': 0,\n",
       "   'hasFormation': 1,\n",
       "   'formation': {'bench': [{'playerId': 3543,\n",
       "      'ownGoals': '0',\n",
       "      'redCards': '0',\n",
       "      'goals': 'null',\n",
       "      'yellowCards': '0'},\n",
       "     {'playerId': 405608,\n",
       "      'ownGoals': '0',\n",
       "      'redCards': '0',\n",
       "      'goals': 'null',\n",
       "      'yellowCards': '0'},\n",
       "     {'playerId': 20572,\n",
       "      'ownGoals': '0',\n",
       "      'redCards': '0',\n",
       "      'goals': 'null',\n",
       "      'yellowCards': '0'},\n",
       "     {'playerId': 86785,\n",
       "      'ownGoals': '0',\n",
       "      'redCards': '0',\n",
       "      'goals': 'null',\n",
       "      'yellowCards': '0'},\n",
       "     {'playerId': 7982,\n",
       "      'ownGoals': '0',\n",
       "      'redCards': '0',\n",
       "      'goals': 'null',\n",
       "      'yellowCards': '0'},\n",
       "     {'playerId': 70161,\n",
       "      'ownGoals': '0',\n",
       "      'redCards': '0',\n",
       "      'goals': 'null',\n",
       "      'yellowCards': '0'},\n",
       "     {'playerId': 298212,\n",
       "      'ownGoals': '0',\n",
       "      'redCards': '0',\n",
       "      'goals': 'null',\n",
       "      'yellowCards': '0'},\n",
       "     {'playerId': 241676,\n",
       "      'ownGoals': '0',\n",
       "      'redCards': '0',\n",
       "      'goals': 'null',\n",
       "      'yellowCards': '0'},\n",
       "     {'playerId': 352993,\n",
       "      'ownGoals': '0',\n",
       "      'redCards': '0',\n",
       "      'goals': 'null',\n",
       "      'yellowCards': '0'},\n",
       "     {'playerId': 20626,\n",
       "      'ownGoals': '0',\n",
       "      'redCards': '0',\n",
       "      'goals': 'null',\n",
       "      'yellowCards': '0'},\n",
       "     {'playerId': 20519,\n",
       "      'ownGoals': '0',\n",
       "      'redCards': '0',\n",
       "      'goals': 'null',\n",
       "      'yellowCards': '0'}],\n",
       "    'lineup': [{'playerId': 20556,\n",
       "      'ownGoals': '0',\n",
       "      'redCards': '0',\n",
       "      'goals': 'null',\n",
       "      'yellowCards': '0'},\n",
       "     {'playerId': 3344,\n",
       "      'ownGoals': '0',\n",
       "      'redCards': '0',\n",
       "      'goals': 'null',\n",
       "      'yellowCards': '0'},\n",
       "     {'playerId': 21094,\n",
       "      'ownGoals': '0',\n",
       "      'redCards': '0',\n",
       "      'goals': '1',\n",
       "      'yellowCards': '47'},\n",
       "     {'playerId': 20571,\n",
       "      'ownGoals': '0',\n",
       "      'redCards': '0',\n",
       "      'goals': 'null',\n",
       "      'yellowCards': '0'},\n",
       "     {'playerId': 3431,\n",
       "      'ownGoals': '0',\n",
       "      'redCards': '0',\n",
       "      'goals': 'null',\n",
       "      'yellowCards': '23'},\n",
       "     {'playerId': 138408,\n",
       "      'ownGoals': '0',\n",
       "      'redCards': '0',\n",
       "      'goals': 'null',\n",
       "      'yellowCards': '0'},\n",
       "     {'playerId': 206314,\n",
       "      'ownGoals': '0',\n",
       "      'redCards': '0',\n",
       "      'goals': '1',\n",
       "      'yellowCards': '0'},\n",
       "     {'playerId': 69968,\n",
       "      'ownGoals': '0',\n",
       "      'redCards': '0',\n",
       "      'goals': 'null',\n",
       "      'yellowCards': '12'},\n",
       "     {'playerId': 14812,\n",
       "      'ownGoals': '1',\n",
       "      'redCards': '0',\n",
       "      'goals': 'null',\n",
       "      'yellowCards': '0'},\n",
       "     {'playerId': 116349,\n",
       "      'ownGoals': '2',\n",
       "      'redCards': '0',\n",
       "      'goals': '1',\n",
       "      'yellowCards': '83'},\n",
       "     {'playerId': 135903,\n",
       "      'ownGoals': '0',\n",
       "      'redCards': '0',\n",
       "      'goals': 'null',\n",
       "      'yellowCards': '0'}],\n",
       "    'substitutions': [{'playerIn': 20626, 'playerOut': 20556, 'minute': 60},\n",
       "     {'playerIn': 352993, 'playerOut': 3344, 'minute': 67},\n",
       "     {'playerIn': 20519, 'playerOut': 21094, 'minute': 79}]},\n",
       "   'scoreHT': 1}},\n",
       " 'seasonId': 181248,\n",
       " 'dateutc': '2018-05-20 18:45:00',\n",
       " 'winner': 3161,\n",
       " 'venue': '',\n",
       " 'wyId': 2576335,\n",
       " 'label': 'Lazio - Internazionale, 2 - 3',\n",
       " 'date': 'May 20, 2018 at 8:45:00 PM GMT+2',\n",
       " 'referees': [{'refereeId': 377206, 'role': 'referee'},\n",
       "  {'refereeId': 384945, 'role': 'secondAssistant'},\n",
       "  {'refereeId': 377241, 'role': 'fourthOfficial'}],\n",
       " 'duration': 'Regular',\n",
       " 'competitionId': 524}"
      ]
     },
     "execution_count": 10,
     "metadata": {},
     "output_type": "execute_result"
    }
   ],
   "source": [
    "a_match = list(match_id2match.keys())[0]\n",
    "match_id2match[a_match]#['teamsData'].keys()"
   ]
  },
  {
   "cell_type": "markdown",
   "metadata": {
    "hidden": true
   },
   "source": [
    "### Count goals in a season"
   ]
  },
  {
   "cell_type": "code",
   "execution_count": 12,
   "metadata": {},
   "outputs": [
    {
     "data": {
      "text/plain": [
       "'Lazio - Internazionale, 2 - 3'"
      ]
     },
     "execution_count": 12,
     "metadata": {},
     "output_type": "execute_result"
    }
   ],
   "source": [
    "match_id2match[a_match]['label']"
   ]
  },
  {
   "cell_type": "code",
   "execution_count": null,
   "metadata": {
    "hidden": true
   },
   "outputs": [],
   "source": [
    "sum_goals = 0\n",
    "for match_id, match in match_id2match.items():\n",
    "    goals = match['label'].split(', ')[1].split(' - ')\n",
    "    goals = [int(goal) for goal in goals]\n",
    "    sum_goals += sum(goals)\n",
    "sum_goals"
   ]
  },
  {
   "cell_type": "markdown",
   "metadata": {
    "hidden": true
   },
   "source": [
    "### Count average goals per match"
   ]
  },
  {
   "cell_type": "code",
   "execution_count": 13,
   "metadata": {
    "hidden": true
   },
   "outputs": [
    {
     "data": {
      "text/plain": [
       "2.68"
      ]
     },
     "execution_count": 13,
     "metadata": {},
     "output_type": "execute_result"
    }
   ],
   "source": [
    "goals_in_match = []\n",
    "for match_id, match in match_id2match.items():\n",
    "    goals = match['label'].split(', ')[1].split(' - ')\n",
    "    goals = [int(goal) for goal in goals]\n",
    "    goals_in_match.append(sum(goals))\n",
    "round(np.mean(goals_in_match), 2)"
   ]
  },
  {
   "cell_type": "markdown",
   "metadata": {
    "hidden": true
   },
   "source": [
    "### 4.D. <a id='events'>Events</a>"
   ]
  },
  {
   "cell_type": "code",
   "execution_count": 14,
   "metadata": {
    "hidden": true
   },
   "outputs": [
    {
     "data": {
      "text/plain": [
       "{'eventId': 8,\n",
       " 'subEventName': 'Simple pass',\n",
       " 'tags': [{'id': 1801}],\n",
       " 'playerId': 3344,\n",
       " 'positions': [{'y': 50, 'x': 49}, {'y': 58, 'x': 38}],\n",
       " 'matchId': 2576335,\n",
       " 'eventName': 'Pass',\n",
       " 'teamId': 3161,\n",
       " 'matchPeriod': '1H',\n",
       " 'eventSec': 2.4175900000000183,\n",
       " 'subEventId': 85,\n",
       " 'id': 253668302}"
      ]
     },
     "execution_count": 14,
     "metadata": {},
     "output_type": "execute_result"
    }
   ],
   "source": [
    "match_id2events[a_match][0]#[100]"
   ]
  },
  {
   "cell_type": "markdown",
   "metadata": {
    "hidden": true
   },
   "source": [
    "### List distinct combination of event types and subtypes\n",
    "refer to https://apidocs.wyscout.com/ for further information about event and subevents"
   ]
  },
  {
   "cell_type": "code",
   "execution_count": 15,
   "metadata": {
    "hidden": true
   },
   "outputs": [
    {
     "data": {
      "text/plain": [
       "{('Duel', 'Air duel'),\n",
       " ('Duel', 'Ground attacking duel'),\n",
       " ('Duel', 'Ground defending duel'),\n",
       " ('Duel', 'Ground loose ball duel'),\n",
       " ('Foul', 'Foul'),\n",
       " ('Foul', 'Hand foul'),\n",
       " ('Foul', 'Late card foul'),\n",
       " ('Foul', 'Out of game foul'),\n",
       " ('Foul', 'Protest'),\n",
       " ('Foul', 'Simulation'),\n",
       " ('Foul', 'Time lost foul'),\n",
       " ('Foul', 'Violent Foul'),\n",
       " ('Free Kick', 'Corner'),\n",
       " ('Free Kick', 'Free Kick'),\n",
       " ('Free Kick', 'Free kick cross'),\n",
       " ('Free Kick', 'Free kick shot'),\n",
       " ('Free Kick', 'Goal kick'),\n",
       " ('Free Kick', 'Penalty'),\n",
       " ('Free Kick', 'Throw in'),\n",
       " ('Goalkeeper leaving line', 'Goalkeeper leaving line'),\n",
       " ('Interruption', 'Ball out of the field'),\n",
       " ('Interruption', 'Whistle'),\n",
       " ('Offside', ''),\n",
       " ('Others on the ball', 'Acceleration'),\n",
       " ('Others on the ball', 'Clearance'),\n",
       " ('Others on the ball', 'Touch'),\n",
       " ('Pass', 'Cross'),\n",
       " ('Pass', 'Hand pass'),\n",
       " ('Pass', 'Head pass'),\n",
       " ('Pass', 'High pass'),\n",
       " ('Pass', 'Launch'),\n",
       " ('Pass', 'Simple pass'),\n",
       " ('Pass', 'Smart pass'),\n",
       " ('Save attempt', 'Reflexes'),\n",
       " ('Save attempt', 'Save attempt'),\n",
       " ('Shot', 'Shot')}"
      ]
     },
     "execution_count": 15,
     "metadata": {},
     "output_type": "execute_result"
    }
   ],
   "source": [
    "event_types = []\n",
    "for match_id, events in match_id2events.items():\n",
    "    for event in events:\n",
    "        event_types.append((event['eventName'], event['subEventName']))\n",
    "set(event_types)"
   ]
  },
  {
   "cell_type": "markdown",
   "metadata": {
    "heading_collapsed": true
   },
   "source": [
    "## 5. <a id='basic_statistics'>Basic statistics</a>"
   ]
  },
  {
   "cell_type": "markdown",
   "metadata": {
    "hidden": true
   },
   "source": [
    "### 5.A. <a id=\"frequency_by_type\">Frequency of events per type</a>\n",
    "\n",
    "For each event type, we plot how frequent it is in the events data set."
   ]
  },
  {
   "cell_type": "code",
   "execution_count": 16,
   "metadata": {
    "hidden": true
   },
   "outputs": [
    {
     "data": {
      "image/png": "[encoded data removed]",
      "text/plain": [
       "<Figure size 576x432 with 1 Axes>"
      ]
     },
     "metadata": {
      "needs_background": "light"
     },
     "output_type": "display_data"
    }
   ],
   "source": [
    "events_list = []\n",
    "for match_id, events in match_id2events.items():\n",
    "    for event in events:\n",
    "        events_list.append(event['eventName'])\n",
    "\n",
    "count = Counter(events_list)\n",
    "# express frequency in percentage\n",
    "counter = {}\n",
    "for i, n_events in zip(count.keys(), count.values()):\n",
    "    counter[i] = int(float(n_events)/len(events_list)*100)\n",
    "sorted_d = np.array(sorted(counter.items(), key=operator.itemgetter(1), reverse=False))\n",
    "\n",
    "#bar plot\n",
    "fig, ax = plt.subplots(figsize=(8,6))\n",
    "plt.barh(list(sorted_d[:,0]),[int(x) for x in list(sorted_d[:,1])])\n",
    "plt.xticks(rotation=90);plt.xticks(fontsize=18)\n",
    "plt.xlabel('events (%)', fontsize=25)\n",
    "plt.yticks(fontsize=18)\n",
    "plt.grid(alpha=0.3)\n",
    "fig.tight_layout()\n",
    "plt.show()"
   ]
  },
  {
   "cell_type": "markdown",
   "metadata": {
    "hidden": true
   },
   "source": [
    "### 5.B. <a id='events_per_match'>Distribution of the number of events per match</a>\n",
    "We compute the number of events in each match. We then plot the distribution of this quantity."
   ]
  },
  {
   "cell_type": "code",
   "execution_count": 17,
   "metadata": {
    "hidden": true
   },
   "outputs": [
    {
     "data": {
      "image/png": "[encoded data removed]",
      "text/plain": [
       "<Figure size 576x432 with 1 Axes>"
      ]
     },
     "metadata": {
      "needs_background": "light"
     },
     "output_type": "display_data"
    }
   ],
   "source": [
    "values = [len(events) for events in match_id2events.values()]\n",
    "avg_n_events = np.mean(values)\n",
    "std_n_events = np.std(values)\n",
    "\n",
    "fig, ax = plt.subplots(figsize=(8,6))\n",
    "plt.hist(values, rwidth=0.9, bins=20)\n",
    "plt.grid(alpha=0.3)\n",
    "plt.yticks(fontsize=18)\n",
    "plt.xlabel('events (n)', fontsize=25)\n",
    "plt.ylabel('frequency (n)', fontsize=25)\n",
    "plt.xticks(fontsize=18)\n",
    "plt.text(0.1, 0.7, \n",
    "         '$\\mu$ = %i\\n$\\sigma$ = %i'%(avg_n_events, std_n_events), \n",
    "         fontsize=25, transform=ax.transAxes)\n",
    "fig.tight_layout()\n",
    "plt.show()"
   ]
  },
  {
   "cell_type": "markdown",
   "metadata": {
    "heading_collapsed": true
   },
   "source": [
    "## 6. <a id='plot_events_on_field'>Plot events on the field</a>\n",
    "We take an examplar match and plot on a soccer field all the events of the two teams. Each event is plotted on the position of the field where it has occurred."
   ]
  },
  {
   "cell_type": "code",
   "execution_count": 18,
   "metadata": {
    "hidden": true
   },
   "outputs": [
    {
     "data": {
      "text/html": [
       "<div>\n",
       "<style scoped>\n",
       "    .dataframe tbody tr th:only-of-type {\n",
       "        vertical-align: middle;\n",
       "    }\n",
       "\n",
       "    .dataframe tbody tr th {\n",
       "        vertical-align: top;\n",
       "    }\n",
       "\n",
       "    .dataframe thead th {\n",
       "        text-align: right;\n",
       "    }\n",
       "</style>\n",
       "<table border=\"1\" class=\"dataframe\">\n",
       "  <thead>\n",
       "    <tr style=\"text-align: right;\">\n",
       "      <th></th>\n",
       "      <th>eventId</th>\n",
       "      <th>subEventName</th>\n",
       "      <th>tags</th>\n",
       "      <th>playerId</th>\n",
       "      <th>positions</th>\n",
       "      <th>matchId</th>\n",
       "      <th>eventName</th>\n",
       "      <th>teamId</th>\n",
       "      <th>matchPeriod</th>\n",
       "      <th>eventSec</th>\n",
       "      <th>subEventId</th>\n",
       "      <th>id</th>\n",
       "    </tr>\n",
       "  </thead>\n",
       "  <tbody>\n",
       "    <tr>\n",
       "      <th>0</th>\n",
       "      <td>8</td>\n",
       "      <td>Simple pass</td>\n",
       "      <td>[{'id': 1801}]</td>\n",
       "      <td>3344</td>\n",
       "      <td>[{'y': 50, 'x': 49}, {'y': 58, 'x': 38}]</td>\n",
       "      <td>2576335</td>\n",
       "      <td>Pass</td>\n",
       "      <td>3161</td>\n",
       "      <td>1H</td>\n",
       "      <td>2.417590</td>\n",
       "      <td>85</td>\n",
       "      <td>253668302</td>\n",
       "    </tr>\n",
       "    <tr>\n",
       "      <th>1</th>\n",
       "      <td>8</td>\n",
       "      <td>Simple pass</td>\n",
       "      <td>[{'id': 1801}]</td>\n",
       "      <td>116349</td>\n",
       "      <td>[{'y': 58, 'x': 38}, {'y': 91, 'x': 37}]</td>\n",
       "      <td>2576335</td>\n",
       "      <td>Pass</td>\n",
       "      <td>3161</td>\n",
       "      <td>1H</td>\n",
       "      <td>3.904412</td>\n",
       "      <td>85</td>\n",
       "      <td>253668303</td>\n",
       "    </tr>\n",
       "    <tr>\n",
       "      <th>2</th>\n",
       "      <td>8</td>\n",
       "      <td>Simple pass</td>\n",
       "      <td>[{'id': 1801}]</td>\n",
       "      <td>135903</td>\n",
       "      <td>[{'y': 91, 'x': 37}, {'y': 72, 'x': 34}]</td>\n",
       "      <td>2576335</td>\n",
       "      <td>Pass</td>\n",
       "      <td>3161</td>\n",
       "      <td>1H</td>\n",
       "      <td>6.484211</td>\n",
       "      <td>85</td>\n",
       "      <td>253668304</td>\n",
       "    </tr>\n",
       "    <tr>\n",
       "      <th>3</th>\n",
       "      <td>8</td>\n",
       "      <td>Simple pass</td>\n",
       "      <td>[{'id': 1801}]</td>\n",
       "      <td>138408</td>\n",
       "      <td>[{'y': 72, 'x': 34}, {'y': 14, 'x': 36}]</td>\n",
       "      <td>2576335</td>\n",
       "      <td>Pass</td>\n",
       "      <td>3161</td>\n",
       "      <td>1H</td>\n",
       "      <td>10.043835</td>\n",
       "      <td>85</td>\n",
       "      <td>253668306</td>\n",
       "    </tr>\n",
       "    <tr>\n",
       "      <th>4</th>\n",
       "      <td>8</td>\n",
       "      <td>Simple pass</td>\n",
       "      <td>[{'id': 1801}]</td>\n",
       "      <td>21094</td>\n",
       "      <td>[{'y': 14, 'x': 36}, {'y': 39, 'x': 30}]</td>\n",
       "      <td>2576335</td>\n",
       "      <td>Pass</td>\n",
       "      <td>3161</td>\n",
       "      <td>1H</td>\n",
       "      <td>14.032070</td>\n",
       "      <td>85</td>\n",
       "      <td>253668308</td>\n",
       "    </tr>\n",
       "  </tbody>\n",
       "</table>\n",
       "</div>"
      ],
      "text/plain": [
       "   eventId subEventName            tags  playerId  \\\n",
       "0        8  Simple pass  [{'id': 1801}]      3344   \n",
       "1        8  Simple pass  [{'id': 1801}]    116349   \n",
       "2        8  Simple pass  [{'id': 1801}]    135903   \n",
       "3        8  Simple pass  [{'id': 1801}]    138408   \n",
       "4        8  Simple pass  [{'id': 1801}]     21094   \n",
       "\n",
       "                                  positions  matchId eventName  teamId  \\\n",
       "0  [{'y': 50, 'x': 49}, {'y': 58, 'x': 38}]  2576335      Pass    3161   \n",
       "1  [{'y': 58, 'x': 38}, {'y': 91, 'x': 37}]  2576335      Pass    3161   \n",
       "2  [{'y': 91, 'x': 37}, {'y': 72, 'x': 34}]  2576335      Pass    3161   \n",
       "3  [{'y': 72, 'x': 34}, {'y': 14, 'x': 36}]  2576335      Pass    3161   \n",
       "4  [{'y': 14, 'x': 36}, {'y': 39, 'x': 30}]  2576335      Pass    3161   \n",
       "\n",
       "  matchPeriod   eventSec subEventId         id  \n",
       "0          1H   2.417590         85  253668302  \n",
       "1          1H   3.904412         85  253668303  \n",
       "2          1H   6.484211         85  253668304  \n",
       "3          1H  10.043835         85  253668306  \n",
       "4          1H  14.032070         85  253668308  "
      ]
     },
     "execution_count": 18,
     "metadata": {},
     "output_type": "execute_result"
    }
   ],
   "source": [
    "match_id = 2576335 # a single match in Italy\n",
    "match_events = match_id2events[match_id]\n",
    "match_label = match_id2match[match_id]['label']\n",
    "            \n",
    "match_df = pd.DataFrame(match_events)\n",
    "match_df.head()"
   ]
  },
  {
   "cell_type": "code",
   "execution_count": 19,
   "metadata": {
    "hidden": true
   },
   "outputs": [
    {
     "data": {
      "text/html": [
       "<div>\n",
       "<style scoped>\n",
       "    .dataframe tbody tr th:only-of-type {\n",
       "        vertical-align: middle;\n",
       "    }\n",
       "\n",
       "    .dataframe tbody tr th {\n",
       "        vertical-align: top;\n",
       "    }\n",
       "\n",
       "    .dataframe thead th {\n",
       "        text-align: right;\n",
       "    }\n",
       "</style>\n",
       "<table border=\"1\" class=\"dataframe\">\n",
       "  <thead>\n",
       "    <tr style=\"text-align: right;\">\n",
       "      <th></th>\n",
       "      <th>eventId</th>\n",
       "      <th>subEventName</th>\n",
       "      <th>tags</th>\n",
       "      <th>playerId</th>\n",
       "      <th>positions</th>\n",
       "      <th>matchId</th>\n",
       "      <th>eventName</th>\n",
       "      <th>teamId</th>\n",
       "      <th>matchPeriod</th>\n",
       "      <th>eventSec</th>\n",
       "      <th>subEventId</th>\n",
       "      <th>id</th>\n",
       "      <th>x_start</th>\n",
       "      <th>y_start</th>\n",
       "    </tr>\n",
       "  </thead>\n",
       "  <tbody>\n",
       "    <tr>\n",
       "      <th>0</th>\n",
       "      <td>8</td>\n",
       "      <td>Simple pass</td>\n",
       "      <td>[{'id': 1801}]</td>\n",
       "      <td>3344</td>\n",
       "      <td>[{'y': 50, 'x': 49}, {'y': 58, 'x': 38}]</td>\n",
       "      <td>2576335</td>\n",
       "      <td>Pass</td>\n",
       "      <td>3161</td>\n",
       "      <td>1H</td>\n",
       "      <td>2.417590</td>\n",
       "      <td>85</td>\n",
       "      <td>253668302</td>\n",
       "      <td>49</td>\n",
       "      <td>50</td>\n",
       "    </tr>\n",
       "    <tr>\n",
       "      <th>1</th>\n",
       "      <td>8</td>\n",
       "      <td>Simple pass</td>\n",
       "      <td>[{'id': 1801}]</td>\n",
       "      <td>116349</td>\n",
       "      <td>[{'y': 58, 'x': 38}, {'y': 91, 'x': 37}]</td>\n",
       "      <td>2576335</td>\n",
       "      <td>Pass</td>\n",
       "      <td>3161</td>\n",
       "      <td>1H</td>\n",
       "      <td>3.904412</td>\n",
       "      <td>85</td>\n",
       "      <td>253668303</td>\n",
       "      <td>38</td>\n",
       "      <td>58</td>\n",
       "    </tr>\n",
       "    <tr>\n",
       "      <th>2</th>\n",
       "      <td>8</td>\n",
       "      <td>Simple pass</td>\n",
       "      <td>[{'id': 1801}]</td>\n",
       "      <td>135903</td>\n",
       "      <td>[{'y': 91, 'x': 37}, {'y': 72, 'x': 34}]</td>\n",
       "      <td>2576335</td>\n",
       "      <td>Pass</td>\n",
       "      <td>3161</td>\n",
       "      <td>1H</td>\n",
       "      <td>6.484211</td>\n",
       "      <td>85</td>\n",
       "      <td>253668304</td>\n",
       "      <td>37</td>\n",
       "      <td>91</td>\n",
       "    </tr>\n",
       "    <tr>\n",
       "      <th>3</th>\n",
       "      <td>8</td>\n",
       "      <td>Simple pass</td>\n",
       "      <td>[{'id': 1801}]</td>\n",
       "      <td>138408</td>\n",
       "      <td>[{'y': 72, 'x': 34}, {'y': 14, 'x': 36}]</td>\n",
       "      <td>2576335</td>\n",
       "      <td>Pass</td>\n",
       "      <td>3161</td>\n",
       "      <td>1H</td>\n",
       "      <td>10.043835</td>\n",
       "      <td>85</td>\n",
       "      <td>253668306</td>\n",
       "      <td>34</td>\n",
       "      <td>72</td>\n",
       "    </tr>\n",
       "    <tr>\n",
       "      <th>4</th>\n",
       "      <td>8</td>\n",
       "      <td>Simple pass</td>\n",
       "      <td>[{'id': 1801}]</td>\n",
       "      <td>21094</td>\n",
       "      <td>[{'y': 14, 'x': 36}, {'y': 39, 'x': 30}]</td>\n",
       "      <td>2576335</td>\n",
       "      <td>Pass</td>\n",
       "      <td>3161</td>\n",
       "      <td>1H</td>\n",
       "      <td>14.032070</td>\n",
       "      <td>85</td>\n",
       "      <td>253668308</td>\n",
       "      <td>36</td>\n",
       "      <td>14</td>\n",
       "    </tr>\n",
       "  </tbody>\n",
       "</table>\n",
       "</div>"
      ],
      "text/plain": [
       "   eventId subEventName            tags  playerId  \\\n",
       "0        8  Simple pass  [{'id': 1801}]      3344   \n",
       "1        8  Simple pass  [{'id': 1801}]    116349   \n",
       "2        8  Simple pass  [{'id': 1801}]    135903   \n",
       "3        8  Simple pass  [{'id': 1801}]    138408   \n",
       "4        8  Simple pass  [{'id': 1801}]     21094   \n",
       "\n",
       "                                  positions  matchId eventName  teamId  \\\n",
       "0  [{'y': 50, 'x': 49}, {'y': 58, 'x': 38}]  2576335      Pass    3161   \n",
       "1  [{'y': 58, 'x': 38}, {'y': 91, 'x': 37}]  2576335      Pass    3161   \n",
       "2  [{'y': 91, 'x': 37}, {'y': 72, 'x': 34}]  2576335      Pass    3161   \n",
       "3  [{'y': 72, 'x': 34}, {'y': 14, 'x': 36}]  2576335      Pass    3161   \n",
       "4  [{'y': 14, 'x': 36}, {'y': 39, 'x': 30}]  2576335      Pass    3161   \n",
       "\n",
       "  matchPeriod   eventSec subEventId         id  x_start  y_start  \n",
       "0          1H   2.417590         85  253668302       49       50  \n",
       "1          1H   3.904412         85  253668303       38       58  \n",
       "2          1H   6.484211         85  253668304       37       91  \n",
       "3          1H  10.043835         85  253668306       34       72  \n",
       "4          1H  14.032070         85  253668308       36       14  "
      ]
     },
     "execution_count": 19,
     "metadata": {},
     "output_type": "execute_result"
    }
   ],
   "source": [
    "match_df['x_start'] = [x[0]['x'] for x in match_df['positions']]\n",
    "match_df['y_start'] = [x[0]['y'] for x in match_df['positions']]\n",
    "match_df.head()"
   ]
  },
  {
   "cell_type": "markdown",
   "metadata": {
    "hidden": true
   },
   "source": [
    "### 6.A. <a id='static_plot'>Static plot</a>"
   ]
  },
  {
   "cell_type": "code",
   "execution_count": 20,
   "metadata": {
    "hidden": true
   },
   "outputs": [
    {
     "data": {
      "image/png": "[encoded data removed]",
      "text/plain": [
       "<Figure size 748.8x489.6 with 1 Axes>"
      ]
     },
     "metadata": {
      "needs_background": "light"
     },
     "output_type": "display_data"
    }
   ],
   "source": [
    "team_1, team_2 = np.unique(match_df['teamId'])\n",
    "df_team_1 = match_df[match_df['teamId'] == team_1]\n",
    "df_team_2 = match_df[match_df['teamId'] == team_2]\n",
    "\n",
    "f = draw_pitch(\"white\", \"black\", \"h\", \"full\")\n",
    "plt.scatter(df_team_1['x_start'], df_team_1['y_start'], c='red', edgecolors=\"k\", zorder=12, \n",
    "            alpha=0.5, label='%s: %s events' %(team_id2team[team_1]['name'], len(df_team_1)))\n",
    "plt.scatter(df_team_2['x_start'], df_team_2['y_start'], marker='s', c='blue', edgecolors=\"w\", linewidth=0.25, zorder=12, \n",
    "            alpha=0.7, label='%s: %s events' %(team_id2team[team_2]['name'], len(df_team_2)))\n",
    "plt.legend(fontsize=20, bbox_to_anchor=(1.01, 1.05))\n",
    "plt.title(match_label, fontsize=20)\n",
    "plt.show()"
   ]
  },
  {
   "cell_type": "code",
   "execution_count": 21,
   "metadata": {
    "hidden": true
   },
   "outputs": [],
   "source": [
    "def plot_events(match_id=2576335, team_id='both', event_name='all'):\n",
    "    \"\"\"\n",
    "    Plot the events onthe position where they have been generated.\n",
    "    \n",
    "    Parameters\n",
    "    ----------\n",
    "    match_id : int, optional\n",
    "        identifier of the match to plot\n",
    "        \n",
    "    team_id : str or int, optional\n",
    "        the identifier of the team to plot. \n",
    "        If 'both', it indicates to plot both teams The default is 'both'.\n",
    "        \n",
    "    event_name : str, optional\n",
    "        the type of the event to plot. If 'all', it plots all the events.\n",
    "        The defauult is 'all'.\n",
    "    \"\"\"\n",
    "    match_label = match_id2match[match_id]['label']\n",
    "    match_events = match_id2events[match_id]\n",
    "    selected_events = []\n",
    "    for event in match_events:\n",
    "        if team_id == 'both' or event['teamId'] == team_id:\n",
    "            if event_name == 'all' or event['eventName'] == event_name:\n",
    "                selected_events.append(event)\n",
    "    \n",
    "    match_df = pd.DataFrame(selected_events)\n",
    "    match_df['x_start'] = [x[0]['x'] for x in match_df['positions']]\n",
    "    match_df['y_start'] = [x[0]['y'] for x in match_df['positions']]\n",
    "    \n",
    "    if team_id == 'both':\n",
    "        team_1, team_2 = np.unique(match_df['teamId'])\n",
    "        df_team_1 = match_df[match_df['teamId'] == team_1]\n",
    "        df_team_2 = match_df[match_df['teamId'] == team_2]\n",
    "    else:\n",
    "        df_team = match_df[match_df['teamId'] == team_id]\n",
    "    \n",
    "    f = draw_pitch(\"white\", \"black\", \"h\", \"full\")\n",
    "    if team_id == 'both':\n",
    "        plt.scatter(df_team_1['x_start'], df_team_1['y_start'], c='red', edgecolors=\"k\", zorder=12, \n",
    "            alpha=0.5, label='%s: %s %s' %(team_id2team[team_1]['name'], len(df_team_1), 'events' if event_name=='all' else event_name))\n",
    "        plt.scatter(df_team_2['x_start'], df_team_2['y_start'], marker='s', c='blue', edgecolors=\"w\", linewidth=0.25, zorder=12, \n",
    "                    alpha=0.7, label='%s: %s %s' %(team_id2team[team_2]['name'], len(df_team_2), 'events' if event_name=='all' else event_name))\n",
    "        plt.legend(fontsize=20, bbox_to_anchor=(1.01, 1.05))\n",
    "    else:\n",
    "        plt.scatter(df_team['x_start'], df_team['y_start'], \n",
    "                    c='red', edgecolors=\"k\", zorder=12, alpha=0.5,\n",
    "                   label='%s: %s %s' %(team_id2team[team_id]['name'], len(df_team), 'events' if event_name=='all' else event_name))\n",
    "    plt.title(match_label, fontsize=20)\n",
    "    plt.legend(fontsize=20, bbox_to_anchor=(1.01, 1.05))\n",
    "    plt.show()\n",
    " "
   ]
  },
  {
   "cell_type": "code",
   "execution_count": 22,
   "metadata": {
    "hidden": true
   },
   "outputs": [
    {
     "data": {
      "image/png": "[encoded data removed]",
      "text/plain": [
       "<Figure size 748.8x489.6 with 1 Axes>"
      ]
     },
     "metadata": {
      "needs_background": "light"
     },
     "output_type": "display_data"
    },
    {
     "data": {
      "image/png": "[encoded data removed]",
      "text/plain": [
       "<Figure size 748.8x489.6 with 1 Axes>"
      ]
     },
     "metadata": {
      "needs_background": "light"
     },
     "output_type": "display_data"
    },
    {
     "data": {
      "image/png": "[encoded data removed]",
      "text/plain": [
       "<Figure size 748.8x489.6 with 1 Axes>"
      ]
     },
     "metadata": {
      "needs_background": "light"
     },
     "output_type": "display_data"
    }
   ],
   "source": [
    "match_id, team1, team2 = 2576335, 3161, 3162\n",
    "plot_events(team_id=3161)\n",
    "plot_events(team_id=3162)\n",
    "plot_events(team_id='both')"
   ]
  },
  {
   "cell_type": "code",
   "execution_count": 23,
   "metadata": {
    "hidden": true
   },
   "outputs": [
    {
     "data": {
      "image/png": "[encoded data removed]",
      "text/plain": [
       "<Figure size 748.8x489.6 with 1 Axes>"
      ]
     },
     "metadata": {
      "needs_background": "light"
     },
     "output_type": "display_data"
    },
    {
     "data": {
      "image/png": "[encoded data removed]",
      "text/plain": [
       "<Figure size 748.8x489.6 with 1 Axes>"
      ]
     },
     "metadata": {
      "needs_background": "light"
     },
     "output_type": "display_data"
    },
    {
     "data": {
      "image/png": "[encoded data removed]",
      "text/plain": [
       "<Figure size 748.8x489.6 with 1 Axes>"
      ]
     },
     "metadata": {
      "needs_background": "light"
     },
     "output_type": "display_data"
    }
   ],
   "source": [
    "match_id, team1, team2, event_name = 2576335, 3161, 3162, 'Foul'\n",
    "plot_events(team_id=3161, event_name=event_name)\n",
    "plot_events(team_id=3162, event_name=event_name)\n",
    "plot_events(team_id='both', event_name=event_name)"
   ]
  },
  {
   "cell_type": "markdown",
   "metadata": {
    "hidden": true
   },
   "source": [
    "### 6.B. <a id='interactive_plot'>Interactive plot</a>"
   ]
  },
  {
   "cell_type": "code",
   "execution_count": 37,
   "metadata": {
    "hidden": true
   },
   "outputs": [],
   "source": [
    "def visualize_events(match_id=2576335, player_id='all', team_id='both', event_name='all'):\n",
    "    \"\"\"\n",
    "    Visualize all the events of a match on the soccer pitch.\n",
    "    \n",
    "    Parameters\n",
    "    ----------\n",
    "    match_id : int, optional\n",
    "        identifier of the match to plot\n",
    "        \n",
    "    team_id : str or int, optional\n",
    "        the identifier of the team to plot. \n",
    "        If 'both', it indicates to plot both teams The default is 'both'.\n",
    "        \n",
    "    event_name : str, optional\n",
    "        the type of the event to plot. If 'all', it plots all the events.\n",
    "        The defauult is 'all'.\n",
    "    \"\"\"\n",
    "    \n",
    "    match_events = []\n",
    "    for event in match_id2events[match_id]:\n",
    "        if team_id == 'both' or event['teamId'] == team_id:\n",
    "            if event_name == 'all' or event['eventName'] == event_name:\n",
    "                if player_id == 'all' or event['playerId'] == player_id:\n",
    "                    match_events.append(event)\n",
    "    \n",
    "    match = match_id2match[match_id] \n",
    "    match_label = match['label']\n",
    "    \n",
    "    team1, team2 = match['teamsData'].keys()\n",
    "    team_name1, team_name2 = team_id2team[int(team1)]['name'], team_id2team[int(team2)]['name']\n",
    "    \n",
    "    # Create and style traces\n",
    "    trace1 = go.Scatter(\n",
    "        x = [event['positions'][0]['x'] for event in match_events if str(event['teamId']) == team1],\n",
    "        y = [event['positions'][0]['y'] for event in match_events if str(event['teamId']) == team1],\n",
    "        text = ['%s by %s (%s)' %(event['eventName'], player_id2player[event['playerId']]['shortName'].encode('ascii', 'strict').decode('unicode-escape'), event['playerId']) for event in match_events if str(event['teamId']) == team1],\n",
    "        mode = 'markers',\n",
    "        name = team_name1,\n",
    "        marker = dict(\n",
    "            size = 8,\n",
    "            color = 'red',\n",
    "        )\n",
    "    )\n",
    "\n",
    "    trace2 = go.Scatter(\n",
    "        x = [event['positions'][0]['x'] for event in match_events if str(event['teamId']) == team2],\n",
    "        y = [event['positions'][0]['y'] for event in match_events if str(event['teamId']) == team2],\n",
    "        text = ['%s by %s (%s)' %(event['eventName'], player_id2player[event['playerId']]['shortName'].encode('ascii', 'strict').decode('unicode-escape'), event['playerId']) for event in match_events if str(event['teamId']) == team2],\n",
    "        mode = 'markers',\n",
    "        name = team_name2,\n",
    "        marker = dict(\n",
    "            size = 8,\n",
    "            color = 'blue',\n",
    "            symbol='square'\n",
    "        )\n",
    "    )\n",
    "\n",
    "    fig = dict(data=[trace1, trace2], layout=get_pitch_layout(match_label))\n",
    "    fig['data'][0]['name'] = team_name1\n",
    "    fig['data'][1]['name'] = team_name2\n",
    "    iplot(fig)"
   ]
  },
  {
   "cell_type": "code",
   "execution_count": 38,
   "metadata": {
    "hidden": true
   },
   "outputs": [
    {
     "data": {
      "application/vnd.plotly.v1+json": {
       "config": {
        "linkText": "Export to plot.ly",
        "plotlyServerURL": "https://plot.ly",
        "showLink": false
       },
       "data": [
        {
         "marker": {
          "color": "red",
          "size": 8
         },
         "mode": "markers",
         "name": "Lazio",
         "text": [
          "Pass by S. de Vrij (130)",
          "Pass by Ş. Radu (20550)",
          "Pass by S. Lulić (20561)",
          "Pass by Luiz Felipe (376362)",
          "Pass by C. Immobile (21384)",
          "Pass by Luiz Felipe (376362)",
          "Pass by T. Strakosha (166534)",
          "Pass by S. Milinković-Savić (265865)",
          "Pass by S. Lulić (20561)",
          "Pass by Luiz Felipe (376362)",
          "Pass by Lucas Leiva (7965)",
          "Pass by A. Marušić (228928)",
          "Pass by Luiz Felipe (376362)",
          "Pass by Ş. Radu (20550)",
          "Pass by T. Strakosha (166534)",
          "Pass by C. Immobile (21384)",
          "Pass by S. Lulić (20561)",
          "Pass by Lucas Leiva (7965)",
          "Pass by Lucas Leiva (7965)",
          "Pass by S. Lulić (20561)",
          "Pass by C. Immobile (21384)",
          "Pass by S. Milinković-Savić (265865)",
          "Pass by A. Murgia (346908)",
          "Pass by Felipe Anderson (40806)",
          "Pass by Lucas Leiva (7965)",
          "Pass by S. Milinković-Savić (265865)",
          "Pass by S. Milinković-Savić (265865)",
          "Pass by Ş. Radu (20550)",
          "Pass by S. de Vrij (130)",
          "Pass by Luiz Felipe (376362)",
          "Pass by S. Lulić (20561)",
          "Pass by S. Lulić (20561)",
          "Pass by Ş. Radu (20550)",
          "Pass by S. Lulić (20561)",
          "Pass by Felipe Anderson (40806)",
          "Pass by S. Milinković-Savić (265865)",
          "Pass by S. de Vrij (130)",
          "Pass by Luiz Felipe (376362)",
          "Pass by T. Strakosha (166534)",
          "Pass by Ş. Radu (20550)",
          "Pass by C. Immobile (21384)",
          "Pass by A. Marušić (228928)",
          "Pass by Luiz Felipe (376362)",
          "Pass by Ş. Radu (20550)",
          "Pass by S. Milinković-Savić (265865)",
          "Pass by S. Lulić (20561)",
          "Pass by A. Marušić (228928)",
          "Pass by Luiz Felipe (376362)",
          "Pass by T. Strakosha (166534)",
          "Pass by S. Lulić (20561)",
          "Pass by A. Murgia (346908)",
          "Pass by A. Marušić (228928)",
          "Pass by Felipe Anderson (40806)",
          "Pass by A. Marušić (228928)",
          "Pass by Luiz Felipe (376362)",
          "Pass by C. Immobile (21384)",
          "Pass by A. Marušić (228928)",
          "Pass by C. Immobile (21384)",
          "Pass by T. Strakosha (166534)",
          "Pass by Luiz Felipe (376362)",
          "Pass by T. Strakosha (166534)",
          "Pass by C. Immobile (21384)",
          "Pass by A. Murgia (346908)",
          "Pass by Felipe Anderson (40806)",
          "Pass by A. Marušić (228928)",
          "Pass by Felipe Anderson (40806)",
          "Pass by A. Murgia (346908)",
          "Pass by T. Strakosha (166534)",
          "Pass by S. de Vrij (130)",
          "Pass by Lucas Leiva (7965)",
          "Pass by Lucas Leiva (7965)",
          "Pass by S. Milinković-Savić (265865)",
          "Pass by S. Lulić (20561)",
          "Pass by Ş. Radu (20550)",
          "Pass by S. Milinković-Savić (265865)",
          "Pass by S. Lulić (20561)",
          "Pass by S. de Vrij (130)",
          "Pass by A. Marušić (228928)",
          "Pass by Luiz Felipe (376362)",
          "Pass by S. de Vrij (130)",
          "Pass by T. Strakosha (166534)",
          "Pass by Luiz Felipe (376362)",
          "Pass by S. de Vrij (130)",
          "Pass by T. Strakosha (166534)",
          "Pass by Luiz Felipe (376362)",
          "Pass by S. de Vrij (130)",
          "Pass by Ş. Radu (20550)",
          "Pass by Ş. Radu (20550)",
          "Pass by S. de Vrij (130)",
          "Pass by Luiz Felipe (376362)",
          "Pass by S. Milinković-Savić (265865)",
          "Pass by Felipe Anderson (40806)",
          "Pass by S. Milinković-Savić (265865)",
          "Pass by Lucas Leiva (7965)",
          "Pass by Ş. Radu (20550)",
          "Pass by S. Milinković-Savić (265865)",
          "Pass by S. Lulić (20561)",
          "Pass by Felipe Anderson (40806)",
          "Pass by S. de Vrij (130)",
          "Pass by Felipe Anderson (40806)",
          "Pass by S. Lulić (20561)",
          "Pass by Lucas Leiva (7965)",
          "Pass by C. Immobile (21384)",
          "Pass by Ş. Radu (20550)",
          "Pass by S. Lulić (20561)",
          "Pass by A. Murgia (346908)",
          "Pass by Luiz Felipe (376362)",
          "Pass by Lucas Leiva (7965)",
          "Pass by A. Murgia (346908)",
          "Pass by Lucas Leiva (7965)",
          "Pass by S. Milinković-Savić (265865)",
          "Pass by S. Milinković-Savić (265865)",
          "Pass by Felipe Anderson (40806)",
          "Pass by S. Milinković-Savić (265865)",
          "Pass by A. Marušić (228928)",
          "Pass by Luiz Felipe (376362)",
          "Pass by T. Strakosha (166534)",
          "Pass by S. Milinković-Savić (265865)",
          "Pass by S. Lulić (20561)",
          "Pass by Felipe Anderson (40806)",
          "Pass by S. Lulić (20561)",
          "Pass by Ş. Radu (20550)",
          "Pass by S. de Vrij (130)",
          "Pass by Luiz Felipe (376362)",
          "Pass by A. Marušić (228928)",
          "Pass by Felipe Anderson (40806)",
          "Pass by S. Lulić (20561)",
          "Pass by S. de Vrij (130)",
          "Pass by Lucas Leiva (7965)",
          "Pass by A. Murgia (346908)",
          "Pass by Ş. Radu (20550)",
          "Pass by C. Immobile (21384)",
          "Pass by Felipe Anderson (40806)",
          "Pass by Luiz Felipe (376362)",
          "Pass by S. de Vrij (130)",
          "Pass by T. Strakosha (166534)",
          "Pass by Lucas Leiva (7965)",
          "Pass by Lucas Leiva (7965)",
          "Pass by A. Murgia (346908)",
          "Pass by S. Milinković-Savić (265865)",
          "Pass by S. Lulić (20561)",
          "Pass by S. Milinković-Savić (265865)",
          "Pass by S. Lulić (20561)",
          "Pass by Ş. Radu (20550)",
          "Pass by T. Strakosha (166534)",
          "Pass by C. Immobile (21384)",
          "Pass by S. de Vrij (130)",
          "Pass by Ş. Radu (20550)",
          "Pass by S. Lulić (20561)",
          "Pass by Felipe Anderson (40806)",
          "Pass by S. Milinković-Savić (265865)",
          "Pass by Lucas Leiva (7965)",
          "Pass by S. Milinković-Savić (265865)",
          "Pass by Ş. Radu (20550)",
          "Pass by S. Milinković-Savić (265865)",
          "Pass by C. Immobile (21384)",
          "Pass by S. Milinković-Savić (265865)",
          "Pass by S. Lulić (20561)",
          "Pass by A. Murgia (346908)",
          "Pass by S. de Vrij (130)",
          "Pass by Ş. Radu (20550)",
          "Pass by Felipe Anderson (40806)",
          "Pass by C. Immobile (21384)",
          "Pass by Felipe Anderson (40806)",
          "Pass by Felipe Anderson (40806)",
          "Pass by S. Lulić (20561)",
          "Pass by Felipe Anderson (40806)",
          "Pass by Lucas Leiva (7965)",
          "Pass by S. Milinković-Savić (265865)",
          "Pass by C. Immobile (21384)",
          "Pass by Lucas Leiva (7965)",
          "Pass by S. Lulić (20561)",
          "Pass by Ş. Radu (20550)",
          "Pass by S. Milinković-Savić (265865)",
          "Pass by Luiz Felipe (376362)",
          "Pass by Lucas Leiva (7965)",
          "Pass by Felipe Anderson (40806)",
          "Pass by Lucas Leiva (7965)",
          "Pass by Luiz Felipe (376362)",
          "Pass by Luiz Felipe (376362)",
          "Pass by A. Murgia (346908)",
          "Pass by S. Lulić (20561)",
          "Pass by Felipe Anderson (40806)",
          "Pass by S. Milinković-Savić (265865)",
          "Pass by Lucas Leiva (7965)",
          "Pass by Luiz Felipe (376362)",
          "Pass by S. Lulić (20561)",
          "Pass by Felipe Anderson (40806)",
          "Pass by A. Murgia (346908)",
          "Pass by A. Murgia (346908)",
          "Pass by Lucas Leiva (7965)",
          "Pass by S. Lulić (20561)",
          "Pass by Ş. Radu (20550)",
          "Pass by Lucas Leiva (7965)",
          "Pass by A. Murgia (346908)",
          "Pass by T. Strakosha (166534)",
          "Pass by C. Immobile (21384)",
          "Pass by S. de Vrij (130)",
          "Pass by S. Lulić (20561)",
          "Pass by Felipe Anderson (40806)",
          "Pass by S. Lulić (20561)",
          "Pass by Lucas Leiva (7965)",
          "Pass by A. Murgia (346908)",
          "Pass by Ş. Radu (20550)",
          "Pass by S. Lulić (20561)",
          "Pass by Lucas Leiva (7965)",
          "Pass by Ş. Radu (20550)",
          "Pass by S. Milinković-Savić (265865)",
          "Pass by Lucas Leiva (7965)",
          "Pass by S. Milinković-Savić (265865)",
          "Pass by Ş. Radu (20550)",
          "Pass by T. Strakosha (166534)",
          "Pass by Luiz Felipe (376362)",
          "Pass by A. Murgia (346908)",
          "Pass by A. Marušić (228928)",
          "Pass by Lucas Leiva (7965)",
          "Pass by A. Murgia (346908)",
          "Pass by Lucas Leiva (7965)",
          "Pass by T. Strakosha (166534)",
          "Pass by S. Milinković-Savić (265865)",
          "Pass by C. Immobile (21384)",
          "Pass by S. de Vrij (130)",
          "Pass by Luiz Felipe (376362)",
          "Pass by A. Murgia (346908)",
          "Pass by Lucas Leiva (7965)",
          "Pass by Lucas Leiva (7965)",
          "Pass by Felipe Anderson (40806)",
          "Pass by S. de Vrij (130)",
          "Pass by T. Strakosha (166534)",
          "Pass by Luiz Felipe (376362)",
          "Pass by A. Marušić (228928)",
          "Pass by C. Immobile (21384)",
          "Pass by Lucas Leiva (7965)",
          "Pass by S. Lulić (20561)",
          "Pass by S. Milinković-Savić (265865)",
          "Pass by Lucas Leiva (7965)",
          "Pass by Ş. Radu (20550)",
          "Pass by Ş. Radu (20550)",
          "Pass by Lucas Leiva (7965)",
          "Pass by S. Milinković-Savić (265865)",
          "Pass by Lucas Leiva (7965)",
          "Pass by Ş. Radu (20550)",
          "Pass by S. Lulić (20561)",
          "Pass by A. Marušić (228928)",
          "Pass by Lucas Leiva (7965)",
          "Pass by A. Marušić (228928)",
          "Pass by Lucas Leiva (7965)",
          "Pass by S. de Vrij (130)",
          "Pass by A. Marušić (228928)",
          "Pass by A. Murgia (346908)",
          "Pass by Luiz Felipe (376362)",
          "Pass by S. Lulić (20561)",
          "Pass by T. Strakosha (166534)",
          "Pass by Ş. Radu (20550)",
          "Pass by Luiz Felipe (376362)",
          "Pass by Lucas Leiva (7965)",
          "Pass by A. Marušić (228928)",
          "Pass by T. Strakosha (166534)",
          "Pass by S. Milinković-Savić (265865)",
          "Pass by S. Milinković-Savić (265865)",
          "Pass by A. Marušić (228928)",
          "Pass by S. de Vrij (130)",
          "Pass by Bastos (208865)",
          "Pass by Lucas Leiva (7965)",
          "Pass by S. de Vrij (130)",
          "Pass by J. Lukaku (37745)",
          "Pass by Bastos (208865)",
          "Pass by T. Strakosha (166534)",
          "Pass by S. Milinković-Savić (265865)",
          "Pass by Bastos (208865)",
          "Pass by A. Murgia (346908)",
          "Pass by Bastos (208865)",
          "Pass by Bastos (208865)",
          "Pass by J. Lukaku (37745)",
          "Pass by A. Murgia (346908)",
          "Pass by J. Lukaku (37745)",
          "Pass by Bastos (208865)",
          "Pass by Luiz Felipe (376362)",
          "Pass by A. Marušić (228928)",
          "Pass by A. Murgia (346908)",
          "Pass by A. Murgia (346908)",
          "Pass by A. Marušić (228928)",
          "Pass by A. Murgia (346908)",
          "Pass by Bastos (208865)",
          "Pass by J. Lukaku (37745)",
          "Pass by T. Strakosha (166534)",
          "Pass by Nani (7926)",
          "Pass by S. Milinković-Savić (265865)",
          "Pass by Felipe Anderson (40806)",
          "Pass by J. Lukaku (37745)",
          "Pass by Luiz Felipe (376362)",
          "Pass by Luiz Felipe (376362)",
          "Pass by Nani (7926)",
          "Pass by A. Marušić (228928)",
          "Pass by Nani (7926)",
          "Pass by J. Lukaku (37745)",
          "Pass by A. Marušić (228928)",
          "Pass by Luiz Felipe (376362)",
          "Pass by Bastos (208865)",
          "Pass by Nani (7926)",
          "Pass by Luiz Felipe (376362)",
          "Pass by J. Lukaku (37745)"
         ],
         "type": "scatter",
         "x": [
          30,
          24,
          32,
          23,
          65,
          4,
          10,
          71,
          70,
          10,
          12,
          14,
          7,
          9,
          5,
          42,
          35,
          31,
          79,
          87,
          97,
          74,
          77,
          82,
          55,
          63,
          66,
          53,
          32,
          45,
          80,
          73,
          69,
          70,
          77,
          89,
          29,
          26,
          8,
          39,
          54,
          73,
          64,
          70,
          71,
          71,
          65,
          31,
          7,
          85,
          65,
          28,
          31,
          23,
          24,
          39,
          32,
          45,
          11,
          9,
          8,
          47,
          75,
          92,
          91,
          90,
          43,
          24,
          34,
          33,
          75,
          75,
          73,
          72,
          75,
          90,
          53,
          52,
          33,
          21,
          7,
          28,
          24,
          10,
          22,
          32,
          24,
          65,
          46,
          45,
          75,
          71,
          78,
          68,
          36,
          76,
          89,
          25,
          32,
          74,
          70,
          39,
          65,
          87,
          66,
          46,
          10,
          21,
          26,
          35,
          53,
          71,
          71,
          70,
          62,
          46,
          23,
          44,
          69,
          70,
          78,
          29,
          15,
          18,
          21,
          22,
          59,
          23,
          30,
          34,
          24,
          43,
          33,
          21,
          25,
          8,
          44,
          31,
          35,
          41,
          66,
          63,
          65,
          48,
          17,
          29,
          9,
          62,
          69,
          75,
          74,
          67,
          63,
          64,
          64,
          66,
          71,
          77,
          50,
          28,
          60,
          78,
          74,
          84,
          34,
          35,
          37,
          38,
          54,
          56,
          41,
          37,
          27,
          37,
          8,
          8,
          31,
          34,
          23,
          74,
          92,
          91,
          87,
          69,
          66,
          72,
          74,
          91,
          91,
          56,
          41,
          63,
          62,
          25,
          30,
          13,
          88,
          57,
          73,
          84,
          74,
          72,
          65,
          64,
          69,
          69,
          72,
          84,
          62,
          75,
          58,
          23,
          22,
          34,
          31,
          27,
          47,
          30,
          13,
          34,
          54,
          3,
          10,
          19,
          20,
          26,
          74,
          24,
          21,
          30,
          44,
          39,
          78,
          37,
          34,
          32,
          32,
          61,
          66,
          77,
          67,
          58,
          69,
          18,
          20,
          17,
          22,
          22,
          28,
          43,
          7,
          39,
          7,
          21,
          21,
          28,
          12,
          14,
          74,
          27,
          27,
          30,
          30,
          46,
          35,
          36,
          24,
          9,
          53,
          27,
          41,
          35,
          8,
          27,
          24,
          28,
          21,
          23,
          5,
          17,
          23,
          67,
          58,
          61,
          98,
          35,
          82,
          87,
          59,
          69,
          22,
          13,
          29,
          57,
          76,
          89,
          92,
          21,
          73,
          87,
          72,
          35
         ],
         "y": [
          22,
          3,
          4,
          60,
          84,
          92,
          59,
          19,
          7,
          78,
          77,
          92,
          80,
          5,
          27,
          13,
          15,
          54,
          56,
          9,
          26,
          35,
          62,
          79,
          93,
          29,
          5,
          5,
          22,
          58,
          5,
          6,
          6,
          9,
          3,
          70,
          71,
          81,
          54,
          11,
          42,
          75,
          65,
          9,
          6,
          16,
          95,
          92,
          67,
          8,
          21,
          94,
          88,
          97,
          93,
          71,
          93,
          86,
          64,
          83,
          48,
          46,
          76,
          87,
          89,
          88,
          66,
          45,
          42,
          29,
          47,
          11,
          5,
          5,
          6,
          30,
          53,
          92,
          62,
          36,
          64,
          93,
          55,
          77,
          82,
          24,
          3,
          9,
          31,
          58,
          17,
          33,
          27,
          47,
          13,
          19,
          11,
          24,
          53,
          8,
          4,
          78,
          69,
          59,
          30,
          50,
          68,
          63,
          93,
          68,
          67,
          31,
          44,
          40,
          89,
          69,
          51,
          52,
          13,
          28,
          10,
          29,
          40,
          90,
          90,
          15,
          24,
          56,
          59,
          69,
          36,
          63,
          93,
          91,
          38,
          45,
          37,
          71,
          72,
          34,
          6,
          19,
          6,
          14,
          47,
          80,
          51,
          7,
          11,
          6,
          5,
          11,
          5,
          6,
          3,
          13,
          18,
          40,
          50,
          48,
          20,
          21,
          37,
          45,
          12,
          6,
          14,
          15,
          7,
          22,
          3,
          25,
          11,
          4,
          88,
          63,
          9,
          21,
          59,
          83,
          78,
          15,
          27,
          5,
          30,
          73,
          32,
          20,
          40,
          95,
          85,
          19,
          9,
          69,
          85,
          49,
          13,
          33,
          6,
          4,
          5,
          26,
          64,
          15,
          26,
          36,
          13,
          7,
          26,
          8,
          3,
          36,
          91,
          92,
          93,
          80,
          98,
          56,
          56,
          47,
          47,
          55,
          73,
          91,
          65,
          62,
          42,
          48,
          64,
          87,
          94,
          19,
          68,
          11,
          26,
          39,
          9,
          22,
          27,
          6,
          19,
          9,
          4,
          83,
          91,
          96,
          16,
          65,
          92,
          78,
          70,
          43,
          67,
          14,
          83,
          77,
          75,
          72,
          19,
          88,
          98,
          50,
          30,
          31,
          55,
          18,
          15,
          49,
          14,
          16,
          20,
          11,
          14,
          8,
          14,
          7,
          26,
          86,
          85,
          97,
          97,
          90,
          81,
          19,
          12,
          74,
          11,
          14,
          9,
          22,
          47,
          42,
          35,
          92,
          43,
          12,
          76,
          94,
          82,
          91,
          5,
          30
         ]
        },
        {
         "marker": {
          "color": "blue",
          "size": 8,
          "symbol": "square"
         },
         "mode": "markers",
         "name": "Internazionale",
         "text": [
          "Pass by Rafinha (3344)",
          "Pass by M. Vecino (116349)",
          "Pass by João Cancelo (135903)",
          "Pass by M. Škriniar (138408)",
          "Pass by D. D'Ambrosio (21094)",
          "Pass by João Miranda (3431)",
          "Pass by M. Škriniar (138408)",
          "Pass by D. D'Ambrosio (21094)",
          "Pass by I. Perišić (14812)",
          "Pass by M. Brozović (69968)",
          "Pass by Rafinha (3344)",
          "Pass by D. D'Ambrosio (21094)",
          "Pass by M. Škriniar (138408)",
          "Pass by M. Vecino (116349)",
          "Pass by M. Škriniar (138408)",
          "Pass by João Cancelo (135903)",
          "Pass by A. Candreva (20556)",
          "Pass by S. Handanovič (20571)",
          "Pass by M. Brozović (69968)",
          "Pass by M. Škriniar (138408)",
          "Pass by A. Candreva (20556)",
          "Pass by M. Vecino (116349)",
          "Pass by M. Škriniar (138408)",
          "Pass by M. Vecino (116349)",
          "Pass by M. Brozović (69968)",
          "Pass by M. Vecino (116349)",
          "Pass by M. Brozović (69968)",
          "Pass by I. Perišić (14812)",
          "Pass by M. Brozović (69968)",
          "Pass by João Miranda (3431)",
          "Pass by M. Vecino (116349)",
          "Pass by M. Brozović (69968)",
          "Pass by Rafinha (3344)",
          "Pass by M. Brozović (69968)",
          "Pass by D. D'Ambrosio (21094)",
          "Pass by M. Brozović (69968)",
          "Pass by M. Vecino (116349)",
          "Pass by João Miranda (3431)",
          "Pass by M. Brozović (69968)",
          "Pass by D. D'Ambrosio (21094)",
          "Pass by M. Brozović (69968)",
          "Pass by M. Brozović (69968)",
          "Pass by I. Perišić (14812)",
          "Pass by M. Icardi (206314)",
          "Pass by I. Perišić (14812)",
          "Pass by A. Candreva (20556)",
          "Pass by M. Škriniar (138408)",
          "Pass by S. Handanovič (20571)",
          "Pass by D. D'Ambrosio (21094)",
          "Pass by M. Brozović (69968)",
          "Pass by I. Perišić (14812)",
          "Pass by João Miranda (3431)",
          "Pass by D. D'Ambrosio (21094)",
          "Pass by I. Perišić (14812)",
          "Pass by D. D'Ambrosio (21094)",
          "Pass by M. Brozović (69968)",
          "Pass by M. Škriniar (138408)",
          "Pass by João Cancelo (135903)",
          "Pass by M. Škriniar (138408)",
          "Pass by D. D'Ambrosio (21094)",
          "Pass by I. Perišić (14812)",
          "Pass by Rafinha (3344)",
          "Pass by Rafinha (3344)",
          "Pass by M. Vecino (116349)",
          "Pass by A. Candreva (20556)",
          "Pass by João Cancelo (135903)",
          "Pass by João Miranda (3431)",
          "Pass by M. Škriniar (138408)",
          "Pass by D. D'Ambrosio (21094)",
          "Pass by I. Perišić (14812)",
          "Pass by D. D'Ambrosio (21094)",
          "Pass by M. Vecino (116349)",
          "Pass by João Miranda (3431)",
          "Pass by M. Škriniar (138408)",
          "Pass by João Cancelo (135903)",
          "Pass by M. Brozović (69968)",
          "Pass by M. Škriniar (138408)",
          "Pass by M. Brozović (69968)",
          "Pass by D. D'Ambrosio (21094)",
          "Pass by Rafinha (3344)",
          "Pass by M. Icardi (206314)",
          "Pass by M. Vecino (116349)",
          "Pass by M. Icardi (206314)",
          "Pass by A. Candreva (20556)",
          "Pass by M. Brozović (69968)",
          "Pass by M. Vecino (116349)",
          "Pass by M. Vecino (116349)",
          "Pass by Rafinha (3344)",
          "Pass by D. D'Ambrosio (21094)",
          "Pass by João Miranda (3431)",
          "Pass by D. D'Ambrosio (21094)",
          "Pass by M. Brozović (69968)",
          "Pass by João Miranda (3431)",
          "Pass by M. Škriniar (138408)",
          "Pass by João Cancelo (135903)",
          "Pass by A. Candreva (20556)",
          "Pass by M. Vecino (116349)",
          "Pass by A. Candreva (20556)",
          "Pass by M. Brozović (69968)",
          "Pass by D. D'Ambrosio (21094)",
          "Pass by M. Brozović (69968)",
          "Pass by M. Vecino (116349)",
          "Pass by S. Handanovič (20571)",
          "Pass by João Miranda (3431)",
          "Pass by M. Vecino (116349)",
          "Pass by Rafinha (3344)",
          "Pass by M. Brozović (69968)",
          "Pass by A. Candreva (20556)",
          "Pass by M. Škriniar (138408)",
          "Pass by João Cancelo (135903)",
          "Pass by M. Brozović (69968)",
          "Pass by Rafinha (3344)",
          "Pass by M. Škriniar (138408)",
          "Pass by M. Brozović (69968)",
          "Pass by D. D'Ambrosio (21094)",
          "Pass by I. Perišić (14812)",
          "Pass by João Miranda (3431)",
          "Pass by João Cancelo (135903)",
          "Pass by A. Candreva (20556)",
          "Pass by M. Brozović (69968)",
          "Pass by João Miranda (3431)",
          "Pass by D. D'Ambrosio (21094)",
          "Pass by Rafinha (3344)",
          "Pass by M. Brozović (69968)",
          "Pass by Rafinha (3344)",
          "Pass by M. Škriniar (138408)",
          "Pass by João Cancelo (135903)",
          "Pass by A. Candreva (20556)",
          "Pass by João Cancelo (135903)",
          "Pass by A. Candreva (20556)",
          "Pass by João Cancelo (135903)",
          "Pass by D. D'Ambrosio (21094)",
          "Pass by I. Perišić (14812)",
          "Pass by M. Brozović (69968)",
          "Pass by João Cancelo (135903)",
          "Pass by A. Candreva (20556)",
          "Pass by M. Škriniar (138408)",
          "Pass by M. Vecino (116349)",
          "Pass by A. Candreva (20556)",
          "Pass by D. D'Ambrosio (21094)",
          "Pass by João Miranda (3431)",
          "Pass by D. D'Ambrosio (21094)",
          "Pass by D. D'Ambrosio (21094)",
          "Pass by M. Vecino (116349)",
          "Pass by Rafinha (3344)",
          "Pass by João Miranda (3431)",
          "Pass by A. Candreva (20556)",
          "Pass by D. D'Ambrosio (21094)",
          "Pass by João Miranda (3431)",
          "Pass by M. Škriniar (138408)",
          "Pass by M. Brozović (69968)",
          "Pass by D. D'Ambrosio (21094)",
          "Pass by M. Brozović (69968)",
          "Pass by João Cancelo (135903)",
          "Pass by M. Brozović (69968)",
          "Pass by Rafinha (3344)",
          "Pass by M. Brozović (69968)",
          "Pass by Rafinha (3344)",
          "Pass by M. Vecino (116349)",
          "Pass by Rafinha (3344)",
          "Pass by A. Candreva (20556)",
          "Pass by M. Škriniar (138408)",
          "Pass by João Cancelo (135903)",
          "Pass by S. Handanovič (20571)",
          "Pass by D. D'Ambrosio (21094)",
          "Pass by A. Candreva (20556)",
          "Pass by João Miranda (3431)",
          "Pass by M. Škriniar (138408)",
          "Pass by Rafinha (3344)",
          "Pass by M. Brozović (69968)",
          "Pass by I. Perišić (14812)",
          "Pass by João Miranda (3431)",
          "Pass by I. Perišić (14812)",
          "Pass by S. Handanovič (20571)",
          "Pass by D. D'Ambrosio (21094)",
          "Pass by A. Candreva (20556)",
          "Pass by I. Perišić (14812)",
          "Pass by D. D'Ambrosio (21094)",
          "Pass by S. Handanovič (20571)",
          "Pass by João Miranda (3431)",
          "Pass by M. Vecino (116349)",
          "Pass by D. D'Ambrosio (21094)",
          "Pass by João Miranda (3431)",
          "Pass by M. Škriniar (138408)",
          "Pass by João Cancelo (135903)",
          "Pass by M. Škriniar (138408)",
          "Pass by D. D'Ambrosio (21094)",
          "Pass by M. Icardi (206314)",
          "Pass by M. Brozović (69968)",
          "Pass by Rafinha (3344)",
          "Pass by I. Perišić (14812)",
          "Pass by M. Škriniar (138408)",
          "Pass by M. Brozović (69968)",
          "Pass by A. Candreva (20556)",
          "Pass by Rafinha (3344)",
          "Pass by D. D'Ambrosio (21094)",
          "Pass by Rafinha (3344)",
          "Pass by João Cancelo (135903)",
          "Pass by M. Škriniar (138408)",
          "Pass by D. D'Ambrosio (21094)",
          "Pass by A. Candreva (20556)",
          "Pass by D. D'Ambrosio (21094)",
          "Pass by João Cancelo (135903)",
          "Pass by M. Škriniar (138408)",
          "Pass by João Miranda (3431)",
          "Pass by D. D'Ambrosio (21094)",
          "Pass by A. Candreva (20556)",
          "Pass by João Miranda (3431)",
          "Pass by M. Brozović (69968)",
          "Pass by M. Icardi (206314)",
          "Pass by M. Škriniar (138408)",
          "Pass by João Cancelo (135903)",
          "Pass by M. Vecino (116349)",
          "Pass by D. D'Ambrosio (21094)",
          "Pass by A. Candreva (20556)",
          "Pass by D. D'Ambrosio (21094)",
          "Pass by João Miranda (3431)",
          "Pass by M. Škriniar (138408)",
          "Pass by João Miranda (3431)",
          "Pass by M. Brozović (69968)",
          "Pass by I. Perišić (14812)",
          "Pass by D. D'Ambrosio (21094)",
          "Pass by M. Brozović (69968)",
          "Pass by João Cancelo (135903)",
          "Pass by M. Vecino (116349)",
          "Pass by Rafinha (3344)",
          "Pass by M. Brozović (69968)",
          "Pass by M. Vecino (116349)",
          "Pass by I. Perišić (14812)",
          "Pass by João Cancelo (135903)",
          "Pass by M. Vecino (116349)",
          "Pass by D. D'Ambrosio (21094)",
          "Pass by M. Brozović (69968)",
          "Pass by D. D'Ambrosio (21094)",
          "Pass by Rafinha (3344)",
          "Pass by M. Brozović (69968)",
          "Pass by A. Candreva (20556)",
          "Pass by João Miranda (3431)",
          "Pass by M. Vecino (116349)",
          "Pass by João Cancelo (135903)",
          "Pass by M. Škriniar (138408)",
          "Pass by João Miranda (3431)",
          "Pass by D. D'Ambrosio (21094)",
          "Pass by A. Candreva (20556)",
          "Pass by D. D'Ambrosio (21094)",
          "Pass by I. Perišić (14812)",
          "Pass by A. Candreva (20556)",
          "Pass by João Cancelo (135903)",
          "Pass by João Cancelo (135903)",
          "Pass by M. Škriniar (138408)",
          "Pass by I. Perišić (14812)",
          "Pass by Rafinha (3344)",
          "Pass by D. D'Ambrosio (21094)",
          "Pass by M. Brozović (69968)",
          "Pass by João Miranda (3431)",
          "Pass by Rafinha (3344)",
          "Pass by João Miranda (3431)",
          "Pass by M. Brozović (69968)",
          "Pass by M. Vecino (116349)",
          "Pass by M. Škriniar (138408)",
          "Pass by M. Vecino (116349)",
          "Pass by João Cancelo (135903)",
          "Pass by João Cancelo (135903)",
          "Pass by Rafinha (3344)",
          "Pass by M. Brozović (69968)",
          "Pass by A. Candreva (20556)",
          "Pass by M. Brozović (69968)",
          "Pass by Rafinha (3344)",
          "Pass by I. Perišić (14812)",
          "Pass by João Miranda (3431)",
          "Pass by M. Vecino (116349)",
          "Pass by João Cancelo (135903)",
          "Pass by Rafinha (3344)",
          "Pass by M. Vecino (116349)",
          "Pass by D. D'Ambrosio (21094)",
          "Pass by A. Candreva (20556)",
          "Pass by M. Vecino (116349)",
          "Pass by João Miranda (3431)",
          "Pass by João Miranda (3431)",
          "Pass by I. Perišić (14812)",
          "Pass by I. Perišić (14812)",
          "Pass by M. Icardi (206314)",
          "Pass by M. Škriniar (138408)",
          "Pass by I. Perišić (14812)",
          "Pass by M. Vecino (116349)",
          "Pass by D. D'Ambrosio (21094)",
          "Pass by João Miranda (3431)",
          "Pass by M. Škriniar (138408)",
          "Pass by João Cancelo (135903)",
          "Pass by M. Brozović (69968)",
          "Pass by João Miranda (3431)",
          "Pass by D. D'Ambrosio (21094)",
          "Pass by A. Candreva (20556)",
          "Pass by D. D'Ambrosio (21094)",
          "Pass by João Miranda (3431)",
          "Pass by A. Candreva (20556)",
          "Pass by I. Perišić (14812)",
          "Pass by Rafinha (3344)",
          "Pass by M. Brozović (69968)",
          "Pass by M. Vecino (116349)",
          "Pass by João Cancelo (135903)",
          "Pass by M. Vecino (116349)",
          "Pass by Rafinha (3344)",
          "Pass by M. Brozović (69968)",
          "Pass by João Miranda (3431)",
          "Pass by D. D'Ambrosio (21094)",
          "Pass by Rafinha (3344)",
          "Pass by A. Candreva (20556)",
          "Pass by I. Perišić (14812)",
          "Pass by M. Icardi (206314)",
          "Pass by M. Škriniar (138408)",
          "Pass by M. Škriniar (138408)",
          "Pass by João Cancelo (135903)",
          "Pass by S. Handanovič (20571)",
          "Pass by João Cancelo (135903)",
          "Pass by A. Candreva (20556)",
          "Pass by M. Brozović (69968)",
          "Pass by Rafinha (3344)",
          "Pass by D. D'Ambrosio (21094)",
          "Pass by Rafinha (3344)",
          "Pass by M. Brozović (69968)",
          "Pass by M. Vecino (116349)",
          "Pass by D. D'Ambrosio (21094)",
          "Pass by I. Perišić (14812)",
          "Pass by João Miranda (3431)",
          "Pass by João Cancelo (135903)",
          "Pass by M. Brozović (69968)",
          "Pass by Rafinha (3344)",
          "Pass by A. Candreva (20556)",
          "Pass by João Cancelo (135903)",
          "Pass by M. Vecino (116349)",
          "Pass by M. Brozović (69968)",
          "Pass by João Miranda (3431)",
          "Pass by A. Candreva (20556)",
          "Pass by D. D'Ambrosio (21094)",
          "Pass by I. Perišić (14812)",
          "Pass by M. Brozović (69968)",
          "Pass by I. Perišić (14812)",
          "Pass by João Cancelo (135903)",
          "Pass by M. Škriniar (138408)",
          "Pass by M. Vecino (116349)",
          "Pass by Rafinha (3344)",
          "Pass by D. D'Ambrosio (21094)",
          "Pass by M. Brozović (69968)",
          "Pass by A. Candreva (20556)",
          "Pass by M. Brozović (69968)",
          "Pass by Rafinha (3344)",
          "Pass by M. Škriniar (138408)",
          "Pass by João Cancelo (135903)",
          "Pass by M. Škriniar (138408)",
          "Pass by João Cancelo (135903)",
          "Pass by M. Brozović (69968)",
          "Pass by João Miranda (3431)",
          "Pass by A. Candreva (20556)",
          "Pass by D. D'Ambrosio (21094)",
          "Pass by M. Brozović (69968)",
          "Pass by Rafinha (3344)",
          "Pass by M. Brozović (69968)",
          "Pass by Rafinha (3344)",
          "Pass by D. D'Ambrosio (21094)",
          "Pass by M. Brozović (69968)",
          "Pass by M. Škriniar (138408)",
          "Pass by João Cancelo (135903)",
          "Pass by M. Škriniar (138408)",
          "Pass by João Miranda (3431)",
          "Pass by D. D'Ambrosio (21094)",
          "Pass by I. Perišić (14812)",
          "Pass by M. Vecino (116349)",
          "Pass by João Cancelo (135903)",
          "Pass by S. Handanovič (20571)",
          "Pass by M. Škriniar (138408)",
          "Pass by Rafinha (3344)",
          "Pass by M. Vecino (116349)",
          "Pass by D. D'Ambrosio (21094)",
          "Pass by I. Perišić (14812)",
          "Pass by João Cancelo (135903)",
          "Pass by M. Brozović (69968)",
          "Pass by Eder (20626)",
          "Pass by M. Brozović (69968)",
          "Pass by M. Škriniar (138408)",
          "Pass by D. D'Ambrosio (21094)",
          "Pass by M. Vecino (116349)",
          "Pass by M. Brozović (69968)",
          "Pass by M. Vecino (116349)",
          "Pass by João Miranda (3431)",
          "Pass by M. Škriniar (138408)",
          "Pass by João Miranda (3431)",
          "Pass by M. Vecino (116349)",
          "Pass by M. Brozović (69968)",
          "Pass by D. D'Ambrosio (21094)",
          "Pass by S. Handanovič (20571)",
          "Pass by M. Škriniar (138408)",
          "Pass by M. Brozović (69968)",
          "Pass by I. Perišić (14812)",
          "Pass by M. Brozović (69968)",
          "Pass by D. D'Ambrosio (21094)",
          "Pass by M. Škriniar (138408)",
          "Pass by João Miranda (3431)",
          "Pass by M. Vecino (116349)",
          "Pass by João Cancelo (135903)",
          "Pass by João Miranda (3431)",
          "Pass by D. D'Ambrosio (21094)",
          "Pass by I. Perišić (14812)",
          "Pass by Rafinha (3344)",
          "Pass by M. Brozović (69968)",
          "Pass by Rafinha (3344)",
          "Pass by S. Handanovič (20571)",
          "Pass by João Miranda (3431)",
          "Pass by M. Brozović (69968)",
          "Pass by D. D'Ambrosio (21094)",
          "Pass by João Miranda (3431)",
          "Pass by M. Vecino (116349)",
          "Pass by M. Brozović (69968)",
          "Pass by Rafinha (3344)",
          "Pass by D. D'Ambrosio (21094)",
          "Pass by M. Vecino (116349)",
          "Pass by M. Brozović (69968)",
          "Pass by João Cancelo (135903)",
          "Pass by M. Vecino (116349)",
          "Pass by João Cancelo (135903)",
          "Pass by M. Brozović (69968)",
          "Pass by M. Škriniar (138408)",
          "Pass by João Miranda (3431)",
          "Pass by D. D'Ambrosio (21094)",
          "Pass by M. Vecino (116349)",
          "Pass by M. Brozović (69968)",
          "Pass by M. Vecino (116349)",
          "Pass by M. Škriniar (138408)",
          "Pass by M. Brozović (69968)",
          "Pass by Eder (20626)",
          "Pass by João Miranda (3431)",
          "Pass by M. Škriniar (138408)",
          "Pass by João Miranda (3431)",
          "Pass by D. D'Ambrosio (21094)",
          "Pass by João Miranda (3431)",
          "Pass by D. D'Ambrosio (21094)",
          "Pass by João Miranda (3431)",
          "Pass by M. Vecino (116349)",
          "Pass by M. Škriniar (138408)",
          "Pass by João Cancelo (135903)",
          "Pass by M. Vecino (116349)",
          "Pass by I. Perišić (14812)",
          "Pass by João Miranda (3431)",
          "Pass by D. D'Ambrosio (21094)",
          "Pass by M. Škriniar (138408)",
          "Pass by M. Brozović (69968)",
          "Pass by M. Škriniar (138408)",
          "Pass by I. Perišić (14812)",
          "Pass by D. D'Ambrosio (21094)",
          "Pass by M. Brozović (69968)",
          "Pass by João Cancelo (135903)",
          "Pass by S. Handanovič (20571)",
          "Pass by D. D'Ambrosio (21094)",
          "Pass by M. Vecino (116349)",
          "Pass by M. Škriniar (138408)",
          "Pass by M. Icardi (206314)",
          "Pass by M. Brozović (69968)",
          "Pass by Eder (20626)",
          "Pass by M. Vecino (116349)",
          "Pass by M. Brozović (69968)",
          "Pass by Eder (20626)",
          "Pass by João Miranda (3431)",
          "Pass by M. Vecino (116349)",
          "Pass by M. Brozović (69968)",
          "Pass by I. Perišić (14812)",
          "Pass by M. Škriniar (138408)",
          "Pass by A. Ranocchia (20519)",
          "Pass by João Miranda (3431)",
          "Pass by S. Handanovič (20571)",
          "Pass by João Miranda (3431)",
          "Pass by S. Handanovič (20571)",
          "Pass by João Cancelo (135903)",
          "Pass by M. Vecino (116349)",
          "Pass by João Cancelo (135903)",
          "Pass by João Cancelo (135903)",
          "Pass by João Cancelo (135903)",
          "Pass by M. Brozović (69968)",
          "Pass by M. Vecino (116349)",
          "Pass by João Miranda (3431)",
          "Pass by Y. Karamoh (352993)",
          "Pass by M. Brozović (69968)",
          "Pass by I. Perišić (14812)",
          "Pass by M. Brozović (69968)",
          "Pass by Eder (20626)",
          "Pass by I. Perišić (14812)",
          "Pass by M. Škriniar (138408)",
          "Pass by S. Handanovič (20571)",
          "Pass by M. Brozović (69968)",
          "Pass by M. Icardi (206314)",
          "Pass by Eder (20626)",
          "Pass by I. Perišić (14812)",
          "Pass by M. Icardi (206314)"
         ],
         "type": "scatter",
         "x": [
          49,
          38,
          37,
          34,
          36,
          30,
          21,
          30,
          46,
          47,
          48,
          31,
          35,
          37,
          38,
          44,
          40,
          11,
          45,
          46,
          62,
          50,
          33,
          36,
          35,
          56,
          67,
          89,
          57,
          39,
          54,
          53,
          67,
          56,
          59,
          56,
          54,
          30,
          48,
          66,
          63,
          33,
          45,
          75,
          94,
          72,
          42,
          14,
          33,
          41,
          93,
          5,
          5,
          43,
          23,
          35,
          39,
          43,
          35,
          40,
          47,
          61,
          49,
          37,
          44,
          36,
          32,
          30,
          41,
          47,
          35,
          31,
          29,
          39,
          41,
          46,
          37,
          32,
          28,
          44,
          52,
          59,
          73,
          72,
          67,
          62,
          82,
          71,
          62,
          48,
          60,
          58,
          30,
          40,
          48,
          39,
          47,
          49,
          59,
          68,
          62,
          65,
          13,
          20,
          29,
          43,
          39,
          66,
          16,
          12,
          31,
          44,
          41,
          56,
          61,
          66,
          49,
          66,
          64,
          53,
          48,
          63,
          65,
          53,
          56,
          56,
          63,
          59,
          59,
          63,
          58,
          62,
          66,
          32,
          58,
          62,
          38,
          51,
          47,
          40,
          32,
          45,
          60,
          23,
          15,
          30,
          31,
          32,
          31,
          42,
          47,
          35,
          44,
          64,
          14,
          34,
          36,
          69,
          70,
          71,
          98,
          63,
          57,
          13,
          26,
          34,
          29,
          41,
          49,
          64,
          94,
          20,
          35,
          7,
          44,
          67,
          61,
          41,
          12,
          23,
          34,
          35,
          29,
          37,
          41,
          39,
          36,
          68,
          64,
          12,
          61,
          60,
          66,
          80,
          14,
          41,
          66,
          53,
          47,
          44,
          51,
          39,
          10,
          29,
          31,
          38,
          34,
          26,
          55,
          69,
          28,
          39,
          34,
          35,
          55,
          35,
          29,
          38,
          32,
          52,
          69,
          59,
          51,
          60,
          47,
          68,
          62,
          62,
          73,
          97,
          44,
          35,
          41,
          48,
          68,
          61,
          60,
          51,
          57,
          66,
          45,
          49,
          59,
          68,
          50,
          75,
          75,
          57,
          26,
          44,
          53,
          66,
          29,
          61,
          32,
          46,
          31,
          35,
          44,
          37,
          40,
          42,
          48,
          59,
          62,
          69,
          66,
          74,
          65,
          54,
          55,
          65,
          72,
          70,
          71,
          80,
          35,
          24,
          29,
          23,
          9,
          47,
          33,
          49,
          33,
          14,
          12,
          32,
          34,
          38,
          39,
          54,
          62,
          46,
          38,
          63,
          61,
          76,
          65,
          62,
          67,
          96,
          83,
          65,
          64,
          52,
          67,
          93,
          92,
          90,
          11,
          14,
          24,
          16,
          33,
          40,
          33,
          46,
          28,
          60,
          64,
          54,
          54,
          70,
          26,
          34,
          36,
          59,
          65,
          67,
          68,
          72,
          29,
          42,
          23,
          42,
          33,
          35,
          39,
          33,
          43,
          52,
          61,
          61,
          70,
          56,
          59,
          60,
          95,
          34,
          32,
          38,
          47,
          61,
          36,
          52,
          64,
          70,
          66,
          54,
          70,
          30,
          39,
          29,
          27,
          36,
          38,
          52,
          11,
          3,
          29,
          33,
          26,
          56,
          82,
          31,
          37,
          61,
          53,
          33,
          29,
          35,
          46,
          43,
          39,
          42,
          41,
          68,
          68,
          21,
          11,
          32,
          32,
          61,
          60,
          57,
          49,
          43,
          61,
          70,
          57,
          62,
          38,
          36,
          31,
          42,
          11,
          30,
          38,
          47,
          45,
          47,
          61,
          60,
          55,
          67,
          65,
          82,
          50,
          58,
          52,
          30,
          29,
          36,
          50,
          55,
          61,
          49,
          60,
          73,
          29,
          34,
          29,
          28,
          32,
          57,
          45,
          56,
          50,
          56,
          73,
          90,
          37,
          40,
          44,
          51,
          46,
          44,
          34,
          55,
          27,
          10,
          32,
          35,
          38,
          68,
          57,
          72,
          51,
          63,
          67,
          57,
          61,
          62,
          75,
          26,
          26,
          28,
          6,
          20,
          13,
          58,
          60,
          69,
          96,
          34,
          60,
          59,
          42,
          66,
          55,
          67,
          87,
          73,
          8,
          25,
          13,
          42,
          64,
          90,
          62,
          59
         ],
         "y": [
          50,
          58,
          91,
          72,
          14,
          39,
          55,
          9,
          10,
          22,
          32,
          18,
          70,
          63,
          70,
          90,
          80,
          42,
          24,
          87,
          81,
          67,
          83,
          77,
          61,
          51,
          39,
          10,
          12,
          35,
          42,
          27,
          34,
          28,
          9,
          18,
          33,
          34,
          20,
          3,
          22,
          71,
          34,
          37,
          12,
          88,
          71,
          64,
          29,
          14,
          10,
          5,
          19,
          10,
          3,
          47,
          79,
          92,
          80,
          15,
          9,
          23,
          41,
          55,
          90,
          88,
          55,
          62,
          21,
          14,
          16,
          35,
          45,
          81,
          93,
          74,
          74,
          61,
          31,
          76,
          50,
          32,
          43,
          54,
          41,
          63,
          87,
          88,
          40,
          45,
          24,
          51,
          27,
          72,
          91,
          66,
          78,
          71,
          48,
          26,
          33,
          73,
          58,
          54,
          72,
          54,
          65,
          77,
          54,
          70,
          51,
          74,
          66,
          43,
          17,
          13,
          29,
          85,
          96,
          55,
          51,
          23,
          27,
          30,
          48,
          77,
          93,
          88,
          95,
          91,
          71,
          24,
          10,
          57,
          88,
          95,
          74,
          83,
          91,
          23,
          52,
          18,
          27,
          69,
          67,
          24,
          11,
          11,
          32,
          65,
          53,
          9,
          37,
          92,
          61,
          76,
          58,
          65,
          43,
          45,
          12,
          90,
          87,
          49,
          27,
          12,
          54,
          77,
          68,
          22,
          34,
          65,
          54,
          56,
          16,
          10,
          22,
          17,
          54,
          36,
          48,
          13,
          40,
          72,
          94,
          78,
          25,
          58,
          68,
          64,
          25,
          74,
          65,
          25,
          88,
          9,
          77,
          84,
          70,
          25,
          12,
          18,
          74,
          72,
          45,
          13,
          5,
          31,
          31,
          58,
          83,
          94,
          78,
          34,
          11,
          23,
          38,
          75,
          59,
          28,
          15,
          12,
          38,
          94,
          49,
          74,
          48,
          72,
          34,
          88,
          56,
          26,
          39,
          10,
          48,
          20,
          11,
          43,
          68,
          94,
          75,
          56,
          18,
          13,
          14,
          21,
          9,
          75,
          83,
          72,
          54,
          74,
          31,
          14,
          49,
          50,
          44,
          53,
          53,
          75,
          73,
          90,
          81,
          70,
          33,
          14,
          30,
          38,
          12,
          26,
          44,
          83,
          62,
          58,
          27,
          6,
          73,
          66,
          61,
          40,
          44,
          50,
          73,
          58,
          75,
          21,
          49,
          70,
          91,
          77,
          48,
          16,
          12,
          16,
          40,
          4,
          2,
          40,
          33,
          39,
          92,
          93,
          42,
          38,
          65,
          47,
          26,
          7,
          9,
          93,
          83,
          86,
          93,
          46,
          85,
          17,
          34,
          50,
          15,
          24,
          40,
          31,
          14,
          23,
          50,
          77,
          45,
          38,
          11,
          65,
          49,
          16,
          44,
          12,
          23,
          18,
          24,
          34,
          90,
          84,
          65,
          68,
          19,
          11,
          3,
          16,
          30,
          75,
          91,
          68,
          84,
          73,
          56,
          21,
          26,
          49,
          39,
          46,
          37,
          22,
          14,
          86,
          84,
          80,
          44,
          12,
          14,
          48,
          74,
          53,
          85,
          75,
          43,
          7,
          5,
          50,
          24,
          22,
          23,
          61,
          24,
          41,
          47,
          26,
          44,
          70,
          48,
          27,
          64,
          5,
          48,
          62,
          34,
          4,
          18,
          21,
          80,
          49,
          71,
          77,
          71,
          12,
          19,
          46,
          27,
          24,
          74,
          50,
          54,
          28,
          47,
          49,
          39,
          49,
          24,
          32,
          50,
          80,
          74,
          90,
          73,
          80,
          44,
          16,
          32,
          17,
          15,
          83,
          56,
          33,
          50,
          77,
          47,
          23,
          45,
          15,
          40,
          53,
          55,
          78,
          71,
          24,
          58,
          15,
          79,
          55,
          74,
          13,
          19,
          21,
          80,
          53,
          14,
          47,
          77,
          47,
          50,
          18,
          59,
          18,
          7,
          38,
          50,
          12,
          12,
          49,
          88,
          41,
          50,
          33,
          62,
          91,
          77,
          96,
          96,
          88,
          15,
          37,
          17,
          14,
          20,
          5,
          12,
          11,
          65,
          49,
          45,
          70,
          55,
          73,
          15,
          84
         ]
        }
       ],
       "layout": {
        "autosize": false,
        "height": 600,
        "hovermode": "closest",
        "plot_bgcolor": "rgb(255, 255, 255)",
        "shapes": [
         {
          "line": {
           "color": "black"
          },
          "type": "circle",
          "x0": 40,
          "x1": 60,
          "xref": "x",
          "y0": 35,
          "y1": 65,
          "yref": "y"
         },
         {
          "line": {
           "color": "black"
          },
          "type": "line",
          "x0": 0,
          "x1": 10,
          "xref": "x",
          "y0": 35,
          "y1": 35,
          "yref": "y"
         },
         {
          "line": {
           "color": "black"
          },
          "type": "line",
          "x0": 10,
          "x1": 10,
          "xref": "x",
          "y0": 35,
          "y1": 65,
          "yref": "y"
         },
         {
          "line": {
           "color": "black"
          },
          "type": "line",
          "x0": 10,
          "x1": 0,
          "xref": "x",
          "y0": 65,
          "y1": 65,
          "yref": "y"
         },
         {
          "line": {
           "color": "black"
          },
          "type": "line",
          "x0": 100,
          "x1": 90,
          "xref": "x",
          "y0": 35,
          "y1": 35,
          "yref": "y"
         },
         {
          "line": {
           "color": "black"
          },
          "type": "line",
          "x0": 90,
          "x1": 90,
          "xref": "x",
          "y0": 35,
          "y1": 65,
          "yref": "y"
         },
         {
          "line": {
           "color": "black"
          },
          "type": "line",
          "x0": 90,
          "x1": 100,
          "xref": "x",
          "y0": 65,
          "y1": 65,
          "yref": "y"
         },
         {
          "line": {
           "color": "black"
          },
          "type": "line",
          "x0": 50,
          "x1": 50,
          "xref": "x",
          "y0": 100,
          "y1": 0,
          "yref": "y"
         },
         {
          "line": {
           "color": "black"
          },
          "type": "line",
          "x0": 0,
          "x1": 0,
          "xref": "x",
          "y0": 0,
          "y1": 100,
          "yref": "y"
         },
         {
          "line": {
           "color": "black"
          },
          "type": "line",
          "x0": 100,
          "x1": 100,
          "xref": "x",
          "y0": 0,
          "y1": 100,
          "yref": "y"
         },
         {
          "line": {
           "color": "black"
          },
          "type": "line",
          "x0": 0,
          "x1": 100,
          "xref": "x",
          "y0": 100,
          "y1": 100,
          "yref": "y"
         },
         {
          "line": {
           "color": "black"
          },
          "type": "line",
          "x0": 0,
          "x1": 100,
          "xref": "x",
          "y0": 0,
          "y1": 0,
          "yref": "y"
         }
        ],
        "template": {
         "data": {
          "bar": [
           {
            "error_x": {
             "color": "#2a3f5f"
            },
            "error_y": {
             "color": "#2a3f5f"
            },
            "marker": {
             "line": {
              "color": "#E5ECF6",
              "width": 0.5
             }
            },
            "type": "bar"
           }
          ],
          "barpolar": [
           {
            "marker": {
             "line": {
              "color": "#E5ECF6",
              "width": 0.5
             }
            },
            "type": "barpolar"
           }
          ],
          "carpet": [
           {
            "aaxis": {
             "endlinecolor": "#2a3f5f",
             "gridcolor": "white",
             "linecolor": "white",
             "minorgridcolor": "white",
             "startlinecolor": "#2a3f5f"
            },
            "baxis": {
             "endlinecolor": "#2a3f5f",
             "gridcolor": "white",
             "linecolor": "white",
             "minorgridcolor": "white",
             "startlinecolor": "#2a3f5f"
            },
            "type": "carpet"
           }
          ],
          "choropleth": [
           {
            "colorbar": {
             "outlinewidth": 0,
             "ticks": ""
            },
            "type": "choropleth"
           }
          ],
          "contour": [
           {
            "colorbar": {
             "outlinewidth": 0,
             "ticks": ""
            },
            "colorscale": [
             [
              0,
              "#0d0887"
             ],
             [
              0.1111111111111111,
              "#46039f"
             ],
             [
              0.2222222222222222,
              "#7201a8"
             ],
             [
              0.3333333333333333,
              "#9c179e"
             ],
             [
              0.4444444444444444,
              "#bd3786"
             ],
             [
              0.5555555555555556,
              "#d8576b"
             ],
             [
              0.6666666666666666,
              "#ed7953"
             ],
             [
              0.7777777777777778,
              "#fb9f3a"
             ],
             [
              0.8888888888888888,
              "#fdca26"
             ],
             [
              1,
              "#f0f921"
             ]
            ],
            "type": "contour"
           }
          ],
          "contourcarpet": [
           {
            "colorbar": {
             "outlinewidth": 0,
             "ticks": ""
            },
            "type": "contourcarpet"
           }
          ],
          "heatmap": [
           {
            "colorbar": {
             "outlinewidth": 0,
             "ticks": ""
            },
            "colorscale": [
             [
              0,
              "#0d0887"
             ],
             [
              0.1111111111111111,
              "#46039f"
             ],
             [
              0.2222222222222222,
              "#7201a8"
             ],
             [
              0.3333333333333333,
              "#9c179e"
             ],
             [
              0.4444444444444444,
              "#bd3786"
             ],
             [
              0.5555555555555556,
              "#d8576b"
             ],
             [
              0.6666666666666666,
              "#ed7953"
             ],
             [
              0.7777777777777778,
              "#fb9f3a"
             ],
             [
              0.8888888888888888,
              "#fdca26"
             ],
             [
              1,
              "#f0f921"
             ]
            ],
            "type": "heatmap"
           }
          ],
          "heatmapgl": [
           {
            "colorbar": {
             "outlinewidth": 0,
             "ticks": ""
            },
            "colorscale": [
             [
              0,
              "#0d0887"
             ],
             [
              0.1111111111111111,
              "#46039f"
             ],
             [
              0.2222222222222222,
              "#7201a8"
             ],
             [
              0.3333333333333333,
              "#9c179e"
             ],
             [
              0.4444444444444444,
              "#bd3786"
             ],
             [
              0.5555555555555556,
              "#d8576b"
             ],
             [
              0.6666666666666666,
              "#ed7953"
             ],
             [
              0.7777777777777778,
              "#fb9f3a"
             ],
             [
              0.8888888888888888,
              "#fdca26"
             ],
             [
              1,
              "#f0f921"
             ]
            ],
            "type": "heatmapgl"
           }
          ],
          "histogram": [
           {
            "marker": {
             "colorbar": {
              "outlinewidth": 0,
              "ticks": ""
             }
            },
            "type": "histogram"
           }
          ],
          "histogram2d": [
           {
            "colorbar": {
             "outlinewidth": 0,
             "ticks": ""
            },
            "colorscale": [
             [
              0,
              "#0d0887"
             ],
             [
              0.1111111111111111,
              "#46039f"
             ],
             [
              0.2222222222222222,
              "#7201a8"
             ],
             [
              0.3333333333333333,
              "#9c179e"
             ],
             [
              0.4444444444444444,
              "#bd3786"
             ],
             [
              0.5555555555555556,
              "#d8576b"
             ],
             [
              0.6666666666666666,
              "#ed7953"
             ],
             [
              0.7777777777777778,
              "#fb9f3a"
             ],
             [
              0.8888888888888888,
              "#fdca26"
             ],
             [
              1,
              "#f0f921"
             ]
            ],
            "type": "histogram2d"
           }
          ],
          "histogram2dcontour": [
           {
            "colorbar": {
             "outlinewidth": 0,
             "ticks": ""
            },
            "colorscale": [
             [
              0,
              "#0d0887"
             ],
             [
              0.1111111111111111,
              "#46039f"
             ],
             [
              0.2222222222222222,
              "#7201a8"
             ],
             [
              0.3333333333333333,
              "#9c179e"
             ],
             [
              0.4444444444444444,
              "#bd3786"
             ],
             [
              0.5555555555555556,
              "#d8576b"
             ],
             [
              0.6666666666666666,
              "#ed7953"
             ],
             [
              0.7777777777777778,
              "#fb9f3a"
             ],
             [
              0.8888888888888888,
              "#fdca26"
             ],
             [
              1,
              "#f0f921"
             ]
            ],
            "type": "histogram2dcontour"
           }
          ],
          "mesh3d": [
           {
            "colorbar": {
             "outlinewidth": 0,
             "ticks": ""
            },
            "type": "mesh3d"
           }
          ],
          "parcoords": [
           {
            "line": {
             "colorbar": {
              "outlinewidth": 0,
              "ticks": ""
             }
            },
            "type": "parcoords"
           }
          ],
          "pie": [
           {
            "automargin": true,
            "type": "pie"
           }
          ],
          "scatter": [
           {
            "marker": {
             "colorbar": {
              "outlinewidth": 0,
              "ticks": ""
             }
            },
            "type": "scatter"
           }
          ],
          "scatter3d": [
           {
            "line": {
             "colorbar": {
              "outlinewidth": 0,
              "ticks": ""
             }
            },
            "marker": {
             "colorbar": {
              "outlinewidth": 0,
              "ticks": ""
             }
            },
            "type": "scatter3d"
           }
          ],
          "scattercarpet": [
           {
            "marker": {
             "colorbar": {
              "outlinewidth": 0,
              "ticks": ""
             }
            },
            "type": "scattercarpet"
           }
          ],
          "scattergeo": [
           {
            "marker": {
             "colorbar": {
              "outlinewidth": 0,
              "ticks": ""
             }
            },
            "type": "scattergeo"
           }
          ],
          "scattergl": [
           {
            "marker": {
             "colorbar": {
              "outlinewidth": 0,
              "ticks": ""
             }
            },
            "type": "scattergl"
           }
          ],
          "scattermapbox": [
           {
            "marker": {
             "colorbar": {
              "outlinewidth": 0,
              "ticks": ""
             }
            },
            "type": "scattermapbox"
           }
          ],
          "scatterpolar": [
           {
            "marker": {
             "colorbar": {
              "outlinewidth": 0,
              "ticks": ""
             }
            },
            "type": "scatterpolar"
           }
          ],
          "scatterpolargl": [
           {
            "marker": {
             "colorbar": {
              "outlinewidth": 0,
              "ticks": ""
             }
            },
            "type": "scatterpolargl"
           }
          ],
          "scatterternary": [
           {
            "marker": {
             "colorbar": {
              "outlinewidth": 0,
              "ticks": ""
             }
            },
            "type": "scatterternary"
           }
          ],
          "surface": [
           {
            "colorbar": {
             "outlinewidth": 0,
             "ticks": ""
            },
            "colorscale": [
             [
              0,
              "#0d0887"
             ],
             [
              0.1111111111111111,
              "#46039f"
             ],
             [
              0.2222222222222222,
              "#7201a8"
             ],
             [
              0.3333333333333333,
              "#9c179e"
             ],
             [
              0.4444444444444444,
              "#bd3786"
             ],
             [
              0.5555555555555556,
              "#d8576b"
             ],
             [
              0.6666666666666666,
              "#ed7953"
             ],
             [
              0.7777777777777778,
              "#fb9f3a"
             ],
             [
              0.8888888888888888,
              "#fdca26"
             ],
             [
              1,
              "#f0f921"
             ]
            ],
            "type": "surface"
           }
          ],
          "table": [
           {
            "cells": {
             "fill": {
              "color": "#EBF0F8"
             },
             "line": {
              "color": "white"
             }
            },
            "header": {
             "fill": {
              "color": "#C8D4E3"
             },
             "line": {
              "color": "white"
             }
            },
            "type": "table"
           }
          ]
         },
         "layout": {
          "annotationdefaults": {
           "arrowcolor": "#2a3f5f",
           "arrowhead": 0,
           "arrowwidth": 1
          },
          "coloraxis": {
           "colorbar": {
            "outlinewidth": 0,
            "ticks": ""
           }
          },
          "colorscale": {
           "diverging": [
            [
             0,
             "#8e0152"
            ],
            [
             0.1,
             "#c51b7d"
            ],
            [
             0.2,
             "#de77ae"
            ],
            [
             0.3,
             "#f1b6da"
            ],
            [
             0.4,
             "#fde0ef"
            ],
            [
             0.5,
             "#f7f7f7"
            ],
            [
             0.6,
             "#e6f5d0"
            ],
            [
             0.7,
             "#b8e186"
            ],
            [
             0.8,
             "#7fbc41"
            ],
            [
             0.9,
             "#4d9221"
            ],
            [
             1,
             "#276419"
            ]
           ],
           "sequential": [
            [
             0,
             "#0d0887"
            ],
            [
             0.1111111111111111,
             "#46039f"
            ],
            [
             0.2222222222222222,
             "#7201a8"
            ],
            [
             0.3333333333333333,
             "#9c179e"
            ],
            [
             0.4444444444444444,
             "#bd3786"
            ],
            [
             0.5555555555555556,
             "#d8576b"
            ],
            [
             0.6666666666666666,
             "#ed7953"
            ],
            [
             0.7777777777777778,
             "#fb9f3a"
            ],
            [
             0.8888888888888888,
             "#fdca26"
            ],
            [
             1,
             "#f0f921"
            ]
           ],
           "sequentialminus": [
            [
             0,
             "#0d0887"
            ],
            [
             0.1111111111111111,
             "#46039f"
            ],
            [
             0.2222222222222222,
             "#7201a8"
            ],
            [
             0.3333333333333333,
             "#9c179e"
            ],
            [
             0.4444444444444444,
             "#bd3786"
            ],
            [
             0.5555555555555556,
             "#d8576b"
            ],
            [
             0.6666666666666666,
             "#ed7953"
            ],
            [
             0.7777777777777778,
             "#fb9f3a"
            ],
            [
             0.8888888888888888,
             "#fdca26"
            ],
            [
             1,
             "#f0f921"
            ]
           ]
          },
          "colorway": [
           "#636efa",
           "#EF553B",
           "#00cc96",
           "#ab63fa",
           "#FFA15A",
           "#19d3f3",
           "#FF6692",
           "#B6E880",
           "#FF97FF",
           "#FECB52"
          ],
          "font": {
           "color": "#2a3f5f"
          },
          "geo": {
           "bgcolor": "white",
           "lakecolor": "white",
           "landcolor": "#E5ECF6",
           "showlakes": true,
           "showland": true,
           "subunitcolor": "white"
          },
          "hoverlabel": {
           "align": "left"
          },
          "hovermode": "closest",
          "mapbox": {
           "style": "light"
          },
          "paper_bgcolor": "white",
          "plot_bgcolor": "#E5ECF6",
          "polar": {
           "angularaxis": {
            "gridcolor": "white",
            "linecolor": "white",
            "ticks": ""
           },
           "bgcolor": "#E5ECF6",
           "radialaxis": {
            "gridcolor": "white",
            "linecolor": "white",
            "ticks": ""
           }
          },
          "scene": {
           "xaxis": {
            "backgroundcolor": "#E5ECF6",
            "gridcolor": "white",
            "gridwidth": 2,
            "linecolor": "white",
            "showbackground": true,
            "ticks": "",
            "zerolinecolor": "white"
           },
           "yaxis": {
            "backgroundcolor": "#E5ECF6",
            "gridcolor": "white",
            "gridwidth": 2,
            "linecolor": "white",
            "showbackground": true,
            "ticks": "",
            "zerolinecolor": "white"
           },
           "zaxis": {
            "backgroundcolor": "#E5ECF6",
            "gridcolor": "white",
            "gridwidth": 2,
            "linecolor": "white",
            "showbackground": true,
            "ticks": "",
            "zerolinecolor": "white"
           }
          },
          "shapedefaults": {
           "line": {
            "color": "#2a3f5f"
           }
          },
          "ternary": {
           "aaxis": {
            "gridcolor": "white",
            "linecolor": "white",
            "ticks": ""
           },
           "baxis": {
            "gridcolor": "white",
            "linecolor": "white",
            "ticks": ""
           },
           "bgcolor": "#E5ECF6",
           "caxis": {
            "gridcolor": "white",
            "linecolor": "white",
            "ticks": ""
           }
          },
          "title": {
           "x": 0.05
          },
          "xaxis": {
           "automargin": true,
           "gridcolor": "white",
           "linecolor": "white",
           "ticks": "",
           "title": {
            "standoff": 15
           },
           "zerolinecolor": "white",
           "zerolinewidth": 2
          },
          "yaxis": {
           "automargin": true,
           "gridcolor": "white",
           "linecolor": "white",
           "ticks": "",
           "title": {
            "standoff": 15
           },
           "zerolinecolor": "white",
           "zerolinewidth": 2
          }
         }
        },
        "title": {
         "text": "Lazio - Internazionale, 2 - 3"
        },
        "width": 825,
        "xaxis": {
         "range": [
          0,
          100
         ],
         "showgrid": false,
         "showticklabels": false
        },
        "yaxis": {
         "range": [
          0,
          100
         ],
         "showgrid": false,
         "showticklabels": false
        }
       }
      },
      "text/html": [
       "<div>\n",
       "        \n",
       "        \n",
       "            <div id=\"dd8b0c21-a1d9-4cbb-9f03-04f5db9db2f5\" class=\"plotly-graph-div\" style=\"height:600px; width:825px;\"></div>\n",
       "            <script type=\"text/javascript\">\n",
       "                require([\"plotly\"], function(Plotly) {\n",
       "                    window.PLOTLYENV=window.PLOTLYENV || {};\n",
       "                    \n",
       "                if (document.getElementById(\"dd8b0c21-a1d9-4cbb-9f03-04f5db9db2f5\")) {\n",
       "                    Plotly.newPlot(\n",
       "                        'dd8b0c21-a1d9-4cbb-9f03-04f5db9db2f5',\n",
       "                        [{\"marker\": {\"color\": \"red\", \"size\": 8}, \"mode\": \"markers\", \"name\": \"Lazio\", \"text\": [\"Pass by S. de Vrij (130)\", \"Pass by \\u015e. Radu (20550)\", \"Pass by S. Luli\\u0107 (20561)\", \"Pass by Luiz Felipe (376362)\", \"Pass by C. Immobile (21384)\", \"Pass by Luiz Felipe (376362)\", \"Pass by T. Strakosha (166534)\", \"Pass by S. Milinkovi\\u0107-Savi\\u0107 (265865)\", \"Pass by S. Luli\\u0107 (20561)\", \"Pass by Luiz Felipe (376362)\", \"Pass by Lucas Leiva (7965)\", \"Pass by A. Maru\\u0161i\\u0107 (228928)\", \"Pass by Luiz Felipe (376362)\", \"Pass by \\u015e. Radu (20550)\", \"Pass by T. Strakosha (166534)\", \"Pass by C. Immobile (21384)\", \"Pass by S. Luli\\u0107 (20561)\", \"Pass by Lucas Leiva (7965)\", \"Pass by Lucas Leiva (7965)\", \"Pass by S. Luli\\u0107 (20561)\", \"Pass by C. Immobile (21384)\", \"Pass by S. Milinkovi\\u0107-Savi\\u0107 (265865)\", \"Pass by A. Murgia (346908)\", \"Pass by Felipe Anderson (40806)\", \"Pass by Lucas Leiva (7965)\", \"Pass by S. Milinkovi\\u0107-Savi\\u0107 (265865)\", \"Pass by S. Milinkovi\\u0107-Savi\\u0107 (265865)\", \"Pass by \\u015e. Radu (20550)\", \"Pass by S. de Vrij (130)\", \"Pass by Luiz Felipe (376362)\", \"Pass by S. Luli\\u0107 (20561)\", \"Pass by S. Luli\\u0107 (20561)\", \"Pass by \\u015e. Radu (20550)\", \"Pass by S. Luli\\u0107 (20561)\", \"Pass by Felipe Anderson (40806)\", \"Pass by S. Milinkovi\\u0107-Savi\\u0107 (265865)\", \"Pass by S. de Vrij (130)\", \"Pass by Luiz Felipe (376362)\", \"Pass by T. Strakosha (166534)\", \"Pass by \\u015e. Radu (20550)\", \"Pass by C. Immobile (21384)\", \"Pass by A. Maru\\u0161i\\u0107 (228928)\", \"Pass by Luiz Felipe (376362)\", \"Pass by \\u015e. Radu (20550)\", \"Pass by S. Milinkovi\\u0107-Savi\\u0107 (265865)\", \"Pass by S. Luli\\u0107 (20561)\", \"Pass by A. Maru\\u0161i\\u0107 (228928)\", \"Pass by Luiz Felipe (376362)\", \"Pass by T. Strakosha (166534)\", \"Pass by S. Luli\\u0107 (20561)\", \"Pass by A. Murgia (346908)\", \"Pass by A. Maru\\u0161i\\u0107 (228928)\", \"Pass by Felipe Anderson (40806)\", \"Pass by A. Maru\\u0161i\\u0107 (228928)\", \"Pass by Luiz Felipe (376362)\", \"Pass by C. Immobile (21384)\", \"Pass by A. Maru\\u0161i\\u0107 (228928)\", \"Pass by C. Immobile (21384)\", \"Pass by T. Strakosha (166534)\", \"Pass by Luiz Felipe (376362)\", \"Pass by T. Strakosha (166534)\", \"Pass by C. Immobile (21384)\", \"Pass by A. Murgia (346908)\", \"Pass by Felipe Anderson (40806)\", \"Pass by A. Maru\\u0161i\\u0107 (228928)\", \"Pass by Felipe Anderson (40806)\", \"Pass by A. Murgia (346908)\", \"Pass by T. Strakosha (166534)\", \"Pass by S. de Vrij (130)\", \"Pass by Lucas Leiva (7965)\", \"Pass by Lucas Leiva (7965)\", \"Pass by S. Milinkovi\\u0107-Savi\\u0107 (265865)\", \"Pass by S. Luli\\u0107 (20561)\", \"Pass by \\u015e. Radu (20550)\", \"Pass by S. Milinkovi\\u0107-Savi\\u0107 (265865)\", \"Pass by S. Luli\\u0107 (20561)\", \"Pass by S. de Vrij (130)\", \"Pass by A. Maru\\u0161i\\u0107 (228928)\", \"Pass by Luiz Felipe (376362)\", \"Pass by S. de Vrij (130)\", \"Pass by T. Strakosha (166534)\", \"Pass by Luiz Felipe (376362)\", \"Pass by S. de Vrij (130)\", \"Pass by T. Strakosha (166534)\", \"Pass by Luiz Felipe (376362)\", \"Pass by S. de Vrij (130)\", \"Pass by \\u015e. Radu (20550)\", \"Pass by \\u015e. Radu (20550)\", \"Pass by S. de Vrij (130)\", \"Pass by Luiz Felipe (376362)\", \"Pass by S. Milinkovi\\u0107-Savi\\u0107 (265865)\", \"Pass by Felipe Anderson (40806)\", \"Pass by S. Milinkovi\\u0107-Savi\\u0107 (265865)\", \"Pass by Lucas Leiva (7965)\", \"Pass by \\u015e. Radu (20550)\", \"Pass by S. Milinkovi\\u0107-Savi\\u0107 (265865)\", \"Pass by S. Luli\\u0107 (20561)\", \"Pass by Felipe Anderson (40806)\", \"Pass by S. de Vrij (130)\", \"Pass by Felipe Anderson (40806)\", \"Pass by S. Luli\\u0107 (20561)\", \"Pass by Lucas Leiva (7965)\", \"Pass by C. Immobile (21384)\", \"Pass by \\u015e. Radu (20550)\", \"Pass by S. Luli\\u0107 (20561)\", \"Pass by A. Murgia (346908)\", \"Pass by Luiz Felipe (376362)\", \"Pass by Lucas Leiva (7965)\", \"Pass by A. Murgia (346908)\", \"Pass by Lucas Leiva (7965)\", \"Pass by S. Milinkovi\\u0107-Savi\\u0107 (265865)\", \"Pass by S. Milinkovi\\u0107-Savi\\u0107 (265865)\", \"Pass by Felipe Anderson (40806)\", \"Pass by S. Milinkovi\\u0107-Savi\\u0107 (265865)\", \"Pass by A. Maru\\u0161i\\u0107 (228928)\", \"Pass by Luiz Felipe (376362)\", \"Pass by T. Strakosha (166534)\", \"Pass by S. Milinkovi\\u0107-Savi\\u0107 (265865)\", \"Pass by S. Luli\\u0107 (20561)\", \"Pass by Felipe Anderson (40806)\", \"Pass by S. Luli\\u0107 (20561)\", \"Pass by \\u015e. Radu (20550)\", \"Pass by S. de Vrij (130)\", \"Pass by Luiz Felipe (376362)\", \"Pass by A. Maru\\u0161i\\u0107 (228928)\", \"Pass by Felipe Anderson (40806)\", \"Pass by S. Luli\\u0107 (20561)\", \"Pass by S. de Vrij (130)\", \"Pass by Lucas Leiva (7965)\", \"Pass by A. Murgia (346908)\", \"Pass by \\u015e. Radu (20550)\", \"Pass by C. Immobile (21384)\", \"Pass by Felipe Anderson (40806)\", \"Pass by Luiz Felipe (376362)\", \"Pass by S. de Vrij (130)\", \"Pass by T. Strakosha (166534)\", \"Pass by Lucas Leiva (7965)\", \"Pass by Lucas Leiva (7965)\", \"Pass by A. Murgia (346908)\", \"Pass by S. Milinkovi\\u0107-Savi\\u0107 (265865)\", \"Pass by S. Luli\\u0107 (20561)\", \"Pass by S. Milinkovi\\u0107-Savi\\u0107 (265865)\", \"Pass by S. Luli\\u0107 (20561)\", \"Pass by \\u015e. Radu (20550)\", \"Pass by T. Strakosha (166534)\", \"Pass by C. Immobile (21384)\", \"Pass by S. de Vrij (130)\", \"Pass by \\u015e. Radu (20550)\", \"Pass by S. Luli\\u0107 (20561)\", \"Pass by Felipe Anderson (40806)\", \"Pass by S. Milinkovi\\u0107-Savi\\u0107 (265865)\", \"Pass by Lucas Leiva (7965)\", \"Pass by S. Milinkovi\\u0107-Savi\\u0107 (265865)\", \"Pass by \\u015e. Radu (20550)\", \"Pass by S. Milinkovi\\u0107-Savi\\u0107 (265865)\", \"Pass by C. Immobile (21384)\", \"Pass by S. Milinkovi\\u0107-Savi\\u0107 (265865)\", \"Pass by S. Luli\\u0107 (20561)\", \"Pass by A. Murgia (346908)\", \"Pass by S. de Vrij (130)\", \"Pass by \\u015e. Radu (20550)\", \"Pass by Felipe Anderson (40806)\", \"Pass by C. Immobile (21384)\", \"Pass by Felipe Anderson (40806)\", \"Pass by Felipe Anderson (40806)\", \"Pass by S. Luli\\u0107 (20561)\", \"Pass by Felipe Anderson (40806)\", \"Pass by Lucas Leiva (7965)\", \"Pass by S. Milinkovi\\u0107-Savi\\u0107 (265865)\", \"Pass by C. Immobile (21384)\", \"Pass by Lucas Leiva (7965)\", \"Pass by S. Luli\\u0107 (20561)\", \"Pass by \\u015e. Radu (20550)\", \"Pass by S. Milinkovi\\u0107-Savi\\u0107 (265865)\", \"Pass by Luiz Felipe (376362)\", \"Pass by Lucas Leiva (7965)\", \"Pass by Felipe Anderson (40806)\", \"Pass by Lucas Leiva (7965)\", \"Pass by Luiz Felipe (376362)\", \"Pass by Luiz Felipe (376362)\", \"Pass by A. Murgia (346908)\", \"Pass by S. Luli\\u0107 (20561)\", \"Pass by Felipe Anderson (40806)\", \"Pass by S. Milinkovi\\u0107-Savi\\u0107 (265865)\", \"Pass by Lucas Leiva (7965)\", \"Pass by Luiz Felipe (376362)\", \"Pass by S. Luli\\u0107 (20561)\", \"Pass by Felipe Anderson (40806)\", \"Pass by A. Murgia (346908)\", \"Pass by A. Murgia (346908)\", \"Pass by Lucas Leiva (7965)\", \"Pass by S. Luli\\u0107 (20561)\", \"Pass by \\u015e. Radu (20550)\", \"Pass by Lucas Leiva (7965)\", \"Pass by A. Murgia (346908)\", \"Pass by T. Strakosha (166534)\", \"Pass by C. Immobile (21384)\", \"Pass by S. de Vrij (130)\", \"Pass by S. Luli\\u0107 (20561)\", \"Pass by Felipe Anderson (40806)\", \"Pass by S. Luli\\u0107 (20561)\", \"Pass by Lucas Leiva (7965)\", \"Pass by A. Murgia (346908)\", \"Pass by \\u015e. Radu (20550)\", \"Pass by S. Luli\\u0107 (20561)\", \"Pass by Lucas Leiva (7965)\", \"Pass by \\u015e. Radu (20550)\", \"Pass by S. Milinkovi\\u0107-Savi\\u0107 (265865)\", \"Pass by Lucas Leiva (7965)\", \"Pass by S. Milinkovi\\u0107-Savi\\u0107 (265865)\", \"Pass by \\u015e. Radu (20550)\", \"Pass by T. Strakosha (166534)\", \"Pass by Luiz Felipe (376362)\", \"Pass by A. Murgia (346908)\", \"Pass by A. Maru\\u0161i\\u0107 (228928)\", \"Pass by Lucas Leiva (7965)\", \"Pass by A. Murgia (346908)\", \"Pass by Lucas Leiva (7965)\", \"Pass by T. Strakosha (166534)\", \"Pass by S. Milinkovi\\u0107-Savi\\u0107 (265865)\", \"Pass by C. Immobile (21384)\", \"Pass by S. de Vrij (130)\", \"Pass by Luiz Felipe (376362)\", \"Pass by A. Murgia (346908)\", \"Pass by Lucas Leiva (7965)\", \"Pass by Lucas Leiva (7965)\", \"Pass by Felipe Anderson (40806)\", \"Pass by S. de Vrij (130)\", \"Pass by T. Strakosha (166534)\", \"Pass by Luiz Felipe (376362)\", \"Pass by A. Maru\\u0161i\\u0107 (228928)\", \"Pass by C. Immobile (21384)\", \"Pass by Lucas Leiva (7965)\", \"Pass by S. Luli\\u0107 (20561)\", \"Pass by S. Milinkovi\\u0107-Savi\\u0107 (265865)\", \"Pass by Lucas Leiva (7965)\", \"Pass by \\u015e. Radu (20550)\", \"Pass by \\u015e. Radu (20550)\", \"Pass by Lucas Leiva (7965)\", \"Pass by S. Milinkovi\\u0107-Savi\\u0107 (265865)\", \"Pass by Lucas Leiva (7965)\", \"Pass by \\u015e. Radu (20550)\", \"Pass by S. Luli\\u0107 (20561)\", \"Pass by A. Maru\\u0161i\\u0107 (228928)\", \"Pass by Lucas Leiva (7965)\", \"Pass by A. Maru\\u0161i\\u0107 (228928)\", \"Pass by Lucas Leiva (7965)\", \"Pass by S. de Vrij (130)\", \"Pass by A. Maru\\u0161i\\u0107 (228928)\", \"Pass by A. Murgia (346908)\", \"Pass by Luiz Felipe (376362)\", \"Pass by S. Luli\\u0107 (20561)\", \"Pass by T. Strakosha (166534)\", \"Pass by \\u015e. Radu (20550)\", \"Pass by Luiz Felipe (376362)\", \"Pass by Lucas Leiva (7965)\", \"Pass by A. Maru\\u0161i\\u0107 (228928)\", \"Pass by T. Strakosha (166534)\", \"Pass by S. Milinkovi\\u0107-Savi\\u0107 (265865)\", \"Pass by S. Milinkovi\\u0107-Savi\\u0107 (265865)\", \"Pass by A. Maru\\u0161i\\u0107 (228928)\", \"Pass by S. de Vrij (130)\", \"Pass by Bastos (208865)\", \"Pass by Lucas Leiva (7965)\", \"Pass by S. de Vrij (130)\", \"Pass by J. Lukaku (37745)\", \"Pass by Bastos (208865)\", \"Pass by T. Strakosha (166534)\", \"Pass by S. Milinkovi\\u0107-Savi\\u0107 (265865)\", \"Pass by Bastos (208865)\", \"Pass by A. Murgia (346908)\", \"Pass by Bastos (208865)\", \"Pass by Bastos (208865)\", \"Pass by J. Lukaku (37745)\", \"Pass by A. Murgia (346908)\", \"Pass by J. Lukaku (37745)\", \"Pass by Bastos (208865)\", \"Pass by Luiz Felipe (376362)\", \"Pass by A. Maru\\u0161i\\u0107 (228928)\", \"Pass by A. Murgia (346908)\", \"Pass by A. Murgia (346908)\", \"Pass by A. Maru\\u0161i\\u0107 (228928)\", \"Pass by A. Murgia (346908)\", \"Pass by Bastos (208865)\", \"Pass by J. Lukaku (37745)\", \"Pass by T. Strakosha (166534)\", \"Pass by Nani (7926)\", \"Pass by S. Milinkovi\\u0107-Savi\\u0107 (265865)\", \"Pass by Felipe Anderson (40806)\", \"Pass by J. Lukaku (37745)\", \"Pass by Luiz Felipe (376362)\", \"Pass by Luiz Felipe (376362)\", \"Pass by Nani (7926)\", \"Pass by A. Maru\\u0161i\\u0107 (228928)\", \"Pass by Nani (7926)\", \"Pass by J. Lukaku (37745)\", \"Pass by A. Maru\\u0161i\\u0107 (228928)\", \"Pass by Luiz Felipe (376362)\", \"Pass by Bastos (208865)\", \"Pass by Nani (7926)\", \"Pass by Luiz Felipe (376362)\", \"Pass by J. Lukaku (37745)\"], \"type\": \"scatter\", \"x\": [30, 24, 32, 23, 65, 4, 10, 71, 70, 10, 12, 14, 7, 9, 5, 42, 35, 31, 79, 87, 97, 74, 77, 82, 55, 63, 66, 53, 32, 45, 80, 73, 69, 70, 77, 89, 29, 26, 8, 39, 54, 73, 64, 70, 71, 71, 65, 31, 7, 85, 65, 28, 31, 23, 24, 39, 32, 45, 11, 9, 8, 47, 75, 92, 91, 90, 43, 24, 34, 33, 75, 75, 73, 72, 75, 90, 53, 52, 33, 21, 7, 28, 24, 10, 22, 32, 24, 65, 46, 45, 75, 71, 78, 68, 36, 76, 89, 25, 32, 74, 70, 39, 65, 87, 66, 46, 10, 21, 26, 35, 53, 71, 71, 70, 62, 46, 23, 44, 69, 70, 78, 29, 15, 18, 21, 22, 59, 23, 30, 34, 24, 43, 33, 21, 25, 8, 44, 31, 35, 41, 66, 63, 65, 48, 17, 29, 9, 62, 69, 75, 74, 67, 63, 64, 64, 66, 71, 77, 50, 28, 60, 78, 74, 84, 34, 35, 37, 38, 54, 56, 41, 37, 27, 37, 8, 8, 31, 34, 23, 74, 92, 91, 87, 69, 66, 72, 74, 91, 91, 56, 41, 63, 62, 25, 30, 13, 88, 57, 73, 84, 74, 72, 65, 64, 69, 69, 72, 84, 62, 75, 58, 23, 22, 34, 31, 27, 47, 30, 13, 34, 54, 3, 10, 19, 20, 26, 74, 24, 21, 30, 44, 39, 78, 37, 34, 32, 32, 61, 66, 77, 67, 58, 69, 18, 20, 17, 22, 22, 28, 43, 7, 39, 7, 21, 21, 28, 12, 14, 74, 27, 27, 30, 30, 46, 35, 36, 24, 9, 53, 27, 41, 35, 8, 27, 24, 28, 21, 23, 5, 17, 23, 67, 58, 61, 98, 35, 82, 87, 59, 69, 22, 13, 29, 57, 76, 89, 92, 21, 73, 87, 72, 35], \"y\": [22, 3, 4, 60, 84, 92, 59, 19, 7, 78, 77, 92, 80, 5, 27, 13, 15, 54, 56, 9, 26, 35, 62, 79, 93, 29, 5, 5, 22, 58, 5, 6, 6, 9, 3, 70, 71, 81, 54, 11, 42, 75, 65, 9, 6, 16, 95, 92, 67, 8, 21, 94, 88, 97, 93, 71, 93, 86, 64, 83, 48, 46, 76, 87, 89, 88, 66, 45, 42, 29, 47, 11, 5, 5, 6, 30, 53, 92, 62, 36, 64, 93, 55, 77, 82, 24, 3, 9, 31, 58, 17, 33, 27, 47, 13, 19, 11, 24, 53, 8, 4, 78, 69, 59, 30, 50, 68, 63, 93, 68, 67, 31, 44, 40, 89, 69, 51, 52, 13, 28, 10, 29, 40, 90, 90, 15, 24, 56, 59, 69, 36, 63, 93, 91, 38, 45, 37, 71, 72, 34, 6, 19, 6, 14, 47, 80, 51, 7, 11, 6, 5, 11, 5, 6, 3, 13, 18, 40, 50, 48, 20, 21, 37, 45, 12, 6, 14, 15, 7, 22, 3, 25, 11, 4, 88, 63, 9, 21, 59, 83, 78, 15, 27, 5, 30, 73, 32, 20, 40, 95, 85, 19, 9, 69, 85, 49, 13, 33, 6, 4, 5, 26, 64, 15, 26, 36, 13, 7, 26, 8, 3, 36, 91, 92, 93, 80, 98, 56, 56, 47, 47, 55, 73, 91, 65, 62, 42, 48, 64, 87, 94, 19, 68, 11, 26, 39, 9, 22, 27, 6, 19, 9, 4, 83, 91, 96, 16, 65, 92, 78, 70, 43, 67, 14, 83, 77, 75, 72, 19, 88, 98, 50, 30, 31, 55, 18, 15, 49, 14, 16, 20, 11, 14, 8, 14, 7, 26, 86, 85, 97, 97, 90, 81, 19, 12, 74, 11, 14, 9, 22, 47, 42, 35, 92, 43, 12, 76, 94, 82, 91, 5, 30]}, {\"marker\": {\"color\": \"blue\", \"size\": 8, \"symbol\": \"square\"}, \"mode\": \"markers\", \"name\": \"Internazionale\", \"text\": [\"Pass by Rafinha (3344)\", \"Pass by M. Vecino (116349)\", \"Pass by Jo\\u00e3o Cancelo (135903)\", \"Pass by M. \\u0160kriniar (138408)\", \"Pass by D. D'Ambrosio (21094)\", \"Pass by Jo\\u00e3o Miranda (3431)\", \"Pass by M. \\u0160kriniar (138408)\", \"Pass by D. D'Ambrosio (21094)\", \"Pass by I. Peri\\u0161i\\u0107 (14812)\", \"Pass by M. Brozovi\\u0107 (69968)\", \"Pass by Rafinha (3344)\", \"Pass by D. D'Ambrosio (21094)\", \"Pass by M. \\u0160kriniar (138408)\", \"Pass by M. Vecino (116349)\", \"Pass by M. \\u0160kriniar (138408)\", \"Pass by Jo\\u00e3o Cancelo (135903)\", \"Pass by A. Candreva (20556)\", \"Pass by S. Handanovi\\u010d (20571)\", \"Pass by M. Brozovi\\u0107 (69968)\", \"Pass by M. \\u0160kriniar (138408)\", \"Pass by A. Candreva (20556)\", \"Pass by M. Vecino (116349)\", \"Pass by M. \\u0160kriniar (138408)\", \"Pass by M. Vecino (116349)\", \"Pass by M. Brozovi\\u0107 (69968)\", \"Pass by M. Vecino (116349)\", \"Pass by M. Brozovi\\u0107 (69968)\", \"Pass by I. Peri\\u0161i\\u0107 (14812)\", \"Pass by M. Brozovi\\u0107 (69968)\", \"Pass by Jo\\u00e3o Miranda (3431)\", \"Pass by M. Vecino (116349)\", \"Pass by M. Brozovi\\u0107 (69968)\", \"Pass by Rafinha (3344)\", \"Pass by M. Brozovi\\u0107 (69968)\", \"Pass by D. D'Ambrosio (21094)\", \"Pass by M. Brozovi\\u0107 (69968)\", \"Pass by M. Vecino (116349)\", \"Pass by Jo\\u00e3o Miranda (3431)\", \"Pass by M. Brozovi\\u0107 (69968)\", \"Pass by D. D'Ambrosio (21094)\", \"Pass by M. Brozovi\\u0107 (69968)\", \"Pass by M. Brozovi\\u0107 (69968)\", \"Pass by I. Peri\\u0161i\\u0107 (14812)\", \"Pass by M. Icardi (206314)\", \"Pass by I. Peri\\u0161i\\u0107 (14812)\", \"Pass by A. Candreva (20556)\", \"Pass by M. \\u0160kriniar (138408)\", \"Pass by S. Handanovi\\u010d (20571)\", \"Pass by D. D'Ambrosio (21094)\", \"Pass by M. Brozovi\\u0107 (69968)\", \"Pass by I. Peri\\u0161i\\u0107 (14812)\", \"Pass by Jo\\u00e3o Miranda (3431)\", \"Pass by D. D'Ambrosio (21094)\", \"Pass by I. Peri\\u0161i\\u0107 (14812)\", \"Pass by D. D'Ambrosio (21094)\", \"Pass by M. Brozovi\\u0107 (69968)\", \"Pass by M. \\u0160kriniar (138408)\", \"Pass by Jo\\u00e3o Cancelo (135903)\", \"Pass by M. \\u0160kriniar (138408)\", \"Pass by D. D'Ambrosio (21094)\", \"Pass by I. Peri\\u0161i\\u0107 (14812)\", \"Pass by Rafinha (3344)\", \"Pass by Rafinha (3344)\", \"Pass by M. Vecino (116349)\", \"Pass by A. Candreva (20556)\", \"Pass by Jo\\u00e3o Cancelo (135903)\", \"Pass by Jo\\u00e3o Miranda (3431)\", \"Pass by M. \\u0160kriniar (138408)\", \"Pass by D. D'Ambrosio (21094)\", \"Pass by I. Peri\\u0161i\\u0107 (14812)\", \"Pass by D. D'Ambrosio (21094)\", \"Pass by M. Vecino (116349)\", \"Pass by Jo\\u00e3o Miranda (3431)\", \"Pass by M. \\u0160kriniar (138408)\", \"Pass by Jo\\u00e3o Cancelo (135903)\", \"Pass by M. Brozovi\\u0107 (69968)\", \"Pass by M. \\u0160kriniar (138408)\", \"Pass by M. Brozovi\\u0107 (69968)\", \"Pass by D. D'Ambrosio (21094)\", \"Pass by Rafinha (3344)\", \"Pass by M. Icardi (206314)\", \"Pass by M. Vecino (116349)\", \"Pass by M. Icardi (206314)\", \"Pass by A. Candreva (20556)\", \"Pass by M. Brozovi\\u0107 (69968)\", \"Pass by M. Vecino (116349)\", \"Pass by M. Vecino (116349)\", \"Pass by Rafinha (3344)\", \"Pass by D. D'Ambrosio (21094)\", \"Pass by Jo\\u00e3o Miranda (3431)\", \"Pass by D. D'Ambrosio (21094)\", \"Pass by M. Brozovi\\u0107 (69968)\", \"Pass by Jo\\u00e3o Miranda (3431)\", \"Pass by M. \\u0160kriniar (138408)\", \"Pass by Jo\\u00e3o Cancelo (135903)\", \"Pass by A. Candreva (20556)\", \"Pass by M. Vecino (116349)\", \"Pass by A. Candreva (20556)\", \"Pass by M. Brozovi\\u0107 (69968)\", \"Pass by D. D'Ambrosio (21094)\", \"Pass by M. Brozovi\\u0107 (69968)\", \"Pass by M. Vecino (116349)\", \"Pass by S. Handanovi\\u010d (20571)\", \"Pass by Jo\\u00e3o Miranda (3431)\", \"Pass by M. Vecino (116349)\", \"Pass by Rafinha (3344)\", \"Pass by M. Brozovi\\u0107 (69968)\", \"Pass by A. Candreva (20556)\", \"Pass by M. \\u0160kriniar (138408)\", \"Pass by Jo\\u00e3o Cancelo (135903)\", \"Pass by M. Brozovi\\u0107 (69968)\", \"Pass by Rafinha (3344)\", \"Pass by M. \\u0160kriniar (138408)\", \"Pass by M. Brozovi\\u0107 (69968)\", \"Pass by D. D'Ambrosio (21094)\", \"Pass by I. Peri\\u0161i\\u0107 (14812)\", \"Pass by Jo\\u00e3o Miranda (3431)\", \"Pass by Jo\\u00e3o Cancelo (135903)\", \"Pass by A. Candreva (20556)\", \"Pass by M. Brozovi\\u0107 (69968)\", \"Pass by Jo\\u00e3o Miranda (3431)\", \"Pass by D. D'Ambrosio (21094)\", \"Pass by Rafinha (3344)\", \"Pass by M. Brozovi\\u0107 (69968)\", \"Pass by Rafinha (3344)\", \"Pass by M. \\u0160kriniar (138408)\", \"Pass by Jo\\u00e3o Cancelo (135903)\", \"Pass by A. Candreva (20556)\", \"Pass by Jo\\u00e3o Cancelo (135903)\", \"Pass by A. Candreva (20556)\", \"Pass by Jo\\u00e3o Cancelo (135903)\", \"Pass by D. D'Ambrosio (21094)\", \"Pass by I. Peri\\u0161i\\u0107 (14812)\", \"Pass by M. Brozovi\\u0107 (69968)\", \"Pass by Jo\\u00e3o Cancelo (135903)\", \"Pass by A. Candreva (20556)\", \"Pass by M. \\u0160kriniar (138408)\", \"Pass by M. Vecino (116349)\", \"Pass by A. Candreva (20556)\", \"Pass by D. D'Ambrosio (21094)\", \"Pass by Jo\\u00e3o Miranda (3431)\", \"Pass by D. D'Ambrosio (21094)\", \"Pass by D. D'Ambrosio (21094)\", \"Pass by M. Vecino (116349)\", \"Pass by Rafinha (3344)\", \"Pass by Jo\\u00e3o Miranda (3431)\", \"Pass by A. Candreva (20556)\", \"Pass by D. D'Ambrosio (21094)\", \"Pass by Jo\\u00e3o Miranda (3431)\", \"Pass by M. \\u0160kriniar (138408)\", \"Pass by M. Brozovi\\u0107 (69968)\", \"Pass by D. D'Ambrosio (21094)\", \"Pass by M. Brozovi\\u0107 (69968)\", \"Pass by Jo\\u00e3o Cancelo (135903)\", \"Pass by M. Brozovi\\u0107 (69968)\", \"Pass by Rafinha (3344)\", \"Pass by M. Brozovi\\u0107 (69968)\", \"Pass by Rafinha (3344)\", \"Pass by M. Vecino (116349)\", \"Pass by Rafinha (3344)\", \"Pass by A. Candreva (20556)\", \"Pass by M. \\u0160kriniar (138408)\", \"Pass by Jo\\u00e3o Cancelo (135903)\", \"Pass by S. Handanovi\\u010d (20571)\", \"Pass by D. D'Ambrosio (21094)\", \"Pass by A. Candreva (20556)\", \"Pass by Jo\\u00e3o Miranda (3431)\", \"Pass by M. \\u0160kriniar (138408)\", \"Pass by Rafinha (3344)\", \"Pass by M. Brozovi\\u0107 (69968)\", \"Pass by I. Peri\\u0161i\\u0107 (14812)\", \"Pass by Jo\\u00e3o Miranda (3431)\", \"Pass by I. Peri\\u0161i\\u0107 (14812)\", \"Pass by S. Handanovi\\u010d (20571)\", \"Pass by D. D'Ambrosio (21094)\", \"Pass by A. Candreva (20556)\", \"Pass by I. Peri\\u0161i\\u0107 (14812)\", \"Pass by D. D'Ambrosio (21094)\", \"Pass by S. Handanovi\\u010d (20571)\", \"Pass by Jo\\u00e3o Miranda (3431)\", \"Pass by M. Vecino (116349)\", \"Pass by D. D'Ambrosio (21094)\", \"Pass by Jo\\u00e3o Miranda (3431)\", \"Pass by M. \\u0160kriniar (138408)\", \"Pass by Jo\\u00e3o Cancelo (135903)\", \"Pass by M. \\u0160kriniar (138408)\", \"Pass by D. D'Ambrosio (21094)\", \"Pass by M. Icardi (206314)\", \"Pass by M. Brozovi\\u0107 (69968)\", \"Pass by Rafinha (3344)\", \"Pass by I. Peri\\u0161i\\u0107 (14812)\", \"Pass by M. \\u0160kriniar (138408)\", \"Pass by M. Brozovi\\u0107 (69968)\", \"Pass by A. Candreva (20556)\", \"Pass by Rafinha (3344)\", \"Pass by D. D'Ambrosio (21094)\", \"Pass by Rafinha (3344)\", \"Pass by Jo\\u00e3o Cancelo (135903)\", \"Pass by M. \\u0160kriniar (138408)\", \"Pass by D. D'Ambrosio (21094)\", \"Pass by A. Candreva (20556)\", \"Pass by D. D'Ambrosio (21094)\", \"Pass by Jo\\u00e3o Cancelo (135903)\", \"Pass by M. \\u0160kriniar (138408)\", \"Pass by Jo\\u00e3o Miranda (3431)\", \"Pass by D. D'Ambrosio (21094)\", \"Pass by A. Candreva (20556)\", \"Pass by Jo\\u00e3o Miranda (3431)\", \"Pass by M. Brozovi\\u0107 (69968)\", \"Pass by M. Icardi (206314)\", \"Pass by M. \\u0160kriniar (138408)\", \"Pass by Jo\\u00e3o Cancelo (135903)\", \"Pass by M. Vecino (116349)\", \"Pass by D. D'Ambrosio (21094)\", \"Pass by A. Candreva (20556)\", \"Pass by D. D'Ambrosio (21094)\", \"Pass by Jo\\u00e3o Miranda (3431)\", \"Pass by M. \\u0160kriniar (138408)\", \"Pass by Jo\\u00e3o Miranda (3431)\", \"Pass by M. Brozovi\\u0107 (69968)\", \"Pass by I. Peri\\u0161i\\u0107 (14812)\", \"Pass by D. D'Ambrosio (21094)\", \"Pass by M. Brozovi\\u0107 (69968)\", \"Pass by Jo\\u00e3o Cancelo (135903)\", \"Pass by M. Vecino (116349)\", \"Pass by Rafinha (3344)\", \"Pass by M. Brozovi\\u0107 (69968)\", \"Pass by M. Vecino (116349)\", \"Pass by I. Peri\\u0161i\\u0107 (14812)\", \"Pass by Jo\\u00e3o Cancelo (135903)\", \"Pass by M. Vecino (116349)\", \"Pass by D. D'Ambrosio (21094)\", \"Pass by M. Brozovi\\u0107 (69968)\", \"Pass by D. D'Ambrosio (21094)\", \"Pass by Rafinha (3344)\", \"Pass by M. Brozovi\\u0107 (69968)\", \"Pass by A. Candreva (20556)\", \"Pass by Jo\\u00e3o Miranda (3431)\", \"Pass by M. Vecino (116349)\", \"Pass by Jo\\u00e3o Cancelo (135903)\", \"Pass by M. \\u0160kriniar (138408)\", \"Pass by Jo\\u00e3o Miranda (3431)\", \"Pass by D. D'Ambrosio (21094)\", \"Pass by A. Candreva (20556)\", \"Pass by D. D'Ambrosio (21094)\", \"Pass by I. Peri\\u0161i\\u0107 (14812)\", \"Pass by A. Candreva (20556)\", \"Pass by Jo\\u00e3o Cancelo (135903)\", \"Pass by Jo\\u00e3o Cancelo (135903)\", \"Pass by M. \\u0160kriniar (138408)\", \"Pass by I. Peri\\u0161i\\u0107 (14812)\", \"Pass by Rafinha (3344)\", \"Pass by D. D'Ambrosio (21094)\", \"Pass by M. Brozovi\\u0107 (69968)\", \"Pass by Jo\\u00e3o Miranda (3431)\", \"Pass by Rafinha (3344)\", \"Pass by Jo\\u00e3o Miranda (3431)\", \"Pass by M. Brozovi\\u0107 (69968)\", \"Pass by M. Vecino (116349)\", \"Pass by M. \\u0160kriniar (138408)\", \"Pass by M. Vecino (116349)\", \"Pass by Jo\\u00e3o Cancelo (135903)\", \"Pass by Jo\\u00e3o Cancelo (135903)\", \"Pass by Rafinha (3344)\", \"Pass by M. Brozovi\\u0107 (69968)\", \"Pass by A. Candreva (20556)\", \"Pass by M. Brozovi\\u0107 (69968)\", \"Pass by Rafinha (3344)\", \"Pass by I. Peri\\u0161i\\u0107 (14812)\", \"Pass by Jo\\u00e3o Miranda (3431)\", \"Pass by M. Vecino (116349)\", \"Pass by Jo\\u00e3o Cancelo (135903)\", \"Pass by Rafinha (3344)\", \"Pass by M. Vecino (116349)\", \"Pass by D. D'Ambrosio (21094)\", \"Pass by A. Candreva (20556)\", \"Pass by M. Vecino (116349)\", \"Pass by Jo\\u00e3o Miranda (3431)\", \"Pass by Jo\\u00e3o Miranda (3431)\", \"Pass by I. Peri\\u0161i\\u0107 (14812)\", \"Pass by I. Peri\\u0161i\\u0107 (14812)\", \"Pass by M. Icardi (206314)\", \"Pass by M. \\u0160kriniar (138408)\", \"Pass by I. Peri\\u0161i\\u0107 (14812)\", \"Pass by M. Vecino (116349)\", \"Pass by D. D'Ambrosio (21094)\", \"Pass by Jo\\u00e3o Miranda (3431)\", \"Pass by M. \\u0160kriniar (138408)\", \"Pass by Jo\\u00e3o Cancelo (135903)\", \"Pass by M. Brozovi\\u0107 (69968)\", \"Pass by Jo\\u00e3o Miranda (3431)\", \"Pass by D. D'Ambrosio (21094)\", \"Pass by A. Candreva (20556)\", \"Pass by D. D'Ambrosio (21094)\", \"Pass by Jo\\u00e3o Miranda (3431)\", \"Pass by A. Candreva (20556)\", \"Pass by I. Peri\\u0161i\\u0107 (14812)\", \"Pass by Rafinha (3344)\", \"Pass by M. Brozovi\\u0107 (69968)\", \"Pass by M. Vecino (116349)\", \"Pass by Jo\\u00e3o Cancelo (135903)\", \"Pass by M. Vecino (116349)\", \"Pass by Rafinha (3344)\", \"Pass by M. Brozovi\\u0107 (69968)\", \"Pass by Jo\\u00e3o Miranda (3431)\", \"Pass by D. D'Ambrosio (21094)\", \"Pass by Rafinha (3344)\", \"Pass by A. Candreva (20556)\", \"Pass by I. Peri\\u0161i\\u0107 (14812)\", \"Pass by M. Icardi (206314)\", \"Pass by M. \\u0160kriniar (138408)\", \"Pass by M. \\u0160kriniar (138408)\", \"Pass by Jo\\u00e3o Cancelo (135903)\", \"Pass by S. Handanovi\\u010d (20571)\", \"Pass by Jo\\u00e3o Cancelo (135903)\", \"Pass by A. Candreva (20556)\", \"Pass by M. Brozovi\\u0107 (69968)\", \"Pass by Rafinha (3344)\", \"Pass by D. D'Ambrosio (21094)\", \"Pass by Rafinha (3344)\", \"Pass by M. Brozovi\\u0107 (69968)\", \"Pass by M. Vecino (116349)\", \"Pass by D. D'Ambrosio (21094)\", \"Pass by I. Peri\\u0161i\\u0107 (14812)\", \"Pass by Jo\\u00e3o Miranda (3431)\", \"Pass by Jo\\u00e3o Cancelo (135903)\", \"Pass by M. Brozovi\\u0107 (69968)\", \"Pass by Rafinha (3344)\", \"Pass by A. Candreva (20556)\", \"Pass by Jo\\u00e3o Cancelo (135903)\", \"Pass by M. Vecino (116349)\", \"Pass by M. Brozovi\\u0107 (69968)\", \"Pass by Jo\\u00e3o Miranda (3431)\", \"Pass by A. Candreva (20556)\", \"Pass by D. D'Ambrosio (21094)\", \"Pass by I. Peri\\u0161i\\u0107 (14812)\", \"Pass by M. Brozovi\\u0107 (69968)\", \"Pass by I. Peri\\u0161i\\u0107 (14812)\", \"Pass by Jo\\u00e3o Cancelo (135903)\", \"Pass by M. \\u0160kriniar (138408)\", \"Pass by M. Vecino (116349)\", \"Pass by Rafinha (3344)\", \"Pass by D. D'Ambrosio (21094)\", \"Pass by M. Brozovi\\u0107 (69968)\", \"Pass by A. Candreva (20556)\", \"Pass by M. Brozovi\\u0107 (69968)\", \"Pass by Rafinha (3344)\", \"Pass by M. \\u0160kriniar (138408)\", \"Pass by Jo\\u00e3o Cancelo (135903)\", \"Pass by M. \\u0160kriniar (138408)\", \"Pass by Jo\\u00e3o Cancelo (135903)\", \"Pass by M. Brozovi\\u0107 (69968)\", \"Pass by Jo\\u00e3o Miranda (3431)\", \"Pass by A. Candreva (20556)\", \"Pass by D. D'Ambrosio (21094)\", \"Pass by M. Brozovi\\u0107 (69968)\", \"Pass by Rafinha (3344)\", \"Pass by M. Brozovi\\u0107 (69968)\", \"Pass by Rafinha (3344)\", \"Pass by D. D'Ambrosio (21094)\", \"Pass by M. Brozovi\\u0107 (69968)\", \"Pass by M. \\u0160kriniar (138408)\", \"Pass by Jo\\u00e3o Cancelo (135903)\", \"Pass by M. \\u0160kriniar (138408)\", \"Pass by Jo\\u00e3o Miranda (3431)\", \"Pass by D. D'Ambrosio (21094)\", \"Pass by I. Peri\\u0161i\\u0107 (14812)\", \"Pass by M. Vecino (116349)\", \"Pass by Jo\\u00e3o Cancelo (135903)\", \"Pass by S. Handanovi\\u010d (20571)\", \"Pass by M. \\u0160kriniar (138408)\", \"Pass by Rafinha (3344)\", \"Pass by M. Vecino (116349)\", \"Pass by D. D'Ambrosio (21094)\", \"Pass by I. Peri\\u0161i\\u0107 (14812)\", \"Pass by Jo\\u00e3o Cancelo (135903)\", \"Pass by M. Brozovi\\u0107 (69968)\", \"Pass by Eder (20626)\", \"Pass by M. Brozovi\\u0107 (69968)\", \"Pass by M. \\u0160kriniar (138408)\", \"Pass by D. D'Ambrosio (21094)\", \"Pass by M. Vecino (116349)\", \"Pass by M. Brozovi\\u0107 (69968)\", \"Pass by M. Vecino (116349)\", \"Pass by Jo\\u00e3o Miranda (3431)\", \"Pass by M. \\u0160kriniar (138408)\", \"Pass by Jo\\u00e3o Miranda (3431)\", \"Pass by M. Vecino (116349)\", \"Pass by M. Brozovi\\u0107 (69968)\", \"Pass by D. D'Ambrosio (21094)\", \"Pass by S. Handanovi\\u010d (20571)\", \"Pass by M. \\u0160kriniar (138408)\", \"Pass by M. Brozovi\\u0107 (69968)\", \"Pass by I. Peri\\u0161i\\u0107 (14812)\", \"Pass by M. Brozovi\\u0107 (69968)\", \"Pass by D. D'Ambrosio (21094)\", \"Pass by M. \\u0160kriniar (138408)\", \"Pass by Jo\\u00e3o Miranda (3431)\", \"Pass by M. Vecino (116349)\", \"Pass by Jo\\u00e3o Cancelo (135903)\", \"Pass by Jo\\u00e3o Miranda (3431)\", \"Pass by D. D'Ambrosio (21094)\", \"Pass by I. Peri\\u0161i\\u0107 (14812)\", \"Pass by Rafinha (3344)\", \"Pass by M. Brozovi\\u0107 (69968)\", \"Pass by Rafinha (3344)\", \"Pass by S. Handanovi\\u010d (20571)\", \"Pass by Jo\\u00e3o Miranda (3431)\", \"Pass by M. Brozovi\\u0107 (69968)\", \"Pass by D. D'Ambrosio (21094)\", \"Pass by Jo\\u00e3o Miranda (3431)\", \"Pass by M. Vecino (116349)\", \"Pass by M. Brozovi\\u0107 (69968)\", \"Pass by Rafinha (3344)\", \"Pass by D. D'Ambrosio (21094)\", \"Pass by M. Vecino (116349)\", \"Pass by M. Brozovi\\u0107 (69968)\", \"Pass by Jo\\u00e3o Cancelo (135903)\", \"Pass by M. Vecino (116349)\", \"Pass by Jo\\u00e3o Cancelo (135903)\", \"Pass by M. Brozovi\\u0107 (69968)\", \"Pass by M. \\u0160kriniar (138408)\", \"Pass by Jo\\u00e3o Miranda (3431)\", \"Pass by D. D'Ambrosio (21094)\", \"Pass by M. Vecino (116349)\", \"Pass by M. Brozovi\\u0107 (69968)\", \"Pass by M. Vecino (116349)\", \"Pass by M. \\u0160kriniar (138408)\", \"Pass by M. Brozovi\\u0107 (69968)\", \"Pass by Eder (20626)\", \"Pass by Jo\\u00e3o Miranda (3431)\", \"Pass by M. \\u0160kriniar (138408)\", \"Pass by Jo\\u00e3o Miranda (3431)\", \"Pass by D. D'Ambrosio (21094)\", \"Pass by Jo\\u00e3o Miranda (3431)\", \"Pass by D. D'Ambrosio (21094)\", \"Pass by Jo\\u00e3o Miranda (3431)\", \"Pass by M. Vecino (116349)\", \"Pass by M. \\u0160kriniar (138408)\", \"Pass by Jo\\u00e3o Cancelo (135903)\", \"Pass by M. Vecino (116349)\", \"Pass by I. Peri\\u0161i\\u0107 (14812)\", \"Pass by Jo\\u00e3o Miranda (3431)\", \"Pass by D. D'Ambrosio (21094)\", \"Pass by M. \\u0160kriniar (138408)\", \"Pass by M. Brozovi\\u0107 (69968)\", \"Pass by M. \\u0160kriniar (138408)\", \"Pass by I. Peri\\u0161i\\u0107 (14812)\", \"Pass by D. D'Ambrosio (21094)\", \"Pass by M. Brozovi\\u0107 (69968)\", \"Pass by Jo\\u00e3o Cancelo (135903)\", \"Pass by S. Handanovi\\u010d (20571)\", \"Pass by D. D'Ambrosio (21094)\", \"Pass by M. Vecino (116349)\", \"Pass by M. \\u0160kriniar (138408)\", \"Pass by M. Icardi (206314)\", \"Pass by M. Brozovi\\u0107 (69968)\", \"Pass by Eder (20626)\", \"Pass by M. Vecino (116349)\", \"Pass by M. Brozovi\\u0107 (69968)\", \"Pass by Eder (20626)\", \"Pass by Jo\\u00e3o Miranda (3431)\", \"Pass by M. Vecino (116349)\", \"Pass by M. Brozovi\\u0107 (69968)\", \"Pass by I. Peri\\u0161i\\u0107 (14812)\", \"Pass by M. \\u0160kriniar (138408)\", \"Pass by A. Ranocchia (20519)\", \"Pass by Jo\\u00e3o Miranda (3431)\", \"Pass by S. Handanovi\\u010d (20571)\", \"Pass by Jo\\u00e3o Miranda (3431)\", \"Pass by S. Handanovi\\u010d (20571)\", \"Pass by Jo\\u00e3o Cancelo (135903)\", \"Pass by M. Vecino (116349)\", \"Pass by Jo\\u00e3o Cancelo (135903)\", \"Pass by Jo\\u00e3o Cancelo (135903)\", \"Pass by Jo\\u00e3o Cancelo (135903)\", \"Pass by M. Brozovi\\u0107 (69968)\", \"Pass by M. Vecino (116349)\", \"Pass by Jo\\u00e3o Miranda (3431)\", \"Pass by Y. Karamoh (352993)\", \"Pass by M. Brozovi\\u0107 (69968)\", \"Pass by I. Peri\\u0161i\\u0107 (14812)\", \"Pass by M. Brozovi\\u0107 (69968)\", \"Pass by Eder (20626)\", \"Pass by I. Peri\\u0161i\\u0107 (14812)\", \"Pass by M. \\u0160kriniar (138408)\", \"Pass by S. Handanovi\\u010d (20571)\", \"Pass by M. Brozovi\\u0107 (69968)\", \"Pass by M. Icardi (206314)\", \"Pass by Eder (20626)\", \"Pass by I. Peri\\u0161i\\u0107 (14812)\", \"Pass by M. Icardi (206314)\"], \"type\": \"scatter\", \"x\": [49, 38, 37, 34, 36, 30, 21, 30, 46, 47, 48, 31, 35, 37, 38, 44, 40, 11, 45, 46, 62, 50, 33, 36, 35, 56, 67, 89, 57, 39, 54, 53, 67, 56, 59, 56, 54, 30, 48, 66, 63, 33, 45, 75, 94, 72, 42, 14, 33, 41, 93, 5, 5, 43, 23, 35, 39, 43, 35, 40, 47, 61, 49, 37, 44, 36, 32, 30, 41, 47, 35, 31, 29, 39, 41, 46, 37, 32, 28, 44, 52, 59, 73, 72, 67, 62, 82, 71, 62, 48, 60, 58, 30, 40, 48, 39, 47, 49, 59, 68, 62, 65, 13, 20, 29, 43, 39, 66, 16, 12, 31, 44, 41, 56, 61, 66, 49, 66, 64, 53, 48, 63, 65, 53, 56, 56, 63, 59, 59, 63, 58, 62, 66, 32, 58, 62, 38, 51, 47, 40, 32, 45, 60, 23, 15, 30, 31, 32, 31, 42, 47, 35, 44, 64, 14, 34, 36, 69, 70, 71, 98, 63, 57, 13, 26, 34, 29, 41, 49, 64, 94, 20, 35, 7, 44, 67, 61, 41, 12, 23, 34, 35, 29, 37, 41, 39, 36, 68, 64, 12, 61, 60, 66, 80, 14, 41, 66, 53, 47, 44, 51, 39, 10, 29, 31, 38, 34, 26, 55, 69, 28, 39, 34, 35, 55, 35, 29, 38, 32, 52, 69, 59, 51, 60, 47, 68, 62, 62, 73, 97, 44, 35, 41, 48, 68, 61, 60, 51, 57, 66, 45, 49, 59, 68, 50, 75, 75, 57, 26, 44, 53, 66, 29, 61, 32, 46, 31, 35, 44, 37, 40, 42, 48, 59, 62, 69, 66, 74, 65, 54, 55, 65, 72, 70, 71, 80, 35, 24, 29, 23, 9, 47, 33, 49, 33, 14, 12, 32, 34, 38, 39, 54, 62, 46, 38, 63, 61, 76, 65, 62, 67, 96, 83, 65, 64, 52, 67, 93, 92, 90, 11, 14, 24, 16, 33, 40, 33, 46, 28, 60, 64, 54, 54, 70, 26, 34, 36, 59, 65, 67, 68, 72, 29, 42, 23, 42, 33, 35, 39, 33, 43, 52, 61, 61, 70, 56, 59, 60, 95, 34, 32, 38, 47, 61, 36, 52, 64, 70, 66, 54, 70, 30, 39, 29, 27, 36, 38, 52, 11, 3, 29, 33, 26, 56, 82, 31, 37, 61, 53, 33, 29, 35, 46, 43, 39, 42, 41, 68, 68, 21, 11, 32, 32, 61, 60, 57, 49, 43, 61, 70, 57, 62, 38, 36, 31, 42, 11, 30, 38, 47, 45, 47, 61, 60, 55, 67, 65, 82, 50, 58, 52, 30, 29, 36, 50, 55, 61, 49, 60, 73, 29, 34, 29, 28, 32, 57, 45, 56, 50, 56, 73, 90, 37, 40, 44, 51, 46, 44, 34, 55, 27, 10, 32, 35, 38, 68, 57, 72, 51, 63, 67, 57, 61, 62, 75, 26, 26, 28, 6, 20, 13, 58, 60, 69, 96, 34, 60, 59, 42, 66, 55, 67, 87, 73, 8, 25, 13, 42, 64, 90, 62, 59], \"y\": [50, 58, 91, 72, 14, 39, 55, 9, 10, 22, 32, 18, 70, 63, 70, 90, 80, 42, 24, 87, 81, 67, 83, 77, 61, 51, 39, 10, 12, 35, 42, 27, 34, 28, 9, 18, 33, 34, 20, 3, 22, 71, 34, 37, 12, 88, 71, 64, 29, 14, 10, 5, 19, 10, 3, 47, 79, 92, 80, 15, 9, 23, 41, 55, 90, 88, 55, 62, 21, 14, 16, 35, 45, 81, 93, 74, 74, 61, 31, 76, 50, 32, 43, 54, 41, 63, 87, 88, 40, 45, 24, 51, 27, 72, 91, 66, 78, 71, 48, 26, 33, 73, 58, 54, 72, 54, 65, 77, 54, 70, 51, 74, 66, 43, 17, 13, 29, 85, 96, 55, 51, 23, 27, 30, 48, 77, 93, 88, 95, 91, 71, 24, 10, 57, 88, 95, 74, 83, 91, 23, 52, 18, 27, 69, 67, 24, 11, 11, 32, 65, 53, 9, 37, 92, 61, 76, 58, 65, 43, 45, 12, 90, 87, 49, 27, 12, 54, 77, 68, 22, 34, 65, 54, 56, 16, 10, 22, 17, 54, 36, 48, 13, 40, 72, 94, 78, 25, 58, 68, 64, 25, 74, 65, 25, 88, 9, 77, 84, 70, 25, 12, 18, 74, 72, 45, 13, 5, 31, 31, 58, 83, 94, 78, 34, 11, 23, 38, 75, 59, 28, 15, 12, 38, 94, 49, 74, 48, 72, 34, 88, 56, 26, 39, 10, 48, 20, 11, 43, 68, 94, 75, 56, 18, 13, 14, 21, 9, 75, 83, 72, 54, 74, 31, 14, 49, 50, 44, 53, 53, 75, 73, 90, 81, 70, 33, 14, 30, 38, 12, 26, 44, 83, 62, 58, 27, 6, 73, 66, 61, 40, 44, 50, 73, 58, 75, 21, 49, 70, 91, 77, 48, 16, 12, 16, 40, 4, 2, 40, 33, 39, 92, 93, 42, 38, 65, 47, 26, 7, 9, 93, 83, 86, 93, 46, 85, 17, 34, 50, 15, 24, 40, 31, 14, 23, 50, 77, 45, 38, 11, 65, 49, 16, 44, 12, 23, 18, 24, 34, 90, 84, 65, 68, 19, 11, 3, 16, 30, 75, 91, 68, 84, 73, 56, 21, 26, 49, 39, 46, 37, 22, 14, 86, 84, 80, 44, 12, 14, 48, 74, 53, 85, 75, 43, 7, 5, 50, 24, 22, 23, 61, 24, 41, 47, 26, 44, 70, 48, 27, 64, 5, 48, 62, 34, 4, 18, 21, 80, 49, 71, 77, 71, 12, 19, 46, 27, 24, 74, 50, 54, 28, 47, 49, 39, 49, 24, 32, 50, 80, 74, 90, 73, 80, 44, 16, 32, 17, 15, 83, 56, 33, 50, 77, 47, 23, 45, 15, 40, 53, 55, 78, 71, 24, 58, 15, 79, 55, 74, 13, 19, 21, 80, 53, 14, 47, 77, 47, 50, 18, 59, 18, 7, 38, 50, 12, 12, 49, 88, 41, 50, 33, 62, 91, 77, 96, 96, 88, 15, 37, 17, 14, 20, 5, 12, 11, 65, 49, 45, 70, 55, 73, 15, 84]}],\n",
       "                        {\"autosize\": false, \"height\": 600, \"hovermode\": \"closest\", \"plot_bgcolor\": \"rgb(255, 255, 255)\", \"shapes\": [{\"line\": {\"color\": \"black\"}, \"type\": \"circle\", \"x0\": 40, \"x1\": 60, \"xref\": \"x\", \"y0\": 35, \"y1\": 65, \"yref\": \"y\"}, {\"line\": {\"color\": \"black\"}, \"type\": \"line\", \"x0\": 0, \"x1\": 10, \"xref\": \"x\", \"y0\": 35, \"y1\": 35, \"yref\": \"y\"}, {\"line\": {\"color\": \"black\"}, \"type\": \"line\", \"x0\": 10, \"x1\": 10, \"xref\": \"x\", \"y0\": 35, \"y1\": 65, \"yref\": \"y\"}, {\"line\": {\"color\": \"black\"}, \"type\": \"line\", \"x0\": 10, \"x1\": 0, \"xref\": \"x\", \"y0\": 65, \"y1\": 65, \"yref\": \"y\"}, {\"line\": {\"color\": \"black\"}, \"type\": \"line\", \"x0\": 100, \"x1\": 90, \"xref\": \"x\", \"y0\": 35, \"y1\": 35, \"yref\": \"y\"}, {\"line\": {\"color\": \"black\"}, \"type\": \"line\", \"x0\": 90, \"x1\": 90, \"xref\": \"x\", \"y0\": 35, \"y1\": 65, \"yref\": \"y\"}, {\"line\": {\"color\": \"black\"}, \"type\": \"line\", \"x0\": 90, \"x1\": 100, \"xref\": \"x\", \"y0\": 65, \"y1\": 65, \"yref\": \"y\"}, {\"line\": {\"color\": \"black\"}, \"type\": \"line\", \"x0\": 50, \"x1\": 50, \"xref\": \"x\", \"y0\": 100, \"y1\": 0, \"yref\": \"y\"}, {\"line\": {\"color\": \"black\"}, \"type\": \"line\", \"x0\": 0, \"x1\": 0, \"xref\": \"x\", \"y0\": 0, \"y1\": 100, \"yref\": \"y\"}, {\"line\": {\"color\": \"black\"}, \"type\": \"line\", \"x0\": 100, \"x1\": 100, \"xref\": \"x\", \"y0\": 0, \"y1\": 100, \"yref\": \"y\"}, {\"line\": {\"color\": \"black\"}, \"type\": \"line\", \"x0\": 0, \"x1\": 100, \"xref\": \"x\", \"y0\": 100, \"y1\": 100, \"yref\": \"y\"}, {\"line\": {\"color\": \"black\"}, \"type\": \"line\", \"x0\": 0, \"x1\": 100, \"xref\": \"x\", \"y0\": 0, \"y1\": 0, \"yref\": \"y\"}], \"template\": {\"data\": {\"bar\": [{\"error_x\": {\"color\": \"#2a3f5f\"}, \"error_y\": {\"color\": \"#2a3f5f\"}, \"marker\": {\"line\": {\"color\": \"#E5ECF6\", \"width\": 0.5}}, \"type\": \"bar\"}], \"barpolar\": [{\"marker\": {\"line\": {\"color\": \"#E5ECF6\", \"width\": 0.5}}, \"type\": \"barpolar\"}], \"carpet\": [{\"aaxis\": {\"endlinecolor\": \"#2a3f5f\", \"gridcolor\": \"white\", \"linecolor\": \"white\", \"minorgridcolor\": \"white\", \"startlinecolor\": \"#2a3f5f\"}, \"baxis\": {\"endlinecolor\": \"#2a3f5f\", \"gridcolor\": \"white\", \"linecolor\": \"white\", \"minorgridcolor\": \"white\", \"startlinecolor\": \"#2a3f5f\"}, \"type\": \"carpet\"}], \"choropleth\": [{\"colorbar\": {\"outlinewidth\": 0, \"ticks\": \"\"}, \"type\": \"choropleth\"}], \"contour\": [{\"colorbar\": {\"outlinewidth\": 0, \"ticks\": \"\"}, \"colorscale\": [[0.0, \"#0d0887\"], [0.1111111111111111, \"#46039f\"], [0.2222222222222222, \"#7201a8\"], [0.3333333333333333, \"#9c179e\"], [0.4444444444444444, \"#bd3786\"], [0.5555555555555556, \"#d8576b\"], [0.6666666666666666, \"#ed7953\"], [0.7777777777777778, \"#fb9f3a\"], [0.8888888888888888, \"#fdca26\"], [1.0, \"#f0f921\"]], \"type\": \"contour\"}], \"contourcarpet\": [{\"colorbar\": {\"outlinewidth\": 0, \"ticks\": \"\"}, \"type\": \"contourcarpet\"}], \"heatmap\": [{\"colorbar\": {\"outlinewidth\": 0, \"ticks\": \"\"}, \"colorscale\": [[0.0, \"#0d0887\"], [0.1111111111111111, \"#46039f\"], [0.2222222222222222, \"#7201a8\"], [0.3333333333333333, \"#9c179e\"], [0.4444444444444444, \"#bd3786\"], [0.5555555555555556, \"#d8576b\"], [0.6666666666666666, \"#ed7953\"], [0.7777777777777778, \"#fb9f3a\"], [0.8888888888888888, \"#fdca26\"], [1.0, \"#f0f921\"]], \"type\": \"heatmap\"}], \"heatmapgl\": [{\"colorbar\": {\"outlinewidth\": 0, \"ticks\": \"\"}, \"colorscale\": [[0.0, \"#0d0887\"], [0.1111111111111111, \"#46039f\"], [0.2222222222222222, \"#7201a8\"], [0.3333333333333333, \"#9c179e\"], [0.4444444444444444, \"#bd3786\"], [0.5555555555555556, \"#d8576b\"], [0.6666666666666666, \"#ed7953\"], [0.7777777777777778, \"#fb9f3a\"], [0.8888888888888888, \"#fdca26\"], [1.0, \"#f0f921\"]], \"type\": \"heatmapgl\"}], \"histogram\": [{\"marker\": {\"colorbar\": {\"outlinewidth\": 0, \"ticks\": \"\"}}, \"type\": \"histogram\"}], \"histogram2d\": [{\"colorbar\": {\"outlinewidth\": 0, \"ticks\": \"\"}, \"colorscale\": [[0.0, \"#0d0887\"], [0.1111111111111111, \"#46039f\"], [0.2222222222222222, \"#7201a8\"], [0.3333333333333333, \"#9c179e\"], [0.4444444444444444, \"#bd3786\"], [0.5555555555555556, \"#d8576b\"], [0.6666666666666666, \"#ed7953\"], [0.7777777777777778, \"#fb9f3a\"], [0.8888888888888888, \"#fdca26\"], [1.0, \"#f0f921\"]], \"type\": \"histogram2d\"}], \"histogram2dcontour\": [{\"colorbar\": {\"outlinewidth\": 0, \"ticks\": \"\"}, \"colorscale\": [[0.0, \"#0d0887\"], [0.1111111111111111, \"#46039f\"], [0.2222222222222222, \"#7201a8\"], [0.3333333333333333, \"#9c179e\"], [0.4444444444444444, \"#bd3786\"], [0.5555555555555556, \"#d8576b\"], [0.6666666666666666, \"#ed7953\"], [0.7777777777777778, \"#fb9f3a\"], [0.8888888888888888, \"#fdca26\"], [1.0, \"#f0f921\"]], \"type\": \"histogram2dcontour\"}], \"mesh3d\": [{\"colorbar\": {\"outlinewidth\": 0, \"ticks\": \"\"}, \"type\": \"mesh3d\"}], \"parcoords\": [{\"line\": {\"colorbar\": {\"outlinewidth\": 0, \"ticks\": \"\"}}, \"type\": \"parcoords\"}], \"pie\": [{\"automargin\": true, \"type\": \"pie\"}], \"scatter\": [{\"marker\": {\"colorbar\": {\"outlinewidth\": 0, \"ticks\": \"\"}}, \"type\": \"scatter\"}], \"scatter3d\": [{\"line\": {\"colorbar\": {\"outlinewidth\": 0, \"ticks\": \"\"}}, \"marker\": {\"colorbar\": {\"outlinewidth\": 0, \"ticks\": \"\"}}, \"type\": \"scatter3d\"}], \"scattercarpet\": [{\"marker\": {\"colorbar\": {\"outlinewidth\": 0, \"ticks\": \"\"}}, \"type\": \"scattercarpet\"}], \"scattergeo\": [{\"marker\": {\"colorbar\": {\"outlinewidth\": 0, \"ticks\": \"\"}}, \"type\": \"scattergeo\"}], \"scattergl\": [{\"marker\": {\"colorbar\": {\"outlinewidth\": 0, \"ticks\": \"\"}}, \"type\": \"scattergl\"}], \"scattermapbox\": [{\"marker\": {\"colorbar\": {\"outlinewidth\": 0, \"ticks\": \"\"}}, \"type\": \"scattermapbox\"}], \"scatterpolar\": [{\"marker\": {\"colorbar\": {\"outlinewidth\": 0, \"ticks\": \"\"}}, \"type\": \"scatterpolar\"}], \"scatterpolargl\": [{\"marker\": {\"colorbar\": {\"outlinewidth\": 0, \"ticks\": \"\"}}, \"type\": \"scatterpolargl\"}], \"scatterternary\": [{\"marker\": {\"colorbar\": {\"outlinewidth\": 0, \"ticks\": \"\"}}, \"type\": \"scatterternary\"}], \"surface\": [{\"colorbar\": {\"outlinewidth\": 0, \"ticks\": \"\"}, \"colorscale\": [[0.0, \"#0d0887\"], [0.1111111111111111, \"#46039f\"], [0.2222222222222222, \"#7201a8\"], [0.3333333333333333, \"#9c179e\"], [0.4444444444444444, \"#bd3786\"], [0.5555555555555556, \"#d8576b\"], [0.6666666666666666, \"#ed7953\"], [0.7777777777777778, \"#fb9f3a\"], [0.8888888888888888, \"#fdca26\"], [1.0, \"#f0f921\"]], \"type\": \"surface\"}], \"table\": [{\"cells\": {\"fill\": {\"color\": \"#EBF0F8\"}, \"line\": {\"color\": \"white\"}}, \"header\": {\"fill\": {\"color\": \"#C8D4E3\"}, \"line\": {\"color\": \"white\"}}, \"type\": \"table\"}]}, \"layout\": {\"annotationdefaults\": {\"arrowcolor\": \"#2a3f5f\", \"arrowhead\": 0, \"arrowwidth\": 1}, \"coloraxis\": {\"colorbar\": {\"outlinewidth\": 0, \"ticks\": \"\"}}, \"colorscale\": {\"diverging\": [[0, \"#8e0152\"], [0.1, \"#c51b7d\"], [0.2, \"#de77ae\"], [0.3, \"#f1b6da\"], [0.4, \"#fde0ef\"], [0.5, \"#f7f7f7\"], [0.6, \"#e6f5d0\"], [0.7, \"#b8e186\"], [0.8, \"#7fbc41\"], [0.9, \"#4d9221\"], [1, \"#276419\"]], \"sequential\": [[0.0, \"#0d0887\"], [0.1111111111111111, \"#46039f\"], [0.2222222222222222, \"#7201a8\"], [0.3333333333333333, \"#9c179e\"], [0.4444444444444444, \"#bd3786\"], [0.5555555555555556, \"#d8576b\"], [0.6666666666666666, \"#ed7953\"], [0.7777777777777778, \"#fb9f3a\"], [0.8888888888888888, \"#fdca26\"], [1.0, \"#f0f921\"]], \"sequentialminus\": [[0.0, \"#0d0887\"], [0.1111111111111111, \"#46039f\"], [0.2222222222222222, \"#7201a8\"], [0.3333333333333333, \"#9c179e\"], [0.4444444444444444, \"#bd3786\"], [0.5555555555555556, \"#d8576b\"], [0.6666666666666666, \"#ed7953\"], [0.7777777777777778, \"#fb9f3a\"], [0.8888888888888888, \"#fdca26\"], [1.0, \"#f0f921\"]]}, \"colorway\": [\"#636efa\", \"#EF553B\", \"#00cc96\", \"#ab63fa\", \"#FFA15A\", \"#19d3f3\", \"#FF6692\", \"#B6E880\", \"#FF97FF\", \"#FECB52\"], \"font\": {\"color\": \"#2a3f5f\"}, \"geo\": {\"bgcolor\": \"white\", \"lakecolor\": \"white\", \"landcolor\": \"#E5ECF6\", \"showlakes\": true, \"showland\": true, \"subunitcolor\": \"white\"}, \"hoverlabel\": {\"align\": \"left\"}, \"hovermode\": \"closest\", \"mapbox\": {\"style\": \"light\"}, \"paper_bgcolor\": \"white\", \"plot_bgcolor\": \"#E5ECF6\", \"polar\": {\"angularaxis\": {\"gridcolor\": \"white\", \"linecolor\": \"white\", \"ticks\": \"\"}, \"bgcolor\": \"#E5ECF6\", \"radialaxis\": {\"gridcolor\": \"white\", \"linecolor\": \"white\", \"ticks\": \"\"}}, \"scene\": {\"xaxis\": {\"backgroundcolor\": \"#E5ECF6\", \"gridcolor\": \"white\", \"gridwidth\": 2, \"linecolor\": \"white\", \"showbackground\": true, \"ticks\": \"\", \"zerolinecolor\": \"white\"}, \"yaxis\": {\"backgroundcolor\": \"#E5ECF6\", \"gridcolor\": \"white\", \"gridwidth\": 2, \"linecolor\": \"white\", \"showbackground\": true, \"ticks\": \"\", \"zerolinecolor\": \"white\"}, \"zaxis\": {\"backgroundcolor\": \"#E5ECF6\", \"gridcolor\": \"white\", \"gridwidth\": 2, \"linecolor\": \"white\", \"showbackground\": true, \"ticks\": \"\", \"zerolinecolor\": \"white\"}}, \"shapedefaults\": {\"line\": {\"color\": \"#2a3f5f\"}}, \"ternary\": {\"aaxis\": {\"gridcolor\": \"white\", \"linecolor\": \"white\", \"ticks\": \"\"}, \"baxis\": {\"gridcolor\": \"white\", \"linecolor\": \"white\", \"ticks\": \"\"}, \"bgcolor\": \"#E5ECF6\", \"caxis\": {\"gridcolor\": \"white\", \"linecolor\": \"white\", \"ticks\": \"\"}}, \"title\": {\"x\": 0.05}, \"xaxis\": {\"automargin\": true, \"gridcolor\": \"white\", \"linecolor\": \"white\", \"ticks\": \"\", \"title\": {\"standoff\": 15}, \"zerolinecolor\": \"white\", \"zerolinewidth\": 2}, \"yaxis\": {\"automargin\": true, \"gridcolor\": \"white\", \"linecolor\": \"white\", \"ticks\": \"\", \"title\": {\"standoff\": 15}, \"zerolinecolor\": \"white\", \"zerolinewidth\": 2}}}, \"title\": {\"text\": \"Lazio - Internazionale, 2 - 3\"}, \"width\": 825, \"xaxis\": {\"range\": [0, 100], \"showgrid\": false, \"showticklabels\": false}, \"yaxis\": {\"range\": [0, 100], \"showgrid\": false, \"showticklabels\": false}},\n",
       "                        {\"responsive\": true}\n",
       "                    ).then(function(){\n",
       "                            \n",
       "var gd = document.getElementById('dd8b0c21-a1d9-4cbb-9f03-04f5db9db2f5');\n",
       "var x = new MutationObserver(function (mutations, observer) {{\n",
       "        var display = window.getComputedStyle(gd).display;\n",
       "        if (!display || display === 'none') {{\n",
       "            console.log([gd, 'removed!']);\n",
       "            Plotly.purge(gd);\n",
       "            observer.disconnect();\n",
       "        }}\n",
       "}});\n",
       "\n",
       "// Listen for the removal of the full notebook cells\n",
       "var notebookContainer = gd.closest('#notebook-container');\n",
       "if (notebookContainer) {{\n",
       "    x.observe(notebookContainer, {childList: true});\n",
       "}}\n",
       "\n",
       "// Listen for the clearing of the current output cell\n",
       "var outputEl = gd.closest('.output');\n",
       "if (outputEl) {{\n",
       "    x.observe(outputEl, {childList: true});\n",
       "}}\n",
       "\n",
       "                        })\n",
       "                };\n",
       "                });\n",
       "            </script>\n",
       "        </div>"
      ]
     },
     "metadata": {},
     "output_type": "display_data"
    }
   ],
   "source": [
    "visualize_events(event_name='Pass')"
   ]
  },
  {
   "cell_type": "code",
   "execution_count": 39,
   "metadata": {
    "hidden": true
   },
   "outputs": [
    {
     "data": {
      "application/vnd.plotly.v1+json": {
       "config": {
        "linkText": "Export to plot.ly",
        "plotlyServerURL": "https://plot.ly",
        "showLink": false
       },
       "data": [
        {
         "marker": {
          "color": "red",
          "size": 8
         },
         "mode": "markers",
         "name": "Lazio",
         "text": [
          "Foul by Felipe Anderson (40806)",
          "Foul by Luiz Felipe (376362)",
          "Foul by S. Lulić (20561)",
          "Foul by Lucas Leiva (7965)",
          "Foul by S. Milinković-Savić (265865)",
          "Foul by S. Milinković-Savić (265865)",
          "Foul by T. Strakosha (166534)",
          "Foul by S. de Vrij (130)",
          "Foul by S. Lulić (20561)",
          "Foul by Nani (7926)",
          "Foul by A. Murgia (346908)",
          "Foul by Luiz Felipe (376362)",
          "Foul by Lucas Leiva (7965)",
          "Foul by Patric (4792)"
         ],
         "type": "scatter",
         "x": [
          69,
          88,
          59,
          61,
          75,
          68,
          4,
          11,
          70,
          64,
          16,
          14,
          79,
          61
         ],
         "y": [
          93,
          5,
          6,
          31,
          15,
          32,
          56,
          53,
          27,
          87,
          12,
          87,
          56,
          11
         ]
        },
        {
         "marker": {
          "color": "blue",
          "size": 8,
          "symbol": "square"
         },
         "mode": "markers",
         "name": "Internazionale",
         "text": [
          "Foul by M. Brozović (69968)",
          "Foul by M. Brozović (69968)",
          "Foul by Rafinha (3344)",
          "Foul by M. Vecino (116349)",
          "Foul by João Miranda (3431)",
          "Foul by João Cancelo (135903)",
          "Foul by D. D'Ambrosio (21094)",
          "Foul by D. D'Ambrosio (21094)",
          "Foul by M. Škriniar (138408)",
          "Foul by M. Vecino (116349)",
          "Foul by Eder (20626)",
          "Foul by I. Perišić (14812)",
          "Foul by M. Vecino (116349)",
          "Foul by Eder (20626)"
         ],
         "type": "scatter",
         "x": [
          41,
          35,
          65,
          39,
          24,
          70,
          27,
          60,
          40,
          35,
          55,
          66,
          89,
          70
         ],
         "y": [
          12,
          44,
          27,
          72,
          32,
          99,
          39,
          27,
          37,
          68,
          25,
          4,
          81,
          17
         ]
        }
       ],
       "layout": {
        "autosize": false,
        "height": 600,
        "hovermode": "closest",
        "plot_bgcolor": "rgb(255, 255, 255)",
        "shapes": [
         {
          "line": {
           "color": "black"
          },
          "type": "circle",
          "x0": 40,
          "x1": 60,
          "xref": "x",
          "y0": 35,
          "y1": 65,
          "yref": "y"
         },
         {
          "line": {
           "color": "black"
          },
          "type": "line",
          "x0": 0,
          "x1": 10,
          "xref": "x",
          "y0": 35,
          "y1": 35,
          "yref": "y"
         },
         {
          "line": {
           "color": "black"
          },
          "type": "line",
          "x0": 10,
          "x1": 10,
          "xref": "x",
          "y0": 35,
          "y1": 65,
          "yref": "y"
         },
         {
          "line": {
           "color": "black"
          },
          "type": "line",
          "x0": 10,
          "x1": 0,
          "xref": "x",
          "y0": 65,
          "y1": 65,
          "yref": "y"
         },
         {
          "line": {
           "color": "black"
          },
          "type": "line",
          "x0": 100,
          "x1": 90,
          "xref": "x",
          "y0": 35,
          "y1": 35,
          "yref": "y"
         },
         {
          "line": {
           "color": "black"
          },
          "type": "line",
          "x0": 90,
          "x1": 90,
          "xref": "x",
          "y0": 35,
          "y1": 65,
          "yref": "y"
         },
         {
          "line": {
           "color": "black"
          },
          "type": "line",
          "x0": 90,
          "x1": 100,
          "xref": "x",
          "y0": 65,
          "y1": 65,
          "yref": "y"
         },
         {
          "line": {
           "color": "black"
          },
          "type": "line",
          "x0": 50,
          "x1": 50,
          "xref": "x",
          "y0": 100,
          "y1": 0,
          "yref": "y"
         },
         {
          "line": {
           "color": "black"
          },
          "type": "line",
          "x0": 0,
          "x1": 0,
          "xref": "x",
          "y0": 0,
          "y1": 100,
          "yref": "y"
         },
         {
          "line": {
           "color": "black"
          },
          "type": "line",
          "x0": 100,
          "x1": 100,
          "xref": "x",
          "y0": 0,
          "y1": 100,
          "yref": "y"
         },
         {
          "line": {
           "color": "black"
          },
          "type": "line",
          "x0": 0,
          "x1": 100,
          "xref": "x",
          "y0": 100,
          "y1": 100,
          "yref": "y"
         },
         {
          "line": {
           "color": "black"
          },
          "type": "line",
          "x0": 0,
          "x1": 100,
          "xref": "x",
          "y0": 0,
          "y1": 0,
          "yref": "y"
         }
        ],
        "template": {
         "data": {
          "bar": [
           {
            "error_x": {
             "color": "#2a3f5f"
            },
            "error_y": {
             "color": "#2a3f5f"
            },
            "marker": {
             "line": {
              "color": "#E5ECF6",
              "width": 0.5
             }
            },
            "type": "bar"
           }
          ],
          "barpolar": [
           {
            "marker": {
             "line": {
              "color": "#E5ECF6",
              "width": 0.5
             }
            },
            "type": "barpolar"
           }
          ],
          "carpet": [
           {
            "aaxis": {
             "endlinecolor": "#2a3f5f",
             "gridcolor": "white",
             "linecolor": "white",
             "minorgridcolor": "white",
             "startlinecolor": "#2a3f5f"
            },
            "baxis": {
             "endlinecolor": "#2a3f5f",
             "gridcolor": "white",
             "linecolor": "white",
             "minorgridcolor": "white",
             "startlinecolor": "#2a3f5f"
            },
            "type": "carpet"
           }
          ],
          "choropleth": [
           {
            "colorbar": {
             "outlinewidth": 0,
             "ticks": ""
            },
            "type": "choropleth"
           }
          ],
          "contour": [
           {
            "colorbar": {
             "outlinewidth": 0,
             "ticks": ""
            },
            "colorscale": [
             [
              0,
              "#0d0887"
             ],
             [
              0.1111111111111111,
              "#46039f"
             ],
             [
              0.2222222222222222,
              "#7201a8"
             ],
             [
              0.3333333333333333,
              "#9c179e"
             ],
             [
              0.4444444444444444,
              "#bd3786"
             ],
             [
              0.5555555555555556,
              "#d8576b"
             ],
             [
              0.6666666666666666,
              "#ed7953"
             ],
             [
              0.7777777777777778,
              "#fb9f3a"
             ],
             [
              0.8888888888888888,
              "#fdca26"
             ],
             [
              1,
              "#f0f921"
             ]
            ],
            "type": "contour"
           }
          ],
          "contourcarpet": [
           {
            "colorbar": {
             "outlinewidth": 0,
             "ticks": ""
            },
            "type": "contourcarpet"
           }
          ],
          "heatmap": [
           {
            "colorbar": {
             "outlinewidth": 0,
             "ticks": ""
            },
            "colorscale": [
             [
              0,
              "#0d0887"
             ],
             [
              0.1111111111111111,
              "#46039f"
             ],
             [
              0.2222222222222222,
              "#7201a8"
             ],
             [
              0.3333333333333333,
              "#9c179e"
             ],
             [
              0.4444444444444444,
              "#bd3786"
             ],
             [
              0.5555555555555556,
              "#d8576b"
             ],
             [
              0.6666666666666666,
              "#ed7953"
             ],
             [
              0.7777777777777778,
              "#fb9f3a"
             ],
             [
              0.8888888888888888,
              "#fdca26"
             ],
             [
              1,
              "#f0f921"
             ]
            ],
            "type": "heatmap"
           }
          ],
          "heatmapgl": [
           {
            "colorbar": {
             "outlinewidth": 0,
             "ticks": ""
            },
            "colorscale": [
             [
              0,
              "#0d0887"
             ],
             [
              0.1111111111111111,
              "#46039f"
             ],
             [
              0.2222222222222222,
              "#7201a8"
             ],
             [
              0.3333333333333333,
              "#9c179e"
             ],
             [
              0.4444444444444444,
              "#bd3786"
             ],
             [
              0.5555555555555556,
              "#d8576b"
             ],
             [
              0.6666666666666666,
              "#ed7953"
             ],
             [
              0.7777777777777778,
              "#fb9f3a"
             ],
             [
              0.8888888888888888,
              "#fdca26"
             ],
             [
              1,
              "#f0f921"
             ]
            ],
            "type": "heatmapgl"
           }
          ],
          "histogram": [
           {
            "marker": {
             "colorbar": {
              "outlinewidth": 0,
              "ticks": ""
             }
            },
            "type": "histogram"
           }
          ],
          "histogram2d": [
           {
            "colorbar": {
             "outlinewidth": 0,
             "ticks": ""
            },
            "colorscale": [
             [
              0,
              "#0d0887"
             ],
             [
              0.1111111111111111,
              "#46039f"
             ],
             [
              0.2222222222222222,
              "#7201a8"
             ],
             [
              0.3333333333333333,
              "#9c179e"
             ],
             [
              0.4444444444444444,
              "#bd3786"
             ],
             [
              0.5555555555555556,
              "#d8576b"
             ],
             [
              0.6666666666666666,
              "#ed7953"
             ],
             [
              0.7777777777777778,
              "#fb9f3a"
             ],
             [
              0.8888888888888888,
              "#fdca26"
             ],
             [
              1,
              "#f0f921"
             ]
            ],
            "type": "histogram2d"
           }
          ],
          "histogram2dcontour": [
           {
            "colorbar": {
             "outlinewidth": 0,
             "ticks": ""
            },
            "colorscale": [
             [
              0,
              "#0d0887"
             ],
             [
              0.1111111111111111,
              "#46039f"
             ],
             [
              0.2222222222222222,
              "#7201a8"
             ],
             [
              0.3333333333333333,
              "#9c179e"
             ],
             [
              0.4444444444444444,
              "#bd3786"
             ],
             [
              0.5555555555555556,
              "#d8576b"
             ],
             [
              0.6666666666666666,
              "#ed7953"
             ],
             [
              0.7777777777777778,
              "#fb9f3a"
             ],
             [
              0.8888888888888888,
              "#fdca26"
             ],
             [
              1,
              "#f0f921"
             ]
            ],
            "type": "histogram2dcontour"
           }
          ],
          "mesh3d": [
           {
            "colorbar": {
             "outlinewidth": 0,
             "ticks": ""
            },
            "type": "mesh3d"
           }
          ],
          "parcoords": [
           {
            "line": {
             "colorbar": {
              "outlinewidth": 0,
              "ticks": ""
             }
            },
            "type": "parcoords"
           }
          ],
          "pie": [
           {
            "automargin": true,
            "type": "pie"
           }
          ],
          "scatter": [
           {
            "marker": {
             "colorbar": {
              "outlinewidth": 0,
              "ticks": ""
             }
            },
            "type": "scatter"
           }
          ],
          "scatter3d": [
           {
            "line": {
             "colorbar": {
              "outlinewidth": 0,
              "ticks": ""
             }
            },
            "marker": {
             "colorbar": {
              "outlinewidth": 0,
              "ticks": ""
             }
            },
            "type": "scatter3d"
           }
          ],
          "scattercarpet": [
           {
            "marker": {
             "colorbar": {
              "outlinewidth": 0,
              "ticks": ""
             }
            },
            "type": "scattercarpet"
           }
          ],
          "scattergeo": [
           {
            "marker": {
             "colorbar": {
              "outlinewidth": 0,
              "ticks": ""
             }
            },
            "type": "scattergeo"
           }
          ],
          "scattergl": [
           {
            "marker": {
             "colorbar": {
              "outlinewidth": 0,
              "ticks": ""
             }
            },
            "type": "scattergl"
           }
          ],
          "scattermapbox": [
           {
            "marker": {
             "colorbar": {
              "outlinewidth": 0,
              "ticks": ""
             }
            },
            "type": "scattermapbox"
           }
          ],
          "scatterpolar": [
           {
            "marker": {
             "colorbar": {
              "outlinewidth": 0,
              "ticks": ""
             }
            },
            "type": "scatterpolar"
           }
          ],
          "scatterpolargl": [
           {
            "marker": {
             "colorbar": {
              "outlinewidth": 0,
              "ticks": ""
             }
            },
            "type": "scatterpolargl"
           }
          ],
          "scatterternary": [
           {
            "marker": {
             "colorbar": {
              "outlinewidth": 0,
              "ticks": ""
             }
            },
            "type": "scatterternary"
           }
          ],
          "surface": [
           {
            "colorbar": {
             "outlinewidth": 0,
             "ticks": ""
            },
            "colorscale": [
             [
              0,
              "#0d0887"
             ],
             [
              0.1111111111111111,
              "#46039f"
             ],
             [
              0.2222222222222222,
              "#7201a8"
             ],
             [
              0.3333333333333333,
              "#9c179e"
             ],
             [
              0.4444444444444444,
              "#bd3786"
             ],
             [
              0.5555555555555556,
              "#d8576b"
             ],
             [
              0.6666666666666666,
              "#ed7953"
             ],
             [
              0.7777777777777778,
              "#fb9f3a"
             ],
             [
              0.8888888888888888,
              "#fdca26"
             ],
             [
              1,
              "#f0f921"
             ]
            ],
            "type": "surface"
           }
          ],
          "table": [
           {
            "cells": {
             "fill": {
              "color": "#EBF0F8"
             },
             "line": {
              "color": "white"
             }
            },
            "header": {
             "fill": {
              "color": "#C8D4E3"
             },
             "line": {
              "color": "white"
             }
            },
            "type": "table"
           }
          ]
         },
         "layout": {
          "annotationdefaults": {
           "arrowcolor": "#2a3f5f",
           "arrowhead": 0,
           "arrowwidth": 1
          },
          "coloraxis": {
           "colorbar": {
            "outlinewidth": 0,
            "ticks": ""
           }
          },
          "colorscale": {
           "diverging": [
            [
             0,
             "#8e0152"
            ],
            [
             0.1,
             "#c51b7d"
            ],
            [
             0.2,
             "#de77ae"
            ],
            [
             0.3,
             "#f1b6da"
            ],
            [
             0.4,
             "#fde0ef"
            ],
            [
             0.5,
             "#f7f7f7"
            ],
            [
             0.6,
             "#e6f5d0"
            ],
            [
             0.7,
             "#b8e186"
            ],
            [
             0.8,
             "#7fbc41"
            ],
            [
             0.9,
             "#4d9221"
            ],
            [
             1,
             "#276419"
            ]
           ],
           "sequential": [
            [
             0,
             "#0d0887"
            ],
            [
             0.1111111111111111,
             "#46039f"
            ],
            [
             0.2222222222222222,
             "#7201a8"
            ],
            [
             0.3333333333333333,
             "#9c179e"
            ],
            [
             0.4444444444444444,
             "#bd3786"
            ],
            [
             0.5555555555555556,
             "#d8576b"
            ],
            [
             0.6666666666666666,
             "#ed7953"
            ],
            [
             0.7777777777777778,
             "#fb9f3a"
            ],
            [
             0.8888888888888888,
             "#fdca26"
            ],
            [
             1,
             "#f0f921"
            ]
           ],
           "sequentialminus": [
            [
             0,
             "#0d0887"
            ],
            [
             0.1111111111111111,
             "#46039f"
            ],
            [
             0.2222222222222222,
             "#7201a8"
            ],
            [
             0.3333333333333333,
             "#9c179e"
            ],
            [
             0.4444444444444444,
             "#bd3786"
            ],
            [
             0.5555555555555556,
             "#d8576b"
            ],
            [
             0.6666666666666666,
             "#ed7953"
            ],
            [
             0.7777777777777778,
             "#fb9f3a"
            ],
            [
             0.8888888888888888,
             "#fdca26"
            ],
            [
             1,
             "#f0f921"
            ]
           ]
          },
          "colorway": [
           "#636efa",
           "#EF553B",
           "#00cc96",
           "#ab63fa",
           "#FFA15A",
           "#19d3f3",
           "#FF6692",
           "#B6E880",
           "#FF97FF",
           "#FECB52"
          ],
          "font": {
           "color": "#2a3f5f"
          },
          "geo": {
           "bgcolor": "white",
           "lakecolor": "white",
           "landcolor": "#E5ECF6",
           "showlakes": true,
           "showland": true,
           "subunitcolor": "white"
          },
          "hoverlabel": {
           "align": "left"
          },
          "hovermode": "closest",
          "mapbox": {
           "style": "light"
          },
          "paper_bgcolor": "white",
          "plot_bgcolor": "#E5ECF6",
          "polar": {
           "angularaxis": {
            "gridcolor": "white",
            "linecolor": "white",
            "ticks": ""
           },
           "bgcolor": "#E5ECF6",
           "radialaxis": {
            "gridcolor": "white",
            "linecolor": "white",
            "ticks": ""
           }
          },
          "scene": {
           "xaxis": {
            "backgroundcolor": "#E5ECF6",
            "gridcolor": "white",
            "gridwidth": 2,
            "linecolor": "white",
            "showbackground": true,
            "ticks": "",
            "zerolinecolor": "white"
           },
           "yaxis": {
            "backgroundcolor": "#E5ECF6",
            "gridcolor": "white",
            "gridwidth": 2,
            "linecolor": "white",
            "showbackground": true,
            "ticks": "",
            "zerolinecolor": "white"
           },
           "zaxis": {
            "backgroundcolor": "#E5ECF6",
            "gridcolor": "white",
            "gridwidth": 2,
            "linecolor": "white",
            "showbackground": true,
            "ticks": "",
            "zerolinecolor": "white"
           }
          },
          "shapedefaults": {
           "line": {
            "color": "#2a3f5f"
           }
          },
          "ternary": {
           "aaxis": {
            "gridcolor": "white",
            "linecolor": "white",
            "ticks": ""
           },
           "baxis": {
            "gridcolor": "white",
            "linecolor": "white",
            "ticks": ""
           },
           "bgcolor": "#E5ECF6",
           "caxis": {
            "gridcolor": "white",
            "linecolor": "white",
            "ticks": ""
           }
          },
          "title": {
           "x": 0.05
          },
          "xaxis": {
           "automargin": true,
           "gridcolor": "white",
           "linecolor": "white",
           "ticks": "",
           "title": {
            "standoff": 15
           },
           "zerolinecolor": "white",
           "zerolinewidth": 2
          },
          "yaxis": {
           "automargin": true,
           "gridcolor": "white",
           "linecolor": "white",
           "ticks": "",
           "title": {
            "standoff": 15
           },
           "zerolinecolor": "white",
           "zerolinewidth": 2
          }
         }
        },
        "title": {
         "text": "Lazio - Internazionale, 2 - 3"
        },
        "width": 825,
        "xaxis": {
         "range": [
          0,
          100
         ],
         "showgrid": false,
         "showticklabels": false
        },
        "yaxis": {
         "range": [
          0,
          100
         ],
         "showgrid": false,
         "showticklabels": false
        }
       }
      },
      "text/html": [
       "<div>\n",
       "        \n",
       "        \n",
       "            <div id=\"6d95b27d-f45f-4feb-9eff-e223c156e3e0\" class=\"plotly-graph-div\" style=\"height:600px; width:825px;\"></div>\n",
       "            <script type=\"text/javascript\">\n",
       "                require([\"plotly\"], function(Plotly) {\n",
       "                    window.PLOTLYENV=window.PLOTLYENV || {};\n",
       "                    \n",
       "                if (document.getElementById(\"6d95b27d-f45f-4feb-9eff-e223c156e3e0\")) {\n",
       "                    Plotly.newPlot(\n",
       "                        '6d95b27d-f45f-4feb-9eff-e223c156e3e0',\n",
       "                        [{\"marker\": {\"color\": \"red\", \"size\": 8}, \"mode\": \"markers\", \"name\": \"Lazio\", \"text\": [\"Foul by Felipe Anderson (40806)\", \"Foul by Luiz Felipe (376362)\", \"Foul by S. Luli\\u0107 (20561)\", \"Foul by Lucas Leiva (7965)\", \"Foul by S. Milinkovi\\u0107-Savi\\u0107 (265865)\", \"Foul by S. Milinkovi\\u0107-Savi\\u0107 (265865)\", \"Foul by T. Strakosha (166534)\", \"Foul by S. de Vrij (130)\", \"Foul by S. Luli\\u0107 (20561)\", \"Foul by Nani (7926)\", \"Foul by A. Murgia (346908)\", \"Foul by Luiz Felipe (376362)\", \"Foul by Lucas Leiva (7965)\", \"Foul by Patric (4792)\"], \"type\": \"scatter\", \"x\": [69, 88, 59, 61, 75, 68, 4, 11, 70, 64, 16, 14, 79, 61], \"y\": [93, 5, 6, 31, 15, 32, 56, 53, 27, 87, 12, 87, 56, 11]}, {\"marker\": {\"color\": \"blue\", \"size\": 8, \"symbol\": \"square\"}, \"mode\": \"markers\", \"name\": \"Internazionale\", \"text\": [\"Foul by M. Brozovi\\u0107 (69968)\", \"Foul by M. Brozovi\\u0107 (69968)\", \"Foul by Rafinha (3344)\", \"Foul by M. Vecino (116349)\", \"Foul by Jo\\u00e3o Miranda (3431)\", \"Foul by Jo\\u00e3o Cancelo (135903)\", \"Foul by D. D'Ambrosio (21094)\", \"Foul by D. D'Ambrosio (21094)\", \"Foul by M. \\u0160kriniar (138408)\", \"Foul by M. Vecino (116349)\", \"Foul by Eder (20626)\", \"Foul by I. Peri\\u0161i\\u0107 (14812)\", \"Foul by M. Vecino (116349)\", \"Foul by Eder (20626)\"], \"type\": \"scatter\", \"x\": [41, 35, 65, 39, 24, 70, 27, 60, 40, 35, 55, 66, 89, 70], \"y\": [12, 44, 27, 72, 32, 99, 39, 27, 37, 68, 25, 4, 81, 17]}],\n",
       "                        {\"autosize\": false, \"height\": 600, \"hovermode\": \"closest\", \"plot_bgcolor\": \"rgb(255, 255, 255)\", \"shapes\": [{\"line\": {\"color\": \"black\"}, \"type\": \"circle\", \"x0\": 40, \"x1\": 60, \"xref\": \"x\", \"y0\": 35, \"y1\": 65, \"yref\": \"y\"}, {\"line\": {\"color\": \"black\"}, \"type\": \"line\", \"x0\": 0, \"x1\": 10, \"xref\": \"x\", \"y0\": 35, \"y1\": 35, \"yref\": \"y\"}, {\"line\": {\"color\": \"black\"}, \"type\": \"line\", \"x0\": 10, \"x1\": 10, \"xref\": \"x\", \"y0\": 35, \"y1\": 65, \"yref\": \"y\"}, {\"line\": {\"color\": \"black\"}, \"type\": \"line\", \"x0\": 10, \"x1\": 0, \"xref\": \"x\", \"y0\": 65, \"y1\": 65, \"yref\": \"y\"}, {\"line\": {\"color\": \"black\"}, \"type\": \"line\", \"x0\": 100, \"x1\": 90, \"xref\": \"x\", \"y0\": 35, \"y1\": 35, \"yref\": \"y\"}, {\"line\": {\"color\": \"black\"}, \"type\": \"line\", \"x0\": 90, \"x1\": 90, \"xref\": \"x\", \"y0\": 35, \"y1\": 65, \"yref\": \"y\"}, {\"line\": {\"color\": \"black\"}, \"type\": \"line\", \"x0\": 90, \"x1\": 100, \"xref\": \"x\", \"y0\": 65, \"y1\": 65, \"yref\": \"y\"}, {\"line\": {\"color\": \"black\"}, \"type\": \"line\", \"x0\": 50, \"x1\": 50, \"xref\": \"x\", \"y0\": 100, \"y1\": 0, \"yref\": \"y\"}, {\"line\": {\"color\": \"black\"}, \"type\": \"line\", \"x0\": 0, \"x1\": 0, \"xref\": \"x\", \"y0\": 0, \"y1\": 100, \"yref\": \"y\"}, {\"line\": {\"color\": \"black\"}, \"type\": \"line\", \"x0\": 100, \"x1\": 100, \"xref\": \"x\", \"y0\": 0, \"y1\": 100, \"yref\": \"y\"}, {\"line\": {\"color\": \"black\"}, \"type\": \"line\", \"x0\": 0, \"x1\": 100, \"xref\": \"x\", \"y0\": 100, \"y1\": 100, \"yref\": \"y\"}, {\"line\": {\"color\": \"black\"}, \"type\": \"line\", \"x0\": 0, \"x1\": 100, \"xref\": \"x\", \"y0\": 0, \"y1\": 0, \"yref\": \"y\"}], \"template\": {\"data\": {\"bar\": [{\"error_x\": {\"color\": \"#2a3f5f\"}, \"error_y\": {\"color\": \"#2a3f5f\"}, \"marker\": {\"line\": {\"color\": \"#E5ECF6\", \"width\": 0.5}}, \"type\": \"bar\"}], \"barpolar\": [{\"marker\": {\"line\": {\"color\": \"#E5ECF6\", \"width\": 0.5}}, \"type\": \"barpolar\"}], \"carpet\": [{\"aaxis\": {\"endlinecolor\": \"#2a3f5f\", \"gridcolor\": \"white\", \"linecolor\": \"white\", \"minorgridcolor\": \"white\", \"startlinecolor\": \"#2a3f5f\"}, \"baxis\": {\"endlinecolor\": \"#2a3f5f\", \"gridcolor\": \"white\", \"linecolor\": \"white\", \"minorgridcolor\": \"white\", \"startlinecolor\": \"#2a3f5f\"}, \"type\": \"carpet\"}], \"choropleth\": [{\"colorbar\": {\"outlinewidth\": 0, \"ticks\": \"\"}, \"type\": \"choropleth\"}], \"contour\": [{\"colorbar\": {\"outlinewidth\": 0, \"ticks\": \"\"}, \"colorscale\": [[0.0, \"#0d0887\"], [0.1111111111111111, \"#46039f\"], [0.2222222222222222, \"#7201a8\"], [0.3333333333333333, \"#9c179e\"], [0.4444444444444444, \"#bd3786\"], [0.5555555555555556, \"#d8576b\"], [0.6666666666666666, \"#ed7953\"], [0.7777777777777778, \"#fb9f3a\"], [0.8888888888888888, \"#fdca26\"], [1.0, \"#f0f921\"]], \"type\": \"contour\"}], \"contourcarpet\": [{\"colorbar\": {\"outlinewidth\": 0, \"ticks\": \"\"}, \"type\": \"contourcarpet\"}], \"heatmap\": [{\"colorbar\": {\"outlinewidth\": 0, \"ticks\": \"\"}, \"colorscale\": [[0.0, \"#0d0887\"], [0.1111111111111111, \"#46039f\"], [0.2222222222222222, \"#7201a8\"], [0.3333333333333333, \"#9c179e\"], [0.4444444444444444, \"#bd3786\"], [0.5555555555555556, \"#d8576b\"], [0.6666666666666666, \"#ed7953\"], [0.7777777777777778, \"#fb9f3a\"], [0.8888888888888888, \"#fdca26\"], [1.0, \"#f0f921\"]], \"type\": \"heatmap\"}], \"heatmapgl\": [{\"colorbar\": {\"outlinewidth\": 0, \"ticks\": \"\"}, \"colorscale\": [[0.0, \"#0d0887\"], [0.1111111111111111, \"#46039f\"], [0.2222222222222222, \"#7201a8\"], [0.3333333333333333, \"#9c179e\"], [0.4444444444444444, \"#bd3786\"], [0.5555555555555556, \"#d8576b\"], [0.6666666666666666, \"#ed7953\"], [0.7777777777777778, \"#fb9f3a\"], [0.8888888888888888, \"#fdca26\"], [1.0, \"#f0f921\"]], \"type\": \"heatmapgl\"}], \"histogram\": [{\"marker\": {\"colorbar\": {\"outlinewidth\": 0, \"ticks\": \"\"}}, \"type\": \"histogram\"}], \"histogram2d\": [{\"colorbar\": {\"outlinewidth\": 0, \"ticks\": \"\"}, \"colorscale\": [[0.0, \"#0d0887\"], [0.1111111111111111, \"#46039f\"], [0.2222222222222222, \"#7201a8\"], [0.3333333333333333, \"#9c179e\"], [0.4444444444444444, \"#bd3786\"], [0.5555555555555556, \"#d8576b\"], [0.6666666666666666, \"#ed7953\"], [0.7777777777777778, \"#fb9f3a\"], [0.8888888888888888, \"#fdca26\"], [1.0, \"#f0f921\"]], \"type\": \"histogram2d\"}], \"histogram2dcontour\": [{\"colorbar\": {\"outlinewidth\": 0, \"ticks\": \"\"}, \"colorscale\": [[0.0, \"#0d0887\"], [0.1111111111111111, \"#46039f\"], [0.2222222222222222, \"#7201a8\"], [0.3333333333333333, \"#9c179e\"], [0.4444444444444444, \"#bd3786\"], [0.5555555555555556, \"#d8576b\"], [0.6666666666666666, \"#ed7953\"], [0.7777777777777778, \"#fb9f3a\"], [0.8888888888888888, \"#fdca26\"], [1.0, \"#f0f921\"]], \"type\": \"histogram2dcontour\"}], \"mesh3d\": [{\"colorbar\": {\"outlinewidth\": 0, \"ticks\": \"\"}, \"type\": \"mesh3d\"}], \"parcoords\": [{\"line\": {\"colorbar\": {\"outlinewidth\": 0, \"ticks\": \"\"}}, \"type\": \"parcoords\"}], \"pie\": [{\"automargin\": true, \"type\": \"pie\"}], \"scatter\": [{\"marker\": {\"colorbar\": {\"outlinewidth\": 0, \"ticks\": \"\"}}, \"type\": \"scatter\"}], \"scatter3d\": [{\"line\": {\"colorbar\": {\"outlinewidth\": 0, \"ticks\": \"\"}}, \"marker\": {\"colorbar\": {\"outlinewidth\": 0, \"ticks\": \"\"}}, \"type\": \"scatter3d\"}], \"scattercarpet\": [{\"marker\": {\"colorbar\": {\"outlinewidth\": 0, \"ticks\": \"\"}}, \"type\": \"scattercarpet\"}], \"scattergeo\": [{\"marker\": {\"colorbar\": {\"outlinewidth\": 0, \"ticks\": \"\"}}, \"type\": \"scattergeo\"}], \"scattergl\": [{\"marker\": {\"colorbar\": {\"outlinewidth\": 0, \"ticks\": \"\"}}, \"type\": \"scattergl\"}], \"scattermapbox\": [{\"marker\": {\"colorbar\": {\"outlinewidth\": 0, \"ticks\": \"\"}}, \"type\": \"scattermapbox\"}], \"scatterpolar\": [{\"marker\": {\"colorbar\": {\"outlinewidth\": 0, \"ticks\": \"\"}}, \"type\": \"scatterpolar\"}], \"scatterpolargl\": [{\"marker\": {\"colorbar\": {\"outlinewidth\": 0, \"ticks\": \"\"}}, \"type\": \"scatterpolargl\"}], \"scatterternary\": [{\"marker\": {\"colorbar\": {\"outlinewidth\": 0, \"ticks\": \"\"}}, \"type\": \"scatterternary\"}], \"surface\": [{\"colorbar\": {\"outlinewidth\": 0, \"ticks\": \"\"}, \"colorscale\": [[0.0, \"#0d0887\"], [0.1111111111111111, \"#46039f\"], [0.2222222222222222, \"#7201a8\"], [0.3333333333333333, \"#9c179e\"], [0.4444444444444444, \"#bd3786\"], [0.5555555555555556, \"#d8576b\"], [0.6666666666666666, \"#ed7953\"], [0.7777777777777778, \"#fb9f3a\"], [0.8888888888888888, \"#fdca26\"], [1.0, \"#f0f921\"]], \"type\": \"surface\"}], \"table\": [{\"cells\": {\"fill\": {\"color\": \"#EBF0F8\"}, \"line\": {\"color\": \"white\"}}, \"header\": {\"fill\": {\"color\": \"#C8D4E3\"}, \"line\": {\"color\": \"white\"}}, \"type\": \"table\"}]}, \"layout\": {\"annotationdefaults\": {\"arrowcolor\": \"#2a3f5f\", \"arrowhead\": 0, \"arrowwidth\": 1}, \"coloraxis\": {\"colorbar\": {\"outlinewidth\": 0, \"ticks\": \"\"}}, \"colorscale\": {\"diverging\": [[0, \"#8e0152\"], [0.1, \"#c51b7d\"], [0.2, \"#de77ae\"], [0.3, \"#f1b6da\"], [0.4, \"#fde0ef\"], [0.5, \"#f7f7f7\"], [0.6, \"#e6f5d0\"], [0.7, \"#b8e186\"], [0.8, \"#7fbc41\"], [0.9, \"#4d9221\"], [1, \"#276419\"]], \"sequential\": [[0.0, \"#0d0887\"], [0.1111111111111111, \"#46039f\"], [0.2222222222222222, \"#7201a8\"], [0.3333333333333333, \"#9c179e\"], [0.4444444444444444, \"#bd3786\"], [0.5555555555555556, \"#d8576b\"], [0.6666666666666666, \"#ed7953\"], [0.7777777777777778, \"#fb9f3a\"], [0.8888888888888888, \"#fdca26\"], [1.0, \"#f0f921\"]], \"sequentialminus\": [[0.0, \"#0d0887\"], [0.1111111111111111, \"#46039f\"], [0.2222222222222222, \"#7201a8\"], [0.3333333333333333, \"#9c179e\"], [0.4444444444444444, \"#bd3786\"], [0.5555555555555556, \"#d8576b\"], [0.6666666666666666, \"#ed7953\"], [0.7777777777777778, \"#fb9f3a\"], [0.8888888888888888, \"#fdca26\"], [1.0, \"#f0f921\"]]}, \"colorway\": [\"#636efa\", \"#EF553B\", \"#00cc96\", \"#ab63fa\", \"#FFA15A\", \"#19d3f3\", \"#FF6692\", \"#B6E880\", \"#FF97FF\", \"#FECB52\"], \"font\": {\"color\": \"#2a3f5f\"}, \"geo\": {\"bgcolor\": \"white\", \"lakecolor\": \"white\", \"landcolor\": \"#E5ECF6\", \"showlakes\": true, \"showland\": true, \"subunitcolor\": \"white\"}, \"hoverlabel\": {\"align\": \"left\"}, \"hovermode\": \"closest\", \"mapbox\": {\"style\": \"light\"}, \"paper_bgcolor\": \"white\", \"plot_bgcolor\": \"#E5ECF6\", \"polar\": {\"angularaxis\": {\"gridcolor\": \"white\", \"linecolor\": \"white\", \"ticks\": \"\"}, \"bgcolor\": \"#E5ECF6\", \"radialaxis\": {\"gridcolor\": \"white\", \"linecolor\": \"white\", \"ticks\": \"\"}}, \"scene\": {\"xaxis\": {\"backgroundcolor\": \"#E5ECF6\", \"gridcolor\": \"white\", \"gridwidth\": 2, \"linecolor\": \"white\", \"showbackground\": true, \"ticks\": \"\", \"zerolinecolor\": \"white\"}, \"yaxis\": {\"backgroundcolor\": \"#E5ECF6\", \"gridcolor\": \"white\", \"gridwidth\": 2, \"linecolor\": \"white\", \"showbackground\": true, \"ticks\": \"\", \"zerolinecolor\": \"white\"}, \"zaxis\": {\"backgroundcolor\": \"#E5ECF6\", \"gridcolor\": \"white\", \"gridwidth\": 2, \"linecolor\": \"white\", \"showbackground\": true, \"ticks\": \"\", \"zerolinecolor\": \"white\"}}, \"shapedefaults\": {\"line\": {\"color\": \"#2a3f5f\"}}, \"ternary\": {\"aaxis\": {\"gridcolor\": \"white\", \"linecolor\": \"white\", \"ticks\": \"\"}, \"baxis\": {\"gridcolor\": \"white\", \"linecolor\": \"white\", \"ticks\": \"\"}, \"bgcolor\": \"#E5ECF6\", \"caxis\": {\"gridcolor\": \"white\", \"linecolor\": \"white\", \"ticks\": \"\"}}, \"title\": {\"x\": 0.05}, \"xaxis\": {\"automargin\": true, \"gridcolor\": \"white\", \"linecolor\": \"white\", \"ticks\": \"\", \"title\": {\"standoff\": 15}, \"zerolinecolor\": \"white\", \"zerolinewidth\": 2}, \"yaxis\": {\"automargin\": true, \"gridcolor\": \"white\", \"linecolor\": \"white\", \"ticks\": \"\", \"title\": {\"standoff\": 15}, \"zerolinecolor\": \"white\", \"zerolinewidth\": 2}}}, \"title\": {\"text\": \"Lazio - Internazionale, 2 - 3\"}, \"width\": 825, \"xaxis\": {\"range\": [0, 100], \"showgrid\": false, \"showticklabels\": false}, \"yaxis\": {\"range\": [0, 100], \"showgrid\": false, \"showticklabels\": false}},\n",
       "                        {\"responsive\": true}\n",
       "                    ).then(function(){\n",
       "                            \n",
       "var gd = document.getElementById('6d95b27d-f45f-4feb-9eff-e223c156e3e0');\n",
       "var x = new MutationObserver(function (mutations, observer) {{\n",
       "        var display = window.getComputedStyle(gd).display;\n",
       "        if (!display || display === 'none') {{\n",
       "            console.log([gd, 'removed!']);\n",
       "            Plotly.purge(gd);\n",
       "            observer.disconnect();\n",
       "        }}\n",
       "}});\n",
       "\n",
       "// Listen for the removal of the full notebook cells\n",
       "var notebookContainer = gd.closest('#notebook-container');\n",
       "if (notebookContainer) {{\n",
       "    x.observe(notebookContainer, {childList: true});\n",
       "}}\n",
       "\n",
       "// Listen for the clearing of the current output cell\n",
       "var outputEl = gd.closest('.output');\n",
       "if (outputEl) {{\n",
       "    x.observe(outputEl, {childList: true});\n",
       "}}\n",
       "\n",
       "                        })\n",
       "                };\n",
       "                });\n",
       "            </script>\n",
       "        </div>"
      ]
     },
     "metadata": {},
     "output_type": "display_data"
    }
   ],
   "source": [
    "visualize_events(event_name='Foul')"
   ]
  },
  {
   "cell_type": "code",
   "execution_count": 41,
   "metadata": {},
   "outputs": [
    {
     "data": {
      "application/vnd.plotly.v1+json": {
       "config": {
        "linkText": "Export to plot.ly",
        "plotlyServerURL": "https://plot.ly",
        "showLink": false
       },
       "data": [
        {
         "marker": {
          "color": "red",
          "size": 8
         },
         "mode": "markers",
         "name": "Lazio",
         "text": [],
         "type": "scatter",
         "x": [],
         "y": []
        },
        {
         "marker": {
          "color": "blue",
          "size": 8,
          "symbol": "square"
         },
         "mode": "markers",
         "name": "Internazionale",
         "text": [
          "Foul by M. Vecino (116349)",
          "Foul by M. Vecino (116349)",
          "Foul by M. Vecino (116349)"
         ],
         "type": "scatter",
         "x": [
          39,
          35,
          89
         ],
         "y": [
          72,
          68,
          81
         ]
        }
       ],
       "layout": {
        "autosize": false,
        "height": 600,
        "hovermode": "closest",
        "plot_bgcolor": "rgb(255, 255, 255)",
        "shapes": [
         {
          "line": {
           "color": "black"
          },
          "type": "circle",
          "x0": 40,
          "x1": 60,
          "xref": "x",
          "y0": 35,
          "y1": 65,
          "yref": "y"
         },
         {
          "line": {
           "color": "black"
          },
          "type": "line",
          "x0": 0,
          "x1": 10,
          "xref": "x",
          "y0": 35,
          "y1": 35,
          "yref": "y"
         },
         {
          "line": {
           "color": "black"
          },
          "type": "line",
          "x0": 10,
          "x1": 10,
          "xref": "x",
          "y0": 35,
          "y1": 65,
          "yref": "y"
         },
         {
          "line": {
           "color": "black"
          },
          "type": "line",
          "x0": 10,
          "x1": 0,
          "xref": "x",
          "y0": 65,
          "y1": 65,
          "yref": "y"
         },
         {
          "line": {
           "color": "black"
          },
          "type": "line",
          "x0": 100,
          "x1": 90,
          "xref": "x",
          "y0": 35,
          "y1": 35,
          "yref": "y"
         },
         {
          "line": {
           "color": "black"
          },
          "type": "line",
          "x0": 90,
          "x1": 90,
          "xref": "x",
          "y0": 35,
          "y1": 65,
          "yref": "y"
         },
         {
          "line": {
           "color": "black"
          },
          "type": "line",
          "x0": 90,
          "x1": 100,
          "xref": "x",
          "y0": 65,
          "y1": 65,
          "yref": "y"
         },
         {
          "line": {
           "color": "black"
          },
          "type": "line",
          "x0": 50,
          "x1": 50,
          "xref": "x",
          "y0": 100,
          "y1": 0,
          "yref": "y"
         },
         {
          "line": {
           "color": "black"
          },
          "type": "line",
          "x0": 0,
          "x1": 0,
          "xref": "x",
          "y0": 0,
          "y1": 100,
          "yref": "y"
         },
         {
          "line": {
           "color": "black"
          },
          "type": "line",
          "x0": 100,
          "x1": 100,
          "xref": "x",
          "y0": 0,
          "y1": 100,
          "yref": "y"
         },
         {
          "line": {
           "color": "black"
          },
          "type": "line",
          "x0": 0,
          "x1": 100,
          "xref": "x",
          "y0": 100,
          "y1": 100,
          "yref": "y"
         },
         {
          "line": {
           "color": "black"
          },
          "type": "line",
          "x0": 0,
          "x1": 100,
          "xref": "x",
          "y0": 0,
          "y1": 0,
          "yref": "y"
         }
        ],
        "template": {
         "data": {
          "bar": [
           {
            "error_x": {
             "color": "#2a3f5f"
            },
            "error_y": {
             "color": "#2a3f5f"
            },
            "marker": {
             "line": {
              "color": "#E5ECF6",
              "width": 0.5
             }
            },
            "type": "bar"
           }
          ],
          "barpolar": [
           {
            "marker": {
             "line": {
              "color": "#E5ECF6",
              "width": 0.5
             }
            },
            "type": "barpolar"
           }
          ],
          "carpet": [
           {
            "aaxis": {
             "endlinecolor": "#2a3f5f",
             "gridcolor": "white",
             "linecolor": "white",
             "minorgridcolor": "white",
             "startlinecolor": "#2a3f5f"
            },
            "baxis": {
             "endlinecolor": "#2a3f5f",
             "gridcolor": "white",
             "linecolor": "white",
             "minorgridcolor": "white",
             "startlinecolor": "#2a3f5f"
            },
            "type": "carpet"
           }
          ],
          "choropleth": [
           {
            "colorbar": {
             "outlinewidth": 0,
             "ticks": ""
            },
            "type": "choropleth"
           }
          ],
          "contour": [
           {
            "colorbar": {
             "outlinewidth": 0,
             "ticks": ""
            },
            "colorscale": [
             [
              0,
              "#0d0887"
             ],
             [
              0.1111111111111111,
              "#46039f"
             ],
             [
              0.2222222222222222,
              "#7201a8"
             ],
             [
              0.3333333333333333,
              "#9c179e"
             ],
             [
              0.4444444444444444,
              "#bd3786"
             ],
             [
              0.5555555555555556,
              "#d8576b"
             ],
             [
              0.6666666666666666,
              "#ed7953"
             ],
             [
              0.7777777777777778,
              "#fb9f3a"
             ],
             [
              0.8888888888888888,
              "#fdca26"
             ],
             [
              1,
              "#f0f921"
             ]
            ],
            "type": "contour"
           }
          ],
          "contourcarpet": [
           {
            "colorbar": {
             "outlinewidth": 0,
             "ticks": ""
            },
            "type": "contourcarpet"
           }
          ],
          "heatmap": [
           {
            "colorbar": {
             "outlinewidth": 0,
             "ticks": ""
            },
            "colorscale": [
             [
              0,
              "#0d0887"
             ],
             [
              0.1111111111111111,
              "#46039f"
             ],
             [
              0.2222222222222222,
              "#7201a8"
             ],
             [
              0.3333333333333333,
              "#9c179e"
             ],
             [
              0.4444444444444444,
              "#bd3786"
             ],
             [
              0.5555555555555556,
              "#d8576b"
             ],
             [
              0.6666666666666666,
              "#ed7953"
             ],
             [
              0.7777777777777778,
              "#fb9f3a"
             ],
             [
              0.8888888888888888,
              "#fdca26"
             ],
             [
              1,
              "#f0f921"
             ]
            ],
            "type": "heatmap"
           }
          ],
          "heatmapgl": [
           {
            "colorbar": {
             "outlinewidth": 0,
             "ticks": ""
            },
            "colorscale": [
             [
              0,
              "#0d0887"
             ],
             [
              0.1111111111111111,
              "#46039f"
             ],
             [
              0.2222222222222222,
              "#7201a8"
             ],
             [
              0.3333333333333333,
              "#9c179e"
             ],
             [
              0.4444444444444444,
              "#bd3786"
             ],
             [
              0.5555555555555556,
              "#d8576b"
             ],
             [
              0.6666666666666666,
              "#ed7953"
             ],
             [
              0.7777777777777778,
              "#fb9f3a"
             ],
             [
              0.8888888888888888,
              "#fdca26"
             ],
             [
              1,
              "#f0f921"
             ]
            ],
            "type": "heatmapgl"
           }
          ],
          "histogram": [
           {
            "marker": {
             "colorbar": {
              "outlinewidth": 0,
              "ticks": ""
             }
            },
            "type": "histogram"
           }
          ],
          "histogram2d": [
           {
            "colorbar": {
             "outlinewidth": 0,
             "ticks": ""
            },
            "colorscale": [
             [
              0,
              "#0d0887"
             ],
             [
              0.1111111111111111,
              "#46039f"
             ],
             [
              0.2222222222222222,
              "#7201a8"
             ],
             [
              0.3333333333333333,
              "#9c179e"
             ],
             [
              0.4444444444444444,
              "#bd3786"
             ],
             [
              0.5555555555555556,
              "#d8576b"
             ],
             [
              0.6666666666666666,
              "#ed7953"
             ],
             [
              0.7777777777777778,
              "#fb9f3a"
             ],
             [
              0.8888888888888888,
              "#fdca26"
             ],
             [
              1,
              "#f0f921"
             ]
            ],
            "type": "histogram2d"
           }
          ],
          "histogram2dcontour": [
           {
            "colorbar": {
             "outlinewidth": 0,
             "ticks": ""
            },
            "colorscale": [
             [
              0,
              "#0d0887"
             ],
             [
              0.1111111111111111,
              "#46039f"
             ],
             [
              0.2222222222222222,
              "#7201a8"
             ],
             [
              0.3333333333333333,
              "#9c179e"
             ],
             [
              0.4444444444444444,
              "#bd3786"
             ],
             [
              0.5555555555555556,
              "#d8576b"
             ],
             [
              0.6666666666666666,
              "#ed7953"
             ],
             [
              0.7777777777777778,
              "#fb9f3a"
             ],
             [
              0.8888888888888888,
              "#fdca26"
             ],
             [
              1,
              "#f0f921"
             ]
            ],
            "type": "histogram2dcontour"
           }
          ],
          "mesh3d": [
           {
            "colorbar": {
             "outlinewidth": 0,
             "ticks": ""
            },
            "type": "mesh3d"
           }
          ],
          "parcoords": [
           {
            "line": {
             "colorbar": {
              "outlinewidth": 0,
              "ticks": ""
             }
            },
            "type": "parcoords"
           }
          ],
          "pie": [
           {
            "automargin": true,
            "type": "pie"
           }
          ],
          "scatter": [
           {
            "marker": {
             "colorbar": {
              "outlinewidth": 0,
              "ticks": ""
             }
            },
            "type": "scatter"
           }
          ],
          "scatter3d": [
           {
            "line": {
             "colorbar": {
              "outlinewidth": 0,
              "ticks": ""
             }
            },
            "marker": {
             "colorbar": {
              "outlinewidth": 0,
              "ticks": ""
             }
            },
            "type": "scatter3d"
           }
          ],
          "scattercarpet": [
           {
            "marker": {
             "colorbar": {
              "outlinewidth": 0,
              "ticks": ""
             }
            },
            "type": "scattercarpet"
           }
          ],
          "scattergeo": [
           {
            "marker": {
             "colorbar": {
              "outlinewidth": 0,
              "ticks": ""
             }
            },
            "type": "scattergeo"
           }
          ],
          "scattergl": [
           {
            "marker": {
             "colorbar": {
              "outlinewidth": 0,
              "ticks": ""
             }
            },
            "type": "scattergl"
           }
          ],
          "scattermapbox": [
           {
            "marker": {
             "colorbar": {
              "outlinewidth": 0,
              "ticks": ""
             }
            },
            "type": "scattermapbox"
           }
          ],
          "scatterpolar": [
           {
            "marker": {
             "colorbar": {
              "outlinewidth": 0,
              "ticks": ""
             }
            },
            "type": "scatterpolar"
           }
          ],
          "scatterpolargl": [
           {
            "marker": {
             "colorbar": {
              "outlinewidth": 0,
              "ticks": ""
             }
            },
            "type": "scatterpolargl"
           }
          ],
          "scatterternary": [
           {
            "marker": {
             "colorbar": {
              "outlinewidth": 0,
              "ticks": ""
             }
            },
            "type": "scatterternary"
           }
          ],
          "surface": [
           {
            "colorbar": {
             "outlinewidth": 0,
             "ticks": ""
            },
            "colorscale": [
             [
              0,
              "#0d0887"
             ],
             [
              0.1111111111111111,
              "#46039f"
             ],
             [
              0.2222222222222222,
              "#7201a8"
             ],
             [
              0.3333333333333333,
              "#9c179e"
             ],
             [
              0.4444444444444444,
              "#bd3786"
             ],
             [
              0.5555555555555556,
              "#d8576b"
             ],
             [
              0.6666666666666666,
              "#ed7953"
             ],
             [
              0.7777777777777778,
              "#fb9f3a"
             ],
             [
              0.8888888888888888,
              "#fdca26"
             ],
             [
              1,
              "#f0f921"
             ]
            ],
            "type": "surface"
           }
          ],
          "table": [
           {
            "cells": {
             "fill": {
              "color": "#EBF0F8"
             },
             "line": {
              "color": "white"
             }
            },
            "header": {
             "fill": {
              "color": "#C8D4E3"
             },
             "line": {
              "color": "white"
             }
            },
            "type": "table"
           }
          ]
         },
         "layout": {
          "annotationdefaults": {
           "arrowcolor": "#2a3f5f",
           "arrowhead": 0,
           "arrowwidth": 1
          },
          "coloraxis": {
           "colorbar": {
            "outlinewidth": 0,
            "ticks": ""
           }
          },
          "colorscale": {
           "diverging": [
            [
             0,
             "#8e0152"
            ],
            [
             0.1,
             "#c51b7d"
            ],
            [
             0.2,
             "#de77ae"
            ],
            [
             0.3,
             "#f1b6da"
            ],
            [
             0.4,
             "#fde0ef"
            ],
            [
             0.5,
             "#f7f7f7"
            ],
            [
             0.6,
             "#e6f5d0"
            ],
            [
             0.7,
             "#b8e186"
            ],
            [
             0.8,
             "#7fbc41"
            ],
            [
             0.9,
             "#4d9221"
            ],
            [
             1,
             "#276419"
            ]
           ],
           "sequential": [
            [
             0,
             "#0d0887"
            ],
            [
             0.1111111111111111,
             "#46039f"
            ],
            [
             0.2222222222222222,
             "#7201a8"
            ],
            [
             0.3333333333333333,
             "#9c179e"
            ],
            [
             0.4444444444444444,
             "#bd3786"
            ],
            [
             0.5555555555555556,
             "#d8576b"
            ],
            [
             0.6666666666666666,
             "#ed7953"
            ],
            [
             0.7777777777777778,
             "#fb9f3a"
            ],
            [
             0.8888888888888888,
             "#fdca26"
            ],
            [
             1,
             "#f0f921"
            ]
           ],
           "sequentialminus": [
            [
             0,
             "#0d0887"
            ],
            [
             0.1111111111111111,
             "#46039f"
            ],
            [
             0.2222222222222222,
             "#7201a8"
            ],
            [
             0.3333333333333333,
             "#9c179e"
            ],
            [
             0.4444444444444444,
             "#bd3786"
            ],
            [
             0.5555555555555556,
             "#d8576b"
            ],
            [
             0.6666666666666666,
             "#ed7953"
            ],
            [
             0.7777777777777778,
             "#fb9f3a"
            ],
            [
             0.8888888888888888,
             "#fdca26"
            ],
            [
             1,
             "#f0f921"
            ]
           ]
          },
          "colorway": [
           "#636efa",
           "#EF553B",
           "#00cc96",
           "#ab63fa",
           "#FFA15A",
           "#19d3f3",
           "#FF6692",
           "#B6E880",
           "#FF97FF",
           "#FECB52"
          ],
          "font": {
           "color": "#2a3f5f"
          },
          "geo": {
           "bgcolor": "white",
           "lakecolor": "white",
           "landcolor": "#E5ECF6",
           "showlakes": true,
           "showland": true,
           "subunitcolor": "white"
          },
          "hoverlabel": {
           "align": "left"
          },
          "hovermode": "closest",
          "mapbox": {
           "style": "light"
          },
          "paper_bgcolor": "white",
          "plot_bgcolor": "#E5ECF6",
          "polar": {
           "angularaxis": {
            "gridcolor": "white",
            "linecolor": "white",
            "ticks": ""
           },
           "bgcolor": "#E5ECF6",
           "radialaxis": {
            "gridcolor": "white",
            "linecolor": "white",
            "ticks": ""
           }
          },
          "scene": {
           "xaxis": {
            "backgroundcolor": "#E5ECF6",
            "gridcolor": "white",
            "gridwidth": 2,
            "linecolor": "white",
            "showbackground": true,
            "ticks": "",
            "zerolinecolor": "white"
           },
           "yaxis": {
            "backgroundcolor": "#E5ECF6",
            "gridcolor": "white",
            "gridwidth": 2,
            "linecolor": "white",
            "showbackground": true,
            "ticks": "",
            "zerolinecolor": "white"
           },
           "zaxis": {
            "backgroundcolor": "#E5ECF6",
            "gridcolor": "white",
            "gridwidth": 2,
            "linecolor": "white",
            "showbackground": true,
            "ticks": "",
            "zerolinecolor": "white"
           }
          },
          "shapedefaults": {
           "line": {
            "color": "#2a3f5f"
           }
          },
          "ternary": {
           "aaxis": {
            "gridcolor": "white",
            "linecolor": "white",
            "ticks": ""
           },
           "baxis": {
            "gridcolor": "white",
            "linecolor": "white",
            "ticks": ""
           },
           "bgcolor": "#E5ECF6",
           "caxis": {
            "gridcolor": "white",
            "linecolor": "white",
            "ticks": ""
           }
          },
          "title": {
           "x": 0.05
          },
          "xaxis": {
           "automargin": true,
           "gridcolor": "white",
           "linecolor": "white",
           "ticks": "",
           "title": {
            "standoff": 15
           },
           "zerolinecolor": "white",
           "zerolinewidth": 2
          },
          "yaxis": {
           "automargin": true,
           "gridcolor": "white",
           "linecolor": "white",
           "ticks": "",
           "title": {
            "standoff": 15
           },
           "zerolinecolor": "white",
           "zerolinewidth": 2
          }
         }
        },
        "title": {
         "text": "Lazio - Internazionale, 2 - 3"
        },
        "width": 825,
        "xaxis": {
         "range": [
          0,
          100
         ],
         "showgrid": false,
         "showticklabels": false
        },
        "yaxis": {
         "range": [
          0,
          100
         ],
         "showgrid": false,
         "showticklabels": false
        }
       }
      },
      "text/html": [
       "<div>\n",
       "        \n",
       "        \n",
       "            <div id=\"a99b0479-a704-4a6c-a926-ed17f70ae939\" class=\"plotly-graph-div\" style=\"height:600px; width:825px;\"></div>\n",
       "            <script type=\"text/javascript\">\n",
       "                require([\"plotly\"], function(Plotly) {\n",
       "                    window.PLOTLYENV=window.PLOTLYENV || {};\n",
       "                    \n",
       "                if (document.getElementById(\"a99b0479-a704-4a6c-a926-ed17f70ae939\")) {\n",
       "                    Plotly.newPlot(\n",
       "                        'a99b0479-a704-4a6c-a926-ed17f70ae939',\n",
       "                        [{\"marker\": {\"color\": \"red\", \"size\": 8}, \"mode\": \"markers\", \"name\": \"Lazio\", \"text\": [], \"type\": \"scatter\", \"x\": [], \"y\": []}, {\"marker\": {\"color\": \"blue\", \"size\": 8, \"symbol\": \"square\"}, \"mode\": \"markers\", \"name\": \"Internazionale\", \"text\": [\"Foul by M. Vecino (116349)\", \"Foul by M. Vecino (116349)\", \"Foul by M. Vecino (116349)\"], \"type\": \"scatter\", \"x\": [39, 35, 89], \"y\": [72, 68, 81]}],\n",
       "                        {\"autosize\": false, \"height\": 600, \"hovermode\": \"closest\", \"plot_bgcolor\": \"rgb(255, 255, 255)\", \"shapes\": [{\"line\": {\"color\": \"black\"}, \"type\": \"circle\", \"x0\": 40, \"x1\": 60, \"xref\": \"x\", \"y0\": 35, \"y1\": 65, \"yref\": \"y\"}, {\"line\": {\"color\": \"black\"}, \"type\": \"line\", \"x0\": 0, \"x1\": 10, \"xref\": \"x\", \"y0\": 35, \"y1\": 35, \"yref\": \"y\"}, {\"line\": {\"color\": \"black\"}, \"type\": \"line\", \"x0\": 10, \"x1\": 10, \"xref\": \"x\", \"y0\": 35, \"y1\": 65, \"yref\": \"y\"}, {\"line\": {\"color\": \"black\"}, \"type\": \"line\", \"x0\": 10, \"x1\": 0, \"xref\": \"x\", \"y0\": 65, \"y1\": 65, \"yref\": \"y\"}, {\"line\": {\"color\": \"black\"}, \"type\": \"line\", \"x0\": 100, \"x1\": 90, \"xref\": \"x\", \"y0\": 35, \"y1\": 35, \"yref\": \"y\"}, {\"line\": {\"color\": \"black\"}, \"type\": \"line\", \"x0\": 90, \"x1\": 90, \"xref\": \"x\", \"y0\": 35, \"y1\": 65, \"yref\": \"y\"}, {\"line\": {\"color\": \"black\"}, \"type\": \"line\", \"x0\": 90, \"x1\": 100, \"xref\": \"x\", \"y0\": 65, \"y1\": 65, \"yref\": \"y\"}, {\"line\": {\"color\": \"black\"}, \"type\": \"line\", \"x0\": 50, \"x1\": 50, \"xref\": \"x\", \"y0\": 100, \"y1\": 0, \"yref\": \"y\"}, {\"line\": {\"color\": \"black\"}, \"type\": \"line\", \"x0\": 0, \"x1\": 0, \"xref\": \"x\", \"y0\": 0, \"y1\": 100, \"yref\": \"y\"}, {\"line\": {\"color\": \"black\"}, \"type\": \"line\", \"x0\": 100, \"x1\": 100, \"xref\": \"x\", \"y0\": 0, \"y1\": 100, \"yref\": \"y\"}, {\"line\": {\"color\": \"black\"}, \"type\": \"line\", \"x0\": 0, \"x1\": 100, \"xref\": \"x\", \"y0\": 100, \"y1\": 100, \"yref\": \"y\"}, {\"line\": {\"color\": \"black\"}, \"type\": \"line\", \"x0\": 0, \"x1\": 100, \"xref\": \"x\", \"y0\": 0, \"y1\": 0, \"yref\": \"y\"}], \"template\": {\"data\": {\"bar\": [{\"error_x\": {\"color\": \"#2a3f5f\"}, \"error_y\": {\"color\": \"#2a3f5f\"}, \"marker\": {\"line\": {\"color\": \"#E5ECF6\", \"width\": 0.5}}, \"type\": \"bar\"}], \"barpolar\": [{\"marker\": {\"line\": {\"color\": \"#E5ECF6\", \"width\": 0.5}}, \"type\": \"barpolar\"}], \"carpet\": [{\"aaxis\": {\"endlinecolor\": \"#2a3f5f\", \"gridcolor\": \"white\", \"linecolor\": \"white\", \"minorgridcolor\": \"white\", \"startlinecolor\": \"#2a3f5f\"}, \"baxis\": {\"endlinecolor\": \"#2a3f5f\", \"gridcolor\": \"white\", \"linecolor\": \"white\", \"minorgridcolor\": \"white\", \"startlinecolor\": \"#2a3f5f\"}, \"type\": \"carpet\"}], \"choropleth\": [{\"colorbar\": {\"outlinewidth\": 0, \"ticks\": \"\"}, \"type\": \"choropleth\"}], \"contour\": [{\"colorbar\": {\"outlinewidth\": 0, \"ticks\": \"\"}, \"colorscale\": [[0.0, \"#0d0887\"], [0.1111111111111111, \"#46039f\"], [0.2222222222222222, \"#7201a8\"], [0.3333333333333333, \"#9c179e\"], [0.4444444444444444, \"#bd3786\"], [0.5555555555555556, \"#d8576b\"], [0.6666666666666666, \"#ed7953\"], [0.7777777777777778, \"#fb9f3a\"], [0.8888888888888888, \"#fdca26\"], [1.0, \"#f0f921\"]], \"type\": \"contour\"}], \"contourcarpet\": [{\"colorbar\": {\"outlinewidth\": 0, \"ticks\": \"\"}, \"type\": \"contourcarpet\"}], \"heatmap\": [{\"colorbar\": {\"outlinewidth\": 0, \"ticks\": \"\"}, \"colorscale\": [[0.0, \"#0d0887\"], [0.1111111111111111, \"#46039f\"], [0.2222222222222222, \"#7201a8\"], [0.3333333333333333, \"#9c179e\"], [0.4444444444444444, \"#bd3786\"], [0.5555555555555556, \"#d8576b\"], [0.6666666666666666, \"#ed7953\"], [0.7777777777777778, \"#fb9f3a\"], [0.8888888888888888, \"#fdca26\"], [1.0, \"#f0f921\"]], \"type\": \"heatmap\"}], \"heatmapgl\": [{\"colorbar\": {\"outlinewidth\": 0, \"ticks\": \"\"}, \"colorscale\": [[0.0, \"#0d0887\"], [0.1111111111111111, \"#46039f\"], [0.2222222222222222, \"#7201a8\"], [0.3333333333333333, \"#9c179e\"], [0.4444444444444444, \"#bd3786\"], [0.5555555555555556, \"#d8576b\"], [0.6666666666666666, \"#ed7953\"], [0.7777777777777778, \"#fb9f3a\"], [0.8888888888888888, \"#fdca26\"], [1.0, \"#f0f921\"]], \"type\": \"heatmapgl\"}], \"histogram\": [{\"marker\": {\"colorbar\": {\"outlinewidth\": 0, \"ticks\": \"\"}}, \"type\": \"histogram\"}], \"histogram2d\": [{\"colorbar\": {\"outlinewidth\": 0, \"ticks\": \"\"}, \"colorscale\": [[0.0, \"#0d0887\"], [0.1111111111111111, \"#46039f\"], [0.2222222222222222, \"#7201a8\"], [0.3333333333333333, \"#9c179e\"], [0.4444444444444444, \"#bd3786\"], [0.5555555555555556, \"#d8576b\"], [0.6666666666666666, \"#ed7953\"], [0.7777777777777778, \"#fb9f3a\"], [0.8888888888888888, \"#fdca26\"], [1.0, \"#f0f921\"]], \"type\": \"histogram2d\"}], \"histogram2dcontour\": [{\"colorbar\": {\"outlinewidth\": 0, \"ticks\": \"\"}, \"colorscale\": [[0.0, \"#0d0887\"], [0.1111111111111111, \"#46039f\"], [0.2222222222222222, \"#7201a8\"], [0.3333333333333333, \"#9c179e\"], [0.4444444444444444, \"#bd3786\"], [0.5555555555555556, \"#d8576b\"], [0.6666666666666666, \"#ed7953\"], [0.7777777777777778, \"#fb9f3a\"], [0.8888888888888888, \"#fdca26\"], [1.0, \"#f0f921\"]], \"type\": \"histogram2dcontour\"}], \"mesh3d\": [{\"colorbar\": {\"outlinewidth\": 0, \"ticks\": \"\"}, \"type\": \"mesh3d\"}], \"parcoords\": [{\"line\": {\"colorbar\": {\"outlinewidth\": 0, \"ticks\": \"\"}}, \"type\": \"parcoords\"}], \"pie\": [{\"automargin\": true, \"type\": \"pie\"}], \"scatter\": [{\"marker\": {\"colorbar\": {\"outlinewidth\": 0, \"ticks\": \"\"}}, \"type\": \"scatter\"}], \"scatter3d\": [{\"line\": {\"colorbar\": {\"outlinewidth\": 0, \"ticks\": \"\"}}, \"marker\": {\"colorbar\": {\"outlinewidth\": 0, \"ticks\": \"\"}}, \"type\": \"scatter3d\"}], \"scattercarpet\": [{\"marker\": {\"colorbar\": {\"outlinewidth\": 0, \"ticks\": \"\"}}, \"type\": \"scattercarpet\"}], \"scattergeo\": [{\"marker\": {\"colorbar\": {\"outlinewidth\": 0, \"ticks\": \"\"}}, \"type\": \"scattergeo\"}], \"scattergl\": [{\"marker\": {\"colorbar\": {\"outlinewidth\": 0, \"ticks\": \"\"}}, \"type\": \"scattergl\"}], \"scattermapbox\": [{\"marker\": {\"colorbar\": {\"outlinewidth\": 0, \"ticks\": \"\"}}, \"type\": \"scattermapbox\"}], \"scatterpolar\": [{\"marker\": {\"colorbar\": {\"outlinewidth\": 0, \"ticks\": \"\"}}, \"type\": \"scatterpolar\"}], \"scatterpolargl\": [{\"marker\": {\"colorbar\": {\"outlinewidth\": 0, \"ticks\": \"\"}}, \"type\": \"scatterpolargl\"}], \"scatterternary\": [{\"marker\": {\"colorbar\": {\"outlinewidth\": 0, \"ticks\": \"\"}}, \"type\": \"scatterternary\"}], \"surface\": [{\"colorbar\": {\"outlinewidth\": 0, \"ticks\": \"\"}, \"colorscale\": [[0.0, \"#0d0887\"], [0.1111111111111111, \"#46039f\"], [0.2222222222222222, \"#7201a8\"], [0.3333333333333333, \"#9c179e\"], [0.4444444444444444, \"#bd3786\"], [0.5555555555555556, \"#d8576b\"], [0.6666666666666666, \"#ed7953\"], [0.7777777777777778, \"#fb9f3a\"], [0.8888888888888888, \"#fdca26\"], [1.0, \"#f0f921\"]], \"type\": \"surface\"}], \"table\": [{\"cells\": {\"fill\": {\"color\": \"#EBF0F8\"}, \"line\": {\"color\": \"white\"}}, \"header\": {\"fill\": {\"color\": \"#C8D4E3\"}, \"line\": {\"color\": \"white\"}}, \"type\": \"table\"}]}, \"layout\": {\"annotationdefaults\": {\"arrowcolor\": \"#2a3f5f\", \"arrowhead\": 0, \"arrowwidth\": 1}, \"coloraxis\": {\"colorbar\": {\"outlinewidth\": 0, \"ticks\": \"\"}}, \"colorscale\": {\"diverging\": [[0, \"#8e0152\"], [0.1, \"#c51b7d\"], [0.2, \"#de77ae\"], [0.3, \"#f1b6da\"], [0.4, \"#fde0ef\"], [0.5, \"#f7f7f7\"], [0.6, \"#e6f5d0\"], [0.7, \"#b8e186\"], [0.8, \"#7fbc41\"], [0.9, \"#4d9221\"], [1, \"#276419\"]], \"sequential\": [[0.0, \"#0d0887\"], [0.1111111111111111, \"#46039f\"], [0.2222222222222222, \"#7201a8\"], [0.3333333333333333, \"#9c179e\"], [0.4444444444444444, \"#bd3786\"], [0.5555555555555556, \"#d8576b\"], [0.6666666666666666, \"#ed7953\"], [0.7777777777777778, \"#fb9f3a\"], [0.8888888888888888, \"#fdca26\"], [1.0, \"#f0f921\"]], \"sequentialminus\": [[0.0, \"#0d0887\"], [0.1111111111111111, \"#46039f\"], [0.2222222222222222, \"#7201a8\"], [0.3333333333333333, \"#9c179e\"], [0.4444444444444444, \"#bd3786\"], [0.5555555555555556, \"#d8576b\"], [0.6666666666666666, \"#ed7953\"], [0.7777777777777778, \"#fb9f3a\"], [0.8888888888888888, \"#fdca26\"], [1.0, \"#f0f921\"]]}, \"colorway\": [\"#636efa\", \"#EF553B\", \"#00cc96\", \"#ab63fa\", \"#FFA15A\", \"#19d3f3\", \"#FF6692\", \"#B6E880\", \"#FF97FF\", \"#FECB52\"], \"font\": {\"color\": \"#2a3f5f\"}, \"geo\": {\"bgcolor\": \"white\", \"lakecolor\": \"white\", \"landcolor\": \"#E5ECF6\", \"showlakes\": true, \"showland\": true, \"subunitcolor\": \"white\"}, \"hoverlabel\": {\"align\": \"left\"}, \"hovermode\": \"closest\", \"mapbox\": {\"style\": \"light\"}, \"paper_bgcolor\": \"white\", \"plot_bgcolor\": \"#E5ECF6\", \"polar\": {\"angularaxis\": {\"gridcolor\": \"white\", \"linecolor\": \"white\", \"ticks\": \"\"}, \"bgcolor\": \"#E5ECF6\", \"radialaxis\": {\"gridcolor\": \"white\", \"linecolor\": \"white\", \"ticks\": \"\"}}, \"scene\": {\"xaxis\": {\"backgroundcolor\": \"#E5ECF6\", \"gridcolor\": \"white\", \"gridwidth\": 2, \"linecolor\": \"white\", \"showbackground\": true, \"ticks\": \"\", \"zerolinecolor\": \"white\"}, \"yaxis\": {\"backgroundcolor\": \"#E5ECF6\", \"gridcolor\": \"white\", \"gridwidth\": 2, \"linecolor\": \"white\", \"showbackground\": true, \"ticks\": \"\", \"zerolinecolor\": \"white\"}, \"zaxis\": {\"backgroundcolor\": \"#E5ECF6\", \"gridcolor\": \"white\", \"gridwidth\": 2, \"linecolor\": \"white\", \"showbackground\": true, \"ticks\": \"\", \"zerolinecolor\": \"white\"}}, \"shapedefaults\": {\"line\": {\"color\": \"#2a3f5f\"}}, \"ternary\": {\"aaxis\": {\"gridcolor\": \"white\", \"linecolor\": \"white\", \"ticks\": \"\"}, \"baxis\": {\"gridcolor\": \"white\", \"linecolor\": \"white\", \"ticks\": \"\"}, \"bgcolor\": \"#E5ECF6\", \"caxis\": {\"gridcolor\": \"white\", \"linecolor\": \"white\", \"ticks\": \"\"}}, \"title\": {\"x\": 0.05}, \"xaxis\": {\"automargin\": true, \"gridcolor\": \"white\", \"linecolor\": \"white\", \"ticks\": \"\", \"title\": {\"standoff\": 15}, \"zerolinecolor\": \"white\", \"zerolinewidth\": 2}, \"yaxis\": {\"automargin\": true, \"gridcolor\": \"white\", \"linecolor\": \"white\", \"ticks\": \"\", \"title\": {\"standoff\": 15}, \"zerolinecolor\": \"white\", \"zerolinewidth\": 2}}}, \"title\": {\"text\": \"Lazio - Internazionale, 2 - 3\"}, \"width\": 825, \"xaxis\": {\"range\": [0, 100], \"showgrid\": false, \"showticklabels\": false}, \"yaxis\": {\"range\": [0, 100], \"showgrid\": false, \"showticklabels\": false}},\n",
       "                        {\"responsive\": true}\n",
       "                    ).then(function(){\n",
       "                            \n",
       "var gd = document.getElementById('a99b0479-a704-4a6c-a926-ed17f70ae939');\n",
       "var x = new MutationObserver(function (mutations, observer) {{\n",
       "        var display = window.getComputedStyle(gd).display;\n",
       "        if (!display || display === 'none') {{\n",
       "            console.log([gd, 'removed!']);\n",
       "            Plotly.purge(gd);\n",
       "            observer.disconnect();\n",
       "        }}\n",
       "}});\n",
       "\n",
       "// Listen for the removal of the full notebook cells\n",
       "var notebookContainer = gd.closest('#notebook-container');\n",
       "if (notebookContainer) {{\n",
       "    x.observe(notebookContainer, {childList: true});\n",
       "}}\n",
       "\n",
       "// Listen for the clearing of the current output cell\n",
       "var outputEl = gd.closest('.output');\n",
       "if (outputEl) {{\n",
       "    x.observe(outputEl, {childList: true});\n",
       "}}\n",
       "\n",
       "                        })\n",
       "                };\n",
       "                });\n",
       "            </script>\n",
       "        </div>"
      ]
     },
     "metadata": {},
     "output_type": "display_data"
    }
   ],
   "source": [
    "player_id = 116349\n",
    "visualize_events(event_name='Foul', player_id=player_id)"
   ]
  },
  {
   "cell_type": "markdown",
   "metadata": {
    "heading_collapsed": true
   },
   "source": [
    "## 7. <a id='spatial_distribution_events'>Spatial distribution of events</a>\n",
    "\n",
    "Distribution of positions per event type. Kernel density plots showing the distribution of the events’ positions during match. The darker is the green, the higher is the number of events in a specific field zone."
   ]
  },
  {
   "cell_type": "code",
   "execution_count": 42,
   "metadata": {
    "hidden": true
   },
   "outputs": [],
   "source": [
    "def plot_kde_events_on_field(sample_size=10000):\n",
    "    \"\"\"\n",
    "    Generate density plots on the field for each event type\n",
    "    \n",
    "    Parameters\n",
    "    ----------\n",
    "    sample_size: int\n",
    "        random sample of values to use (default: 10000). The code becomes slow is you increase this value\n",
    "        significantly.\n",
    "    \"\"\"\n",
    "    positions = []\n",
    "    for match_events in match_id2events.values():\n",
    "        for event in match_events:\n",
    "            positions.append([event['eventName'], \n",
    "                              event['positions'][0]['x'], \n",
    "                              event['positions'][0]['y']])\n",
    "\n",
    "    positions_df = pd.DataFrame(positions, columns=['eventName','x','y'])\n",
    "\n",
    "    for event_type in EVENT_TYPES:\n",
    "        pos_event_df = positions_df[positions_df['eventName'] == event_type]\n",
    "        fig, ax = pitch()\n",
    "        if len(pos_event_df) >= sample_size:\n",
    "            x_y = pos_event_df[['x','y']].sample(sample_size).astype(float)\n",
    "        else:\n",
    "            x_y = pos_event_df[['x','y']].astype(float)\n",
    "        \n",
    "        sns.kdeplot(x_y['x'], x_y['y'], cmap = 'Greens', shade = True)\n",
    "        \n",
    "        plt.title(event_type, fontsize = 30)\n",
    "        plt.xlim(-1,101)\n",
    "        plt.ylim(-1,101)\n",
    "        plt.axis('off')\n",
    "        fig.tight_layout()\n",
    "        plt.show()"
   ]
  },
  {
   "cell_type": "code",
   "execution_count": null,
   "metadata": {
    "hidden": true,
    "scrolled": true
   },
   "outputs": [
    {
     "data": {
      "image/png": "[encoded data removed]",
      "text/plain": [
       "<Figure size 504x360 with 1 Axes>"
      ]
     },
     "metadata": {
      "needs_background": "light"
     },
     "output_type": "display_data"
    },
    {
     "data": {
      "image/png": "[encoded data removed]",
      "text/plain": [
       "<Figure size 504x360 with 1 Axes>"
      ]
     },
     "metadata": {
      "needs_background": "light"
     },
     "output_type": "display_data"
    },
    {
     "data": {
      "image/png": "[encoded data removed]",
      "text/plain": [
       "<Figure size 504x360 with 1 Axes>"
      ]
     },
     "metadata": {
      "needs_background": "light"
     },
     "output_type": "display_data"
    },
    {
     "data": {
      "image/png": "[encoded data removed]",
      "text/plain": [
       "<Figure size 504x360 with 1 Axes>"
      ]
     },
     "metadata": {
      "needs_background": "light"
     },
     "output_type": "display_data"
    }
   ],
   "source": [
    "plot_kde_events_on_field(sample_size=1000)"
   ]
  },
  {
   "cell_type": "markdown",
   "metadata": {
    "heading_collapsed": true
   },
   "source": [
    "## 8. <a id='intra_match_evolution'>Intra-match evolution of the events</a>\n",
    "\n",
    "In-match evolution of the number of events. Number of events (e.g., goals on the top plot, yellow cards\n",
    "in the middle plot and the red cards in the bottom plot) that occur in all the matches in the data set, with time\n",
    "windows of 5 minutes."
   ]
  },
  {
   "cell_type": "code",
   "execution_count": null,
   "metadata": {
    "hidden": true
   },
   "outputs": [],
   "source": [
    "def in_match_evolution(event_name='Goal', event_tag=101):\n",
    "    \"\"\"\n",
    "    Plot the in-match evolution of the number of events of a specific type.\n",
    "    \n",
    "    Parameters\n",
    "    ----------\n",
    "    event_name : str, optional\n",
    "        the type of event to plot. The default is \"Goal\".\n",
    "        \n",
    "    event_tag : int, optional\n",
    "        the type of tag to plot. The default is 101.\n",
    "    \"\"\"\n",
    "    # slect specific event in accordance with event_tag\n",
    "    events_time = []\n",
    "    for match_id, match_events in match_id2events.items():\n",
    "        for event in match_events:\n",
    "            tags = event['tags']\n",
    "            for tag in tags:\n",
    "                if tag['id'] == event_tag:\n",
    "                    events_time.append([event['matchId'], \n",
    "                                        event['matchPeriod'], \n",
    "                                        event['eventSec']])\n",
    "                \n",
    "    # let us convert it into a DataFrame\n",
    "    event_df = pd.DataFrame(events_time, columns=['matchId','matchPeriod','eventSec'])\n",
    "    \n",
    "    # create figure\n",
    "    fig, ax = plt.subplots(figsize=(8,6))\n",
    "    \n",
    "    start_bin_2h = 11\n",
    "    \n",
    "    # define plot characteristics for 1H e 2H\n",
    "    for half, color_bar in zip(['1H','2H'],['blue','green']):\n",
    "        \n",
    "        # define DataFrame per half time\n",
    "        df_half = event_df[event_df['matchPeriod'] == half].sort_values(['matchPeriod','eventSec'])\n",
    "        \n",
    "        # create bins every 5 minutes\n",
    "        df_half['binned'] = df_half['eventSec'].pipe(lambda x: pd.to_timedelta(x, \"s\")).dt.floor(\"5min\").astype(\"category\").cat.codes\n",
    "        \n",
    "        # merge bins up to 45 minutes \n",
    "        df_half['binned'] = [9 if x>9 else x for x in df_half['binned']]\n",
    "        \n",
    "        # plot bin for second half\n",
    "        if half == '2H':\n",
    "            df_half['binned'] = [x+start_bin_2h for x in df_half['binned']]\n",
    "            \n",
    "        # barplot\n",
    "        count = Counter(df_half.binned)\n",
    "        barlist = plt.bar(count.keys(),count.values(),\n",
    "                          label=half,color=color_bar)\n",
    "        \n",
    "    plt.legend(loc=2, fontsize=15, frameon=True, shadow=True)\n",
    "    plt.xticks(list(range(0,23)),['0-5','5-10','10-15','15-20','20-25','25-30','30-35','35-40','40-45','>45','',\n",
    "                                  '45-50','50-55','55-60','60-65','65-70','70-75','75-80','80-85','85-90','>90'],\n",
    "              rotation=90, fontsize=18)\n",
    "    plt.yticks(fontsize=18)\n",
    "    max_count_value = np.max(list(count.values()))\n",
    "    plt.text(9.65, max_count_value-(max_count_value/100*10), 'half time', rotation=90, \n",
    "             bbox=dict(facecolor='w',edgecolor='r'),\n",
    "             verticalalignment='center', horizontalalignment='left', fontsize=15, \n",
    "             color='tomato')\n",
    "    plt.vlines(10, 0, max_count_value+(max_count_value/100*10),colors='r',alpha=0.5)\n",
    "    plt.ylim(0,max_count_value+(max_count_value/100*10))\n",
    "    plt.xlabel('match time (min)', fontsize=25)\n",
    "    plt.ylabel('%s (n)'%event_name, fontsize=25)\n",
    "    plt.grid(alpha=0.3)\n",
    "    fig.tight_layout()\n",
    "    plt.show()"
   ]
  },
  {
   "cell_type": "code",
   "execution_count": null,
   "metadata": {
    "hidden": true
   },
   "outputs": [],
   "source": [
    "in_match_evolution(event_name='Goal', event_tag=101)"
   ]
  },
  {
   "cell_type": "code",
   "execution_count": null,
   "metadata": {
    "hidden": true
   },
   "outputs": [],
   "source": [
    "in_match_evolution(event_name='Yellow Card', event_tag=1702)"
   ]
  },
  {
   "cell_type": "code",
   "execution_count": null,
   "metadata": {
    "hidden": true
   },
   "outputs": [],
   "source": [
    "in_match_evolution(event_name='Red Card', event_tag=1701)"
   ]
  },
  {
   "cell_type": "markdown",
   "metadata": {
    "heading_collapsed": true
   },
   "source": [
    "## 9. <a id='advanced_statistics'>Advanced Statistics</a>"
   ]
  },
  {
   "cell_type": "markdown",
   "metadata": {
    "heading_collapsed": true
   },
   "source": [
    "## 9.A. <a id='invasion_acceleration_index'>Invasion index and acceleration index</a>\n",
    "\n",
    "Invasion index and acceleration index for a game in the match data set. Bold lines represent the rolling mean of, respectively, invasion index (a) and acceleration index (b), while thin lines represent the individual values computed for each possession phase of each team. Purple vertical lines refer to the two goal scored by Fiorentina during the match, while the red vertical line indicates the half time of the match."
   ]
  },
  {
   "cell_type": "markdown",
   "metadata": {
    "hidden": true
   },
   "source": [
    "A team’s invasion index during a game can be computed with a simple algorithm:\n",
    "\n",
    "- Split the match into possession phases, i.e., sequence of consecutive events on the ball generated by the team;\n",
    "- for each possession phase of the team, **take the event with the highest weight**. An event's weight is computed as its “dangerousness”, i.e., the probability to score from the position where the event occurs. The dangerousness of a position is computed according to the schema in the figure below;\n",
    "- compute the sum of all the weights obtained for the team during the game.\n",
    "\n",
    "![Dangerousity](dangerousity.jpg \"Dangerousity\")\n",
    "Dangerousness of each zone of in the opponent’s area. Every zone is associated with a value of dangerousness according to the probability of scoring from that zone.\n",
    "\n",
    "```\n",
    "D. Link and H. Weber, Using individual ball possession as a performance indicator in soccer, workshop on Large-Scale Sports Analytics, 2015.\n",
    "http://bit.ly/2xuckCi\n",
    "```"
   ]
  },
  {
   "cell_type": "markdown",
   "metadata": {
    "hidden": true
   },
   "source": [
    "The average acceleration is an estimate of how fast a team is on reaching the most dangerous position during a possession phase. \n",
    "\n",
    "A team's average acceleration during a game is computed as follows:\n",
    "\n",
    "- For each possession phase, take the position of the first event $e_1$ and the position of the event associated with the most dangerous position $e_{max}$;\n",
    "- compute the time difference $delta_t = t(e_{max})$ - $t(e_1)$;\n",
    "- compute the ratio between the invasion index of the possession phase and the square of $delta_t$."
   ]
  },
  {
   "cell_type": "code",
   "execution_count": null,
   "metadata": {
    "hidden": true
   },
   "outputs": [],
   "source": [
    "def get_invasion_index(match_id2events, match_id=2576263):\n",
    "    \"\"\"\n",
    "    Compute the invasion index for the input match\n",
    "    \n",
    "    Parameters\n",
    "    ----------\n",
    "    match_id2events : dict\n",
    "        dictionary of match identifiers to list of events in the match.\n",
    "    \n",
    "    match_id : int, optional\n",
    "        identifier of the match to plot\n",
    "        \n",
    "    Returns\n",
    "    -------\n",
    "    tuple\n",
    "        a tuple of two dictionaries of teams to invasion index and invasion speed, \n",
    "        respectively\n",
    "    \"\"\"\n",
    "    # split the match into possession phases (actions)\n",
    "    actions = get_play_actions(match_id2events, match_id)\n",
    "    \n",
    "    # initialize the dictionaries containing the invasion and acceleration indeces\n",
    "    team2invasion_index = defaultdict(list)\n",
    "    team2invasion_speed = defaultdict(list)\n",
    "    \n",
    "    # take all events of the match\n",
    "    events_match = match_id2events[match_id]\n",
    "    \n",
    "    # sort matches by time and half\n",
    "    half_offset = {'2H': max([x['eventSec'] for x in events_match if x['matchPeriod']=='1H']),\n",
    "                   '1H':0}\n",
    "    \n",
    "    ## A COSA SERVE QUESTA RIGA DI CODICE SE POI VIENE SOVRASCRITTA NEL CICLO FOR SOTTO?\n",
    "    events_match = sorted(events_match, key = lambda x: x['eventSec'] + half_offset[x['matchPeriod']])\n",
    "    \n",
    "    off = half_offset['2H']\n",
    "    # for each action in the match\n",
    "    for action in actions:\n",
    "        action_type, events_match = action\n",
    "        team_id = events_match[0]['teamId']\n",
    "        \n",
    "        offset = off if events_match[0]['matchPeriod']=='2H' else 0\n",
    "        if len(set([x['matchPeriod'] for x in events_match])) > 1:\n",
    "            continue\n",
    "        \n",
    "        weights, times = [], []\n",
    "        for event in events_match:\n",
    "            try:\n",
    "                x, y = int(event['positions'][0]['x']), int(event['positions'][0]['y'])\n",
    "                event_time = event['eventSec']\n",
    "            except:\n",
    "                continue #skip to next event in case of missing position data\n",
    "            weights.append(get_weight((x, y)))\n",
    "            times.append(event_time)\n",
    "        \n",
    "        # sort weights by time\n",
    "        time_max_invasion = sorted(times, key=lambda x: weights[times.index(x)], reverse=True)[0]\n",
    "        event_0 = events_match[0]['eventSec']\n",
    "        delta_t = time_max_invasion - event_0\n",
    "        if delta_t > 0.8: ## WHAT'S THIS NUMBER?\n",
    "            invasion_speed = (events_match[0]['eventSec'] + offset, (np.max(weights) - weights[0])/delta_t**2) \n",
    "            team2invasion_speed[team_id].append(invasion_speed)\n",
    "        \n",
    "        # add invasion index of current action\n",
    "        invasion_index = (events_match[0]['eventSec'] + offset, np.max(weights))\n",
    "        team2invasion_index[team_id].append(invasion_index)\n",
    "    \n",
    "    return team2invasion_index, team2invasion_speed, match_label"
   ]
  },
  {
   "cell_type": "code",
   "execution_count": null,
   "metadata": {
    "hidden": true
   },
   "outputs": [],
   "source": [
    "team2inv_index, team2inv_speed, match_label = get_invasion_index(match_id2events,\n",
    "                                                                 match_id=2576263)"
   ]
  },
  {
   "cell_type": "code",
   "execution_count": null,
   "metadata": {
    "hidden": true
   },
   "outputs": [],
   "source": [
    "plot_invasion_and_acceleration_index(match_label, team2inv_index, team2inv_speed)"
   ]
  },
  {
   "cell_type": "markdown",
   "metadata": {
    "heading_collapsed": true
   },
   "source": [
    "## 9.B. <a id=\"passing_networks\">Passing networks</a>\n",
    "A player passing network is a weighted network where nodes are players and weighted edges represent movements of the ball between players.\n",
    "\n",
    "In soccer-logs we do not have direct information about the destination player, i.e., the player to which the pass is directed. We infer this information by sorting all the events and looking at the outcome of each pass event. If the pass event of player $u_1$ of team $A$ is accurate and the next event   is by a teammate $u_2$, we assume that player $u_2$ is the destination player of the pass.\n",
    "\n",
    "```\n",
    "Cintia et al., The harsh rule of the goals: data-driven performance indicators for football teams, In Proceedings of the 2015 IEEE International Conference on Data Science and Advanced Analytics (DSAA'2015), 2015, https://ieeexplore.ieee.org/document/7344823.\n",
    "```"
   ]
  },
  {
   "cell_type": "code",
   "execution_count": null,
   "metadata": {
    "hidden": true
   },
   "outputs": [],
   "source": [
    "def passing_networks(match_id=2576105):\n",
    "    \"\"\"\n",
    "    Construct the passing networks of the teams in the match.\n",
    "    \n",
    "    Parameters\n",
    "    ----------\n",
    "    match_id : int, optional\n",
    "        identifier of the match to plot\n",
    "        \n",
    "    Returns\n",
    "    -------\n",
    "    tuple\n",
    "        the two constructed networks, as networkx objects.\n",
    "    \"\"\"\n",
    "    \n",
    "    # take the names of the two teams of the match\n",
    "    match_label = match_id2match[match_id]['label']\n",
    "    team1_name = match_label.split('-')[0].split(' ')[0]\n",
    "    team2_name = match_label.split('-')[1].split(' ')[1].split(',')[0]\n",
    "    \n",
    "    # take all the events of the match\n",
    "    match_events = []\n",
    "    for event in match_id2events[match_id]:\n",
    "        if event['eventName'] == 'Pass':\n",
    "            match_events.append(event)\n",
    "\n",
    "    match_events_df = pd.DataFrame(match_events)\n",
    "    first_half_max_duration = np.max(match_events_df[match_events_df['matchPeriod'] == '1H']['eventSec'])\n",
    "\n",
    "    # sum 1H time end to all the time in 2H\n",
    "    for event in match_events:\n",
    "        if event['matchPeriod'] == '2H':\n",
    "            event['eventSec'] += first_half_max_duration\n",
    "    \n",
    "    team2pass2weight = defaultdict(lambda: defaultdict(int))\n",
    "    for event, next_event, next_next_event in zip(match_events, match_events[1:], match_events[2:]):\n",
    "        try:\n",
    "            if event['eventName'] == 'Pass' and ACCURATE_PASS in [tag['id'] for tag in event['tags']]:\n",
    "                sender = player_id2player[event['playerId']]['shortName'].encode('ascii', 'strict').decode('unicode-escape')\n",
    "                # case of duel\n",
    "                if next_event['eventName'] == 'Duel':\n",
    "                    # if the next event of from a playero of the same tema\n",
    "                    if next_event['teamId'] == event['teamId']:\n",
    "                        receiver = player_id2player[next_event['playerId']]['shortName'].encode('ascii', 'strict').decode('unicode-escape')\n",
    "                        team2pass2weight[team_id2team[event['teamId']]['name']][(sender, receiver)] += 1\n",
    "                    else:\n",
    "                        receiver = player_id2player[next_next_event['playerId']]['shortName'].encode('ascii', 'strict').decode('unicode-escape')\n",
    "                        team2pass2weight[team_id2team[event['teamId']]['name']][(sender, receiver)] += 1\n",
    "                else:  # any other event \n",
    "                    if next_event['teamId'] == event['teamId']:\n",
    "                        receiver = player_id2player[next_event['playerId']]['shortName'].encode('ascii', 'strict').decode('unicode-escape')\n",
    "                        team2pass2weight[team_id2team[event['teamId']]['name']][(sender, receiver)] += 1\n",
    "        except KeyError:\n",
    "            pass\n",
    "    # crete networkx graphs\n",
    "    G1, G2 = nx.DiGraph(team=team1_name), nx.DiGraph(team=team2_name)\n",
    "    for (sender, receiver), weight in team2pass2weight[team1_name].items():\n",
    "        G1.add_edge(sender, receiver, weight=weight)\n",
    "    for (sender, receiver), weight in team2pass2weight[team2_name].items():\n",
    "        G2.add_edge(sender, receiver, weight=weight)    \n",
    "    \n",
    "    return G1, G2"
   ]
  },
  {
   "cell_type": "code",
   "execution_count": null,
   "metadata": {
    "code_folding": [],
    "hidden": true
   },
   "outputs": [],
   "source": [
    "def plot_passing_networks(G1, G2):\n",
    "    \"\"\"\n",
    "    Plot the two passing networks in input.\n",
    "    \n",
    "    Parameters\n",
    "    ----------\n",
    "    G1 : networkx object\n",
    "        the object representing the first network\n",
    "        \n",
    "    G2 : networkx object\n",
    "        the object representing the second network\n",
    "    \"\"\"\n",
    "    pos1 = nx.spring_layout(G1, 4)\n",
    "    pos2 = nx.spring_layout(G2, 4)\n",
    "    nome2degree = dict(G1.degree)\n",
    "    nx.draw(G1, pos=pos1, nodelist=list(nome2degree.keys()), \n",
    "            node_size=[deg * 50 for deg in nome2degree.values()], \n",
    "            node_color='red', edge_color='black',\n",
    "            with_labels=True, font_weight='bold', alpha=0.75)\n",
    "    plt.show()\n",
    "    \n",
    "    nome2degree = dict(G2.degree)\n",
    "    nx.draw(G2, pos=pos2, nodelist=list(nome2degree.keys()), \n",
    "            node_size=[deg * 50 for deg in nome2degree.values()],\n",
    "            node_color='blue', edge_color='black',\n",
    "            with_labels=True, font_weight='bold', alpha=0.75)\n",
    "    plt.show()"
   ]
  },
  {
   "cell_type": "code",
   "execution_count": null,
   "metadata": {
    "hidden": true
   },
   "outputs": [],
   "source": [
    "G1, G2 = passing_networks(match_id=2576105)"
   ]
  },
  {
   "cell_type": "code",
   "execution_count": null,
   "metadata": {
    "hidden": true
   },
   "outputs": [],
   "source": [
    "plot_passing_networks(G1, G2)"
   ]
  },
  {
   "cell_type": "markdown",
   "metadata": {
    "heading_collapsed": true,
    "hidden": true
   },
   "source": [
    "### 9.B. <a id='flow_centrality'>Flow centrality</a>\n",
    "\n",
    "The **flow centrality** captures the fraction of times that a player intervenes in those paths that result in a shot. We take into account defensive efficiency by letting each player start a number of paths proportional to the number of balls that he recovers during the match.\n",
    "\n",
    "```\n",
    "Duch et al., Quantifying the Performance of Individual Players in a Team Activity, PLoS ONE 5(6): e10937. https://doi.org/10.1371/journal.pone.00109372010https://doi.org/10.1371/journal.pone.0010937\n",
    "```"
   ]
  },
  {
   "cell_type": "markdown",
   "metadata": {
    "hidden": true
   },
   "source": [
    "### Distribution of the flow centrality"
   ]
  },
  {
   "cell_type": "code",
   "execution_count": null,
   "metadata": {
    "hidden": true
   },
   "outputs": [],
   "source": [
    "def get_players_flow_centrality():\n",
    "    \"\"\"\n",
    "    Compute the sequence of flow centralities for each player.\n",
    "        \n",
    "    Returns\n",
    "    -------\n",
    "    dict\n",
    "        a dictionary of player names to a list of flow centralities\n",
    "        (one per each match played by the player).\n",
    "    \"\"\"\n",
    "    player2centralities = defaultdict(list)\n",
    "    for match in tqdm(match_id2match.values()):\n",
    "        match_id = match['wyId']\n",
    "        G1, G2 = passing_networks(match_id=match_id)\n",
    "        if G1.number_of_nodes() > 0:\n",
    "            for player_name in G1.nodes():\n",
    "                G1 = G1.to_undirected()\n",
    "                if nx.is_connected(G1):\n",
    "                    flow_centrality = nx.current_flow_betweenness_centrality(G1)[player_name]\n",
    "                    player2centralities[player_name].append(flow_centrality)\n",
    "        if G2.number_of_nodes() > 0:\n",
    "            for player_name in G2.nodes():\n",
    "                G2 = G2.to_undirected()\n",
    "                if nx.is_connected(G2):\n",
    "                    flow_centrality = nx.current_flow_betweenness_centrality(G2)[player_name]\n",
    "                    player2centralities[player_name].append(flow_centrality)\n",
    "    return player2centralities"
   ]
  },
  {
   "cell_type": "code",
   "execution_count": null,
   "metadata": {
    "hidden": true
   },
   "outputs": [],
   "source": [
    "player2centralities = get_players_flow_centrality()"
   ]
  },
  {
   "cell_type": "code",
   "execution_count": null,
   "metadata": {
    "hidden": true
   },
   "outputs": [],
   "source": [
    "chiellini_fcs = player2centralities['G. Chiellini']\n",
    "immobile_fcs = player2centralities['C. Immobile']\n",
    "barella_fcs = player2centralities['N. Barella']"
   ]
  },
  {
   "cell_type": "code",
   "execution_count": null,
   "metadata": {
    "hidden": true
   },
   "outputs": [],
   "source": [
    "def plot_flow_centrality(players_centralities, names):\n",
    "    \"\"\"\n",
    "    Plot the flow centralities in time of the players.\n",
    "    \n",
    "    Parameters\n",
    "    ----------\n",
    "    players_centralities : list of lists\n",
    "        the list of the list of flow centralities of the player\n",
    "        \n",
    "    names : list\n",
    "        the list of players\n",
    "    \"\"\"\n",
    "    sns.set_style('ticks')\n",
    "\n",
    "    f,ax = plt.subplots(figsize=(10,5))\n",
    "    for player_centralities, player_name in zip(players_centralities, names):\n",
    "        sns.kdeplot(pd.DataFrame(player_centralities, columns=['flow centrality'])['flow centrality'], \n",
    "                    shade=True, label=player_name)\n",
    "    plt.grid(alpha=0.3)\n",
    "    plt.xticks(fontsize=18)\n",
    "    plt.yticks(fontsize=18)\n",
    "    plt.xlabel('flow centrality', fontsize=25)\n",
    "    plt.ylabel('p(flow centrality)', fontsize=25)\n",
    "    lab = ax.legend(loc=1,fontsize=18,frameon=True,shadow=True)\n",
    "    f.tight_layout()\n",
    "    plt.show()"
   ]
  },
  {
   "cell_type": "code",
   "execution_count": null,
   "metadata": {
    "hidden": true
   },
   "outputs": [],
   "source": [
    "plot_flow_centrality([chiellini_fcs, immobile_fcs, barella_fcs], \n",
    "                     ['Chiellini', 'Immobile', 'Barella'])"
   ]
  },
  {
   "cell_type": "markdown",
   "metadata": {},
   "source": [
    "## 9.C <a id='playerank'>PlayeRank</a>"
   ]
  },
  {
   "cell_type": "markdown",
   "metadata": {},
   "source": [
    "PlayeRank is a data-driven framework to evaluate the performance of soccer players, designed to work with match events. The PlayeRank framework consists of four main components:\n",
    "<ol type=\"a\">\n",
    "\t<li>match events database</li>\n",
    "\t<li>learning module</li>\n",
    "\t<li>rating module</li>\n",
    "\t<li>ranking module</li>\n",
    "</ol>\n",
    "\n",
    "![PlayeRank framework schema](https://raw.githubusercontent.com/mesosbrodleto/playerank/master/playerank_schema_tist.png)\n",
    "\n",
    "**Schema of the PlayeRank framework**. Starting from a database of match events **(a)**, it consists of three main phases. The learning phase **(c)** is an \"online\" procedure: It must be executed at least once before the other phases, since it generates information used in the other two phases, but then it can be updated separately. The rating **(b)** and the ranking phases **(d)** are online procedures, i.e., they are executed every time anew match is available in the database of match events. \n",
    "\n",
    "An exhaustive description of PlayeRank framework is available in this paper:\n",
    "```\n",
    "Pappalardo, Luca, Cintia, Paolo, Ferragina, Paolo, Massucco, Emanuele, Pedreschi, Dino & Giannotti, Fosca (2019) PlayeRank: Data-driven Performance Evaluation and Player Ranking in Soccer via a Machine Learning Approach. ACM Transactions on Intelligent Systems and Technologies 10(5), DOI:https://doi.org/10.1145/3343172\n",
    "```\n",
    "\n",
    "To build player rankings from match events, the following steps are required:\n",
    "\n",
    "1. compute feature weights (learning)\n",
    "2. compute roles (learning)\n",
    "3. compute performance scores (rating)\n",
    "4. aggregate performance scores (ranking)\n",
    "\n",
    "More details on our github repository: https://github.com/mesosbrodleto/playerank"
   ]
  },
  {
   "cell_type": "code",
   "execution_count": null,
   "metadata": {},
   "outputs": [],
   "source": [
    "!git clone https://github.com/mesosbrodleto/playerank.git\n",
    "!python playerank/playerank/setup.py install "
   ]
  },
  {
   "cell_type": "markdown",
   "metadata": {
    "heading_collapsed": true
   },
   "source": [
    "### Learning phase\n",
    "\n",
    "Here we create Features weight and Role detector. The following blocks store the results on two configuration files: *feature_weights.json* and *role_matrix.json*. We already provide such files, you can skip the execution of the learning blocks. "
   ]
  },
  {
   "cell_type": "markdown",
   "metadata": {
    "heading_collapsed": true,
    "hidden": true
   },
   "source": [
    "#### features weight\n",
    "\n",
    "We aggregate QualityFeatures and goal scored by team and matches. Features weight will be stored into a json file, to be used for performance scores computation.\n",
    "\n",
    "*QualityFeatures* are all the events with their corresponding outcomes. \n",
    "\n",
    "Example of quality feature:\n",
    "\n",
    "```{\n",
    "'match':  111,\n",
    "'feature': 'Pass-Simple Pass-accurate',\n",
    "'entity': 3890, \n",
    "'value': 400\n",
    "}```\n",
    "\n",
    "\n",
    "\n",
    "On learning phase, the `entity` for quality features is the team, while the value is the number of `feature` events observed for team in `match`\n",
    "\n",
    "*GoalScoredFeatures* are the goals difference for a team in a match.\n",
    "Example of GoalScored feature:\n",
    "\n",
    "\n",
    "```{ 'match': 111, 'feature': 'goal-scored', 'entity': 3159, 'value': -2 }```\n",
    "\n",
    "In this case, `entity` 3159  lost `match` 111 with a goals diffence of 2. (e.g. 0-2, 1-3, ...)"
   ]
  },
  {
   "cell_type": "raw",
   "metadata": {
    "hidden": true
   },
   "source": [
    "from playerank.playerank.features import qualityFeatures,relativeAggregation,goalScoredFeatures\n",
    "from playerank.playerank.models import Weighter\n",
    "\n",
    "\n",
    "qualityFeat = qualityFeatures.qualityFeatures()\n",
    "quality = qualityFeat.createFeature(events_path = 'data/events',\n",
    "                        players_file='data/players.json' ,entity = 'team')\n",
    "gs = goalScoredFeatures.goalScoredFeatures()\n",
    "goals = gs.createFeature('data/matches')\n",
    "\n",
    "#merging of quality features and goals scored\n",
    "aggregation = relativeAggregation.relativeAggregation()\n",
    "aggregation.set_features([quality,goals])\n",
    "df = aggregation.aggregate(to_dataframe = True)\n",
    "\n",
    "weighter = Weighter.Weighter(label_type='w-dl')\n",
    "output_path = \"feature_weights.json\"\n",
    "weighter.fit(df, target = 'goal-scored',  var_threshold = 0.02, filename=output_path)\n",
    "print (\"features weights stored in %s\"%output_path)"
   ]
  },
  {
   "cell_type": "markdown",
   "metadata": {
    "hidden": true
   },
   "source": [
    "#### roles matrix computation\n",
    "\n",
    "A role matrix is a data structure where, given x and y (integer, between 0 and 100),\n",
    "it contains the correspinding roles for a player having center of performance = x,y\n",
    "\n",
    "The structure of role_matrix is: x->y->role\n",
    "\n",
    "'kind' could be either 'multi' or 'single'. 'Multi' considers also hybrid roles, i.e. roles not definitely belonging to one single role. A player with an hybrid role has a center of performance that is in the edge between two roles (clusters). \n",
    "\n",
    "To compute roles, we create a new feature, named *centerOfPerformanceFeature*, in this format:\n",
    "\n",
    "```{\n",
    "'match':  111,\n",
    "'feature': 'avg_x' | 'avg_y',\n",
    "'entity': 3890, \n",
    "'value': 35.0\n",
    "} ```\n",
    "\n",
    "For each player, in each match, we compute both average x position and average y position. Then we aggregate it, in order to use them with a clustering function, that will results in the role detection module, stored into *role_matrix*. \n"
   ]
  },
  {
   "cell_type": "raw",
   "metadata": {
    "hidden": true
   },
   "source": [
    "from playerank.playerank.features import centerOfPerformanceFeature, plainAggregation\n",
    "from playerank.playerank.models import Clusterer\n",
    "import pandas as pd\n",
    "import json\n",
    "\n",
    "#getting average position for each player in each match\n",
    "centerfeat = centerOfPerformanceFeature.centerOfPerformanceFeature()\n",
    "centerfeat = centerfeat.createFeature(events_path = 'data/events',\n",
    "                    players_file='data/players.json')\n",
    "\n",
    "#plain aggregation to get a dataframe\n",
    "aggregation = plainAggregation.plainAggregation()\n",
    "aggregation.set_features([centerfeat])\n",
    "df = aggregation.aggregate(to_dataframe = True )\n",
    "\n",
    "#use clustering object to get the best fit\n",
    "clusterer = Clusterer.Clusterer(verbose=True, k_range=(8, 9))\n",
    "clusterer.fit(df.entity, df.match, df[['avg_x', 'avg_y']], kind='single')\n",
    "\n",
    "matrix_role = clusterer.get_clusters_matrix(kind = 'single') \n",
    "\n",
    "json.dump(matrix_role, open(\"role_matrix.json\",'w'))\n"
   ]
  },
  {
   "cell_type": "markdown",
   "metadata": {
    "heading_collapsed": true
   },
   "source": [
    "### Features weight"
   ]
  },
  {
   "cell_type": "code",
   "execution_count": null,
   "metadata": {
    "hidden": true,
    "scrolled": false
   },
   "outputs": [],
   "source": [
    "import plotly.graph_objs as go\n",
    "import plotly.offline as py\n",
    "import pandas as pd\n",
    "import json\n",
    "\n",
    "feature_data = json.load(open(\"feature_weights.json\"))\n",
    "\n",
    "fig = go.Figure([go.Bar(x=list(feature_data.keys()), y=list(feature_data.values()))])\n",
    "py.iplot(fig)"
   ]
  },
  {
   "cell_type": "markdown",
   "metadata": {
    "heading_collapsed": true
   },
   "source": [
    "### Role matrix"
   ]
  },
  {
   "cell_type": "code",
   "execution_count": null,
   "metadata": {
    "hidden": true
   },
   "outputs": [],
   "source": [
    "from collections import defaultdict\n",
    "\n",
    "matrix_role = json.load(open(\"role_matrix.json\",'r'))\n",
    "\n",
    "##we create a dictionary in the form: role->[list of points associated to the role]\n",
    "role_points = defaultdict(list)\n",
    "\n",
    "for x in matrix_role:\n",
    "    for y in matrix_role[x]:\n",
    "        role = matrix_role[x][y]\n",
    "        role_points[role].append((x,y))\n",
    "traces = []\n",
    "\n",
    "for role in role_points:\n",
    "    traces.append(go.Scatter(\n",
    "              x=[x[0] for x in role_points[role]],\n",
    "              y=[x[1] for x in role_points[role]],\n",
    "              mode='markers',\n",
    "              opacity=0.8,\n",
    "              marker={\n",
    "                  'size': 10,\n",
    "                  'line': {'width': 0.1, 'color': 'white'}\n",
    "              },\n",
    "              name=role\n",
    "          ))\n",
    "\n",
    "\n",
    "fig = go.Figure( data = traces + [\n",
    "                                go.Scatter(\n",
    "                                    showlegend=False,\n",
    "                                    y=[0, 100],\n",
    "                                    x=[50, 50],\n",
    "                                    mode='lines',\n",
    "                                    line={'width': 2, 'color': 'white'}\n",
    "                                ),\n",
    "                                go.Scatter(\n",
    "                                    showlegend=False,\n",
    "                                    y=[20, 20, 80, 80],\n",
    "                                    x=[0, 16, 16, 0],\n",
    "                                    mode='lines',\n",
    "                                    line={'width': 2, 'color': 'white'},\n",
    "                                ),\n",
    "                                go.Scatter(\n",
    "                                    showlegend=False,\n",
    "                                    y=[20, 20, 80, 80],\n",
    "                                    x=[100, 84, 84, 100],\n",
    "                                    mode='lines',\n",
    "                                    line={'width': 2, 'color': 'white'}\n",
    "                                ),\n",
    "                                go.Scatter(\n",
    "                                    showlegend=False,\n",
    "                                    y=[35, 35, 65, 65],\n",
    "                                    x=[100, 94, 94, 100],\n",
    "                                    mode='lines',\n",
    "                                    line={'width': 2, 'color': 'white'}\n",
    "                                ),\n",
    "                                go.Scatter(\n",
    "                                    showlegend=False,\n",
    "                                    y=[35, 35, 65, 65],\n",
    "                                    x=[0, 6, 6, 0],\n",
    "                                    mode='lines',\n",
    "                                    line={'width': 2, 'color': 'white'}\n",
    "                                ), ],\n",
    "\n",
    "                            layout = \n",
    "                                go.Layout(\n",
    "                                    hovermode='closest',\n",
    "                                    autosize=True,\n",
    "                                    width=550,\n",
    "                                    height=400,\n",
    "                                    plot_bgcolor='rgb(59,205,55)',\n",
    "                                    xaxis={\n",
    "                                        'range': [0, 100],\n",
    "                                        'showgrid': False,\n",
    "                                        'showticklabels': False,\n",
    "                                    },\n",
    "                                    yaxis={\n",
    "                                        'range': [0, 100],\n",
    "                                        'showgrid': False,\n",
    "                                        'showticklabels': False,\n",
    "                                    },\n",
    "                                    shapes=[\n",
    "                                        {\n",
    "                                            'type': 'circle',\n",
    "                                            'xref': 'x',\n",
    "                                            'yref': 'y',\n",
    "                                            'y0': 30,\n",
    "                                            'x0': 35,\n",
    "                                            'y1': 70,\n",
    "                                            'x1': 65,\n",
    "                                            'line': {\n",
    "                                                'color': 'white',\n",
    "                                            },\n",
    "                                        }]) )\n",
    "                                \n",
    "py.iplot(fig)"
   ]
  },
  {
   "cell_type": "markdown",
   "metadata": {},
   "source": [
    "### Playerank scores computation"
   ]
  },
  {
   "cell_type": "markdown",
   "metadata": {},
   "source": [
    "Conversely to learning phase, we now compute quality features aggregating by player.\n",
    "\n",
    "*QualityFeatures* are all the events with their corresponding outcomes. \n",
    "\n",
    "Example of quality feature:\n",
    "\n",
    "``` \n",
    "{\n",
    "'match':  111,\n",
    "'feature': 'Pass-Simple Pass-accurate',\n",
    "'entity': 311032, \n",
    "'value': 400\n",
    "}\n",
    "```\n",
    "\n",
    "\n",
    "\n",
    "\n",
    "\n",
    "\n",
    "\n",
    "In this phase, the `entity` for quality features is the player, while the value is the number of `feature` events observed for player, in  `match`"
   ]
  },
  {
   "cell_type": "code",
   "execution_count": null,
   "metadata": {},
   "outputs": [],
   "source": [
    "from playerank.playerank.models import Weighter\n",
    "\n",
    "from playerank.playerank.features import centerOfPerformanceFeature,qualityFeatures,playerankFeatures, plainAggregation, matchPlayedFeatures,roleFeatures\n",
    "import sys,json"
   ]
  },
  {
   "cell_type": "code",
   "execution_count": null,
   "metadata": {},
   "outputs": [],
   "source": [
    "qualityFeat = qualityFeatures.qualityFeatures()\n",
    "quality= qualityFeat.createFeature(events_path = 'data/events/*Italy.json',\n",
    "                    players_file='data/players.json', entity = 'player' )"
   ]
  },
  {
   "cell_type": "markdown",
   "metadata": {},
   "source": [
    "We computed feature weights during the learning phase. Now we compute the performane scores, by applying feature weights to quality features.\n",
    "\n",
    "We obtain playerank features, i.e. features in this format:\n",
    "\n",
    "{\n",
    "'match':  111,\n",
    "'feature': 'playerank_score',\n",
    "'entity': 311032, \n",
    "'value': 0.2\n",
    "}"
   ]
  },
  {
   "cell_type": "code",
   "execution_count": null,
   "metadata": {},
   "outputs": [],
   "source": [
    "weights_file ='feature_weights.json'\n",
    "\n",
    "prFeat = playerankFeatures.playerankFeatures()\n",
    "prFeat.set_features([quality])\n",
    "pr= prFeat.createFeature(weights_file)\n"
   ]
  },
  {
   "cell_type": "markdown",
   "metadata": {},
   "source": [
    "We then compute goal scored for each player, and other features such as: minutes played, player's team and timestamp of the performance."
   ]
  },
  {
   "cell_type": "code",
   "execution_count": null,
   "metadata": {},
   "outputs": [],
   "source": [
    "matchPlayedFeat = matchPlayedFeatures.matchPlayedFeatures()\n",
    "matchplayed = matchPlayedFeat.createFeature(matches_path = 'data/matches/*Italy.json',\n",
    "                    players_file='data/players.json')\n",
    "\n"
   ]
  },
  {
   "cell_type": "markdown",
   "metadata": {},
   "source": [
    "We compute center of performance for each player in each match. We use such centers to compute role of each player in eact match, using the matrix role computed during the learning phase"
   ]
  },
  {
   "cell_type": "code",
   "execution_count": null,
   "metadata": {},
   "outputs": [],
   "source": [
    "center_performance = centerOfPerformanceFeature.centerOfPerformanceFeature()\n",
    "\n",
    "center_performance = center_performance.createFeature(events_path = 'data/events/*Italy.json',\n",
    "                                        players_file = 'data/players.json' )\n",
    "\n",
    "\n",
    "roleFeat = roleFeatures.roleFeatures()\n",
    "roleFeat.set_features([center_performance])\n",
    "roles= roleFeat.createFeature(matrix_role_file = 'role_matrix.json')"
   ]
  },
  {
   "cell_type": "markdown",
   "metadata": {},
   "source": [
    "Finally, we compute player ratings, by normalizing playerank scores and combining them with goals scored, given the goal weight assigned by the user (default goal weight is 0)"
   ]
  },
  {
   "cell_type": "code",
   "execution_count": null,
   "metadata": {},
   "outputs": [],
   "source": [
    "from playerank.playerank.models import Rater\n",
    "\n",
    "\n",
    "aggregation = plainAggregation.plainAggregation()\n",
    "\n",
    "aggregation.set_features([matchplayed,pr,roles])\n",
    "\n",
    "df = aggregation.aggregate(to_dataframe = True)\n",
    "\n",
    "weighter = Rater.Rater(alpha_goal = 0.1) #we set goal weight as 10% of total performance score\n",
    "\n",
    "df['ratings'] = weighter.predict(df,  'playerankScore', 'goalScored')\n",
    "\n"
   ]
  },
  {
   "cell_type": "markdown",
   "metadata": {},
   "source": [
    "#### playerank scores aggregation by role"
   ]
  },
  {
   "cell_type": "code",
   "execution_count": null,
   "metadata": {},
   "outputs": [],
   "source": [
    "#from pandas.compat import u\n",
    "\n",
    "grouped = df[['entity','roleCluster', 'ratings']].groupby(['entity','roleCluster']).agg(['mean','count'])\n",
    "grouped = grouped.reset_index()\n",
    "\n",
    "players = pd.read_json(('data/players.json'))\n",
    "players = players[['wyId','shortName']]\n",
    "players['entity'] = players['wyId']\n",
    "\n",
    "grouped = pd.merge(grouped,players, on='entity')\n",
    "grouped['shortName'] = grouped['shortName'].apply(lambda x: x.encode().decode('unicode_escape'))\n",
    "grouped.columns = ['entity', 'entity', 'roleCluster', 'ratings_mean', 'ratings_count','wyId','shortName']\n",
    "grouped = grouped[grouped['ratings_count'] > 15]"
   ]
  },
  {
   "cell_type": "code",
   "execution_count": null,
   "metadata": {
    "code_folding": []
   },
   "outputs": [],
   "source": [
    "import plotly.graph_objs as go\n",
    "import plotly.offline as py\n",
    "import pandas as pd\n",
    "import json\n",
    "colors = ['blue', 'green', 'red', 'cyan', 'magenta', 'maroon', 'crimson', 'orange']\n",
    "    \n",
    "cluster2color = {cluster: color for cluster, color in zip(grouped['roleCluster'].unique(), colors)}\n",
    "\n",
    "traces = []\n",
    "for cluster in grouped['roleCluster'].unique():\n",
    " \n",
    "  trace = go.Box(\n",
    "              y=grouped[grouped['roleCluster'] == cluster]['ratings_mean'].values,\n",
    "              boxpoints='all',\n",
    "              jitter=0.8,\n",
    "              pointpos=0,\n",
    "              name=cluster,\n",
    "              text=grouped[grouped['roleCluster'] == cluster]['shortName'],\n",
    "              marker=dict(color=cluster2color[cluster], size=3),\n",
    "              hoverinfo='text'\n",
    "          )\n",
    "  traces.append(trace)\n",
    "\n",
    "  \n",
    "figure=go.Figure(\n",
    "                  data=traces,\n",
    "                  layout=go.Layout(\n",
    "                      title='Best performance of players by role',\n",
    "                      xaxis=dict(title=\"role\", zeroline=True, showgrid=False,\n",
    "                                 zerolinewidth=2),\n",
    "                      yaxis=dict(title=\"PlayeRank score\", zeroline=True, showgrid=False),\n",
    "                      showlegend=False,\n",
    "                      # autosize=True,\n",
    "                  ),\n",
    "              )\n",
    "\n",
    "py.iplot(figure)"
   ]
  },
  {
   "cell_type": "markdown",
   "metadata": {},
   "source": [
    "#### compare playerank scores over time"
   ]
  },
  {
   "cell_type": "code",
   "execution_count": null,
   "metadata": {},
   "outputs": [],
   "source": [
    "df_evolution = pd.merge(df,players, on = \"entity\") #adding player names to playerank dataframe"
   ]
  },
  {
   "cell_type": "code",
   "execution_count": null,
   "metadata": {},
   "outputs": [],
   "source": [
    "def compare_player(b):\n",
    "    trace_A =  go.Line(\n",
    "        x = df_evolution[df_evolution.shortName == playerA.value][\"timestamp\"],\n",
    "        y = df_evolution[df_evolution.shortName == playerA.value][\"ratings\"],\n",
    "        name = playerA.value\n",
    "    )\n",
    "    trace_B =  go.Line(\n",
    "        x = df_evolution[df_evolution.shortName == playerB.value][\"timestamp\"],\n",
    "        y = df_evolution[df_evolution.shortName == playerB.value][\"ratings\"],\n",
    "        name = playerB.value\n",
    "    )\n",
    "    traces = [trace_A,trace_B]\n",
    "    figure=go.Figure(\n",
    "                  data=traces,\n",
    "                  layout=go.Layout(\n",
    "                      title='Performance Comparison',\n",
    "                      xaxis=dict(title=\"timestamp\", zeroline=True, showgrid=False,\n",
    "                                 zerolinewidth=2),\n",
    "                      yaxis=dict(title=\"PlayeRank score\", zeroline=True, showgrid=False),\n",
    "                      showlegend=True,\n",
    "                      # autosize=True,\n",
    "                  ),\n",
    "              )\n",
    "\n",
    "    py.iplot(figure)"
   ]
  },
  {
   "cell_type": "code",
   "execution_count": null,
   "metadata": {
    "scrolled": false
   },
   "outputs": [],
   "source": [
    "import ipywidgets as widgets\n",
    "f_list = sorted(df_evolution[\"shortName\"].drop_duplicates())\n",
    "playerA = widgets.Dropdown(options=f_list)\n",
    "playerB = widgets.Dropdown(options=f_list)\n",
    "button = widgets.Button(description = \"compare\")\n",
    "button.on_click(compare_player)\n",
    "widgets.HBox([playerA,playerB, button])\n"
   ]
  },
  {
   "cell_type": "code",
   "execution_count": null,
   "metadata": {},
   "outputs": [],
   "source": [
    "df"
   ]
  },
  {
   "cell_type": "code",
   "execution_count": null,
   "metadata": {},
   "outputs": [],
   "source": []
  }
 ],
 "metadata": {
  "hide_input": false,
  "kernelspec": {
   "display_name": "Python [conda:soccerenv]",
   "language": "python",
   "name": "soccerenv"
  },
  "language_info": {
   "codemirror_mode": {
    "name": "ipython",
    "version": 3
   },
   "file_extension": ".py",
   "mimetype": "text/x-python",
   "name": "python",
   "nbconvert_exporter": "python",
   "pygments_lexer": "ipython3",
   "version": "3.7.6"
  },
  "latex_envs": {
   "LaTeX_envs_menu_present": true,
   "autoclose": false,
   "autocomplete": true,
   "bibliofile": "biblio.bib",
   "cite_by": "apalike",
   "current_citInitial": 1,
   "eqLabelWithNumbers": true,
   "eqNumInitial": 1,
   "hotkeys": {
    "equation": "Ctrl-E",
    "itemize": "Ctrl-I"
   },
   "labels_anchors": false,
   "latex_user_defs": false,
   "report_style_numbering": true,
   "user_envs_cfg": false
  }
 },
 "nbformat": 4,
 "nbformat_minor": 4
}
